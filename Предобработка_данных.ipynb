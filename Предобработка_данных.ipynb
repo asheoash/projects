{
 "cells": [
  {
   "cell_type": "markdown",
   "id": "17174d71",
   "metadata": {
    "deletable": false,
    "editable": false,
    "id": "c81daeeb"
   },
   "source": [
    "# Исследование надежности заемщиков\n"
   ]
  },
  {
   "cell_type": "markdown",
   "id": "8f8df208",
   "metadata": {
    "deletable": false,
    "editable": false,
    "id": "827c20bf"
   },
   "source": [
    "Во второй части проекта вы выполните шаги 3 и 4. Их вручную проверит ревьюер.\n",
    "Чтобы вам не пришлось писать код заново для шагов 1 и 2, мы добавили авторские решения в ячейки с кодом. \n",
    "\n"
   ]
  },
  {
   "cell_type": "markdown",
   "id": "84b861f3",
   "metadata": {
    "deletable": false,
    "editable": false,
    "id": "744d7639"
   },
   "source": [
    "## Откройте таблицу и изучите общую информацию о данных"
   ]
  },
  {
   "cell_type": "markdown",
   "id": "64e48c92",
   "metadata": {
    "deletable": false,
    "editable": false,
    "id": "e7a14c31"
   },
   "source": [
    "**Задание 1. Импортируйте библиотеку pandas. Считайте данные из csv-файла в датафрейм и сохраните в переменную `data`. Путь к файлу:**\n",
    "\n",
    "`/datasets/data.csv`"
   ]
  },
  {
   "cell_type": "code",
   "execution_count": 2,
   "id": "a5ae58b1",
   "metadata": {
    "deletable": false,
    "id": "7bcf75c9"
   },
   "outputs": [],
   "source": [
    "import pandas as pd\n",
    "\n",
    "try:\n",
    "    data = pd.read_csv('/datasets/data.csv')\n",
    "except:\n",
    "    data = pd.read_csv('https://code.s3.yandex.net/datasets/data.csv')"
   ]
  },
  {
   "cell_type": "markdown",
   "id": "30f113b8",
   "metadata": {
    "deletable": false,
    "editable": false,
    "id": "b8038fe3"
   },
   "source": [
    "**Задание 2. Выведите первые 20 строчек датафрейма `data` на экран.**"
   ]
  },
  {
   "cell_type": "code",
   "execution_count": 3,
   "id": "58421ac5",
   "metadata": {
    "deletable": false,
    "id": "2a7cab99",
    "outputId": "1a8f3ef2-d323-4ec2-ddf7-89670b5944c4"
   },
   "outputs": [
    {
     "data": {
      "text/html": [
       "<div>\n",
       "<style scoped>\n",
       "    .dataframe tbody tr th:only-of-type {\n",
       "        vertical-align: middle;\n",
       "    }\n",
       "\n",
       "    .dataframe tbody tr th {\n",
       "        vertical-align: top;\n",
       "    }\n",
       "\n",
       "    .dataframe thead th {\n",
       "        text-align: right;\n",
       "    }\n",
       "</style>\n",
       "<table border=\"1\" class=\"dataframe\">\n",
       "  <thead>\n",
       "    <tr style=\"text-align: right;\">\n",
       "      <th></th>\n",
       "      <th>children</th>\n",
       "      <th>days_employed</th>\n",
       "      <th>dob_years</th>\n",
       "      <th>education</th>\n",
       "      <th>education_id</th>\n",
       "      <th>family_status</th>\n",
       "      <th>family_status_id</th>\n",
       "      <th>gender</th>\n",
       "      <th>income_type</th>\n",
       "      <th>debt</th>\n",
       "      <th>total_income</th>\n",
       "      <th>purpose</th>\n",
       "    </tr>\n",
       "  </thead>\n",
       "  <tbody>\n",
       "    <tr>\n",
       "      <th>0</th>\n",
       "      <td>1</td>\n",
       "      <td>-8437.673028</td>\n",
       "      <td>42</td>\n",
       "      <td>высшее</td>\n",
       "      <td>0</td>\n",
       "      <td>женат / замужем</td>\n",
       "      <td>0</td>\n",
       "      <td>F</td>\n",
       "      <td>сотрудник</td>\n",
       "      <td>0</td>\n",
       "      <td>253875.639453</td>\n",
       "      <td>покупка жилья</td>\n",
       "    </tr>\n",
       "    <tr>\n",
       "      <th>1</th>\n",
       "      <td>1</td>\n",
       "      <td>-4024.803754</td>\n",
       "      <td>36</td>\n",
       "      <td>среднее</td>\n",
       "      <td>1</td>\n",
       "      <td>женат / замужем</td>\n",
       "      <td>0</td>\n",
       "      <td>F</td>\n",
       "      <td>сотрудник</td>\n",
       "      <td>0</td>\n",
       "      <td>112080.014102</td>\n",
       "      <td>приобретение автомобиля</td>\n",
       "    </tr>\n",
       "    <tr>\n",
       "      <th>2</th>\n",
       "      <td>0</td>\n",
       "      <td>-5623.422610</td>\n",
       "      <td>33</td>\n",
       "      <td>Среднее</td>\n",
       "      <td>1</td>\n",
       "      <td>женат / замужем</td>\n",
       "      <td>0</td>\n",
       "      <td>M</td>\n",
       "      <td>сотрудник</td>\n",
       "      <td>0</td>\n",
       "      <td>145885.952297</td>\n",
       "      <td>покупка жилья</td>\n",
       "    </tr>\n",
       "    <tr>\n",
       "      <th>3</th>\n",
       "      <td>3</td>\n",
       "      <td>-4124.747207</td>\n",
       "      <td>32</td>\n",
       "      <td>среднее</td>\n",
       "      <td>1</td>\n",
       "      <td>женат / замужем</td>\n",
       "      <td>0</td>\n",
       "      <td>M</td>\n",
       "      <td>сотрудник</td>\n",
       "      <td>0</td>\n",
       "      <td>267628.550329</td>\n",
       "      <td>дополнительное образование</td>\n",
       "    </tr>\n",
       "    <tr>\n",
       "      <th>4</th>\n",
       "      <td>0</td>\n",
       "      <td>340266.072047</td>\n",
       "      <td>53</td>\n",
       "      <td>среднее</td>\n",
       "      <td>1</td>\n",
       "      <td>гражданский брак</td>\n",
       "      <td>1</td>\n",
       "      <td>F</td>\n",
       "      <td>пенсионер</td>\n",
       "      <td>0</td>\n",
       "      <td>158616.077870</td>\n",
       "      <td>сыграть свадьбу</td>\n",
       "    </tr>\n",
       "    <tr>\n",
       "      <th>5</th>\n",
       "      <td>0</td>\n",
       "      <td>-926.185831</td>\n",
       "      <td>27</td>\n",
       "      <td>высшее</td>\n",
       "      <td>0</td>\n",
       "      <td>гражданский брак</td>\n",
       "      <td>1</td>\n",
       "      <td>M</td>\n",
       "      <td>компаньон</td>\n",
       "      <td>0</td>\n",
       "      <td>255763.565419</td>\n",
       "      <td>покупка жилья</td>\n",
       "    </tr>\n",
       "    <tr>\n",
       "      <th>6</th>\n",
       "      <td>0</td>\n",
       "      <td>-2879.202052</td>\n",
       "      <td>43</td>\n",
       "      <td>высшее</td>\n",
       "      <td>0</td>\n",
       "      <td>женат / замужем</td>\n",
       "      <td>0</td>\n",
       "      <td>F</td>\n",
       "      <td>компаньон</td>\n",
       "      <td>0</td>\n",
       "      <td>240525.971920</td>\n",
       "      <td>операции с жильем</td>\n",
       "    </tr>\n",
       "    <tr>\n",
       "      <th>7</th>\n",
       "      <td>0</td>\n",
       "      <td>-152.779569</td>\n",
       "      <td>50</td>\n",
       "      <td>СРЕДНЕЕ</td>\n",
       "      <td>1</td>\n",
       "      <td>женат / замужем</td>\n",
       "      <td>0</td>\n",
       "      <td>M</td>\n",
       "      <td>сотрудник</td>\n",
       "      <td>0</td>\n",
       "      <td>135823.934197</td>\n",
       "      <td>образование</td>\n",
       "    </tr>\n",
       "    <tr>\n",
       "      <th>8</th>\n",
       "      <td>2</td>\n",
       "      <td>-6929.865299</td>\n",
       "      <td>35</td>\n",
       "      <td>ВЫСШЕЕ</td>\n",
       "      <td>0</td>\n",
       "      <td>гражданский брак</td>\n",
       "      <td>1</td>\n",
       "      <td>F</td>\n",
       "      <td>сотрудник</td>\n",
       "      <td>0</td>\n",
       "      <td>95856.832424</td>\n",
       "      <td>на проведение свадьбы</td>\n",
       "    </tr>\n",
       "    <tr>\n",
       "      <th>9</th>\n",
       "      <td>0</td>\n",
       "      <td>-2188.756445</td>\n",
       "      <td>41</td>\n",
       "      <td>среднее</td>\n",
       "      <td>1</td>\n",
       "      <td>женат / замужем</td>\n",
       "      <td>0</td>\n",
       "      <td>M</td>\n",
       "      <td>сотрудник</td>\n",
       "      <td>0</td>\n",
       "      <td>144425.938277</td>\n",
       "      <td>покупка жилья для семьи</td>\n",
       "    </tr>\n",
       "    <tr>\n",
       "      <th>10</th>\n",
       "      <td>2</td>\n",
       "      <td>-4171.483647</td>\n",
       "      <td>36</td>\n",
       "      <td>высшее</td>\n",
       "      <td>0</td>\n",
       "      <td>женат / замужем</td>\n",
       "      <td>0</td>\n",
       "      <td>M</td>\n",
       "      <td>компаньон</td>\n",
       "      <td>0</td>\n",
       "      <td>113943.491460</td>\n",
       "      <td>покупка недвижимости</td>\n",
       "    </tr>\n",
       "    <tr>\n",
       "      <th>11</th>\n",
       "      <td>0</td>\n",
       "      <td>-792.701887</td>\n",
       "      <td>40</td>\n",
       "      <td>среднее</td>\n",
       "      <td>1</td>\n",
       "      <td>женат / замужем</td>\n",
       "      <td>0</td>\n",
       "      <td>F</td>\n",
       "      <td>сотрудник</td>\n",
       "      <td>0</td>\n",
       "      <td>77069.234271</td>\n",
       "      <td>покупка коммерческой недвижимости</td>\n",
       "    </tr>\n",
       "    <tr>\n",
       "      <th>12</th>\n",
       "      <td>0</td>\n",
       "      <td>NaN</td>\n",
       "      <td>65</td>\n",
       "      <td>среднее</td>\n",
       "      <td>1</td>\n",
       "      <td>гражданский брак</td>\n",
       "      <td>1</td>\n",
       "      <td>M</td>\n",
       "      <td>пенсионер</td>\n",
       "      <td>0</td>\n",
       "      <td>NaN</td>\n",
       "      <td>сыграть свадьбу</td>\n",
       "    </tr>\n",
       "    <tr>\n",
       "      <th>13</th>\n",
       "      <td>0</td>\n",
       "      <td>-1846.641941</td>\n",
       "      <td>54</td>\n",
       "      <td>неоконченное высшее</td>\n",
       "      <td>2</td>\n",
       "      <td>женат / замужем</td>\n",
       "      <td>0</td>\n",
       "      <td>F</td>\n",
       "      <td>сотрудник</td>\n",
       "      <td>0</td>\n",
       "      <td>130458.228857</td>\n",
       "      <td>приобретение автомобиля</td>\n",
       "    </tr>\n",
       "    <tr>\n",
       "      <th>14</th>\n",
       "      <td>0</td>\n",
       "      <td>-1844.956182</td>\n",
       "      <td>56</td>\n",
       "      <td>высшее</td>\n",
       "      <td>0</td>\n",
       "      <td>гражданский брак</td>\n",
       "      <td>1</td>\n",
       "      <td>F</td>\n",
       "      <td>компаньон</td>\n",
       "      <td>1</td>\n",
       "      <td>165127.911772</td>\n",
       "      <td>покупка жилой недвижимости</td>\n",
       "    </tr>\n",
       "    <tr>\n",
       "      <th>15</th>\n",
       "      <td>1</td>\n",
       "      <td>-972.364419</td>\n",
       "      <td>26</td>\n",
       "      <td>среднее</td>\n",
       "      <td>1</td>\n",
       "      <td>женат / замужем</td>\n",
       "      <td>0</td>\n",
       "      <td>F</td>\n",
       "      <td>сотрудник</td>\n",
       "      <td>0</td>\n",
       "      <td>116820.904450</td>\n",
       "      <td>строительство собственной недвижимости</td>\n",
       "    </tr>\n",
       "    <tr>\n",
       "      <th>16</th>\n",
       "      <td>0</td>\n",
       "      <td>-1719.934226</td>\n",
       "      <td>35</td>\n",
       "      <td>среднее</td>\n",
       "      <td>1</td>\n",
       "      <td>женат / замужем</td>\n",
       "      <td>0</td>\n",
       "      <td>F</td>\n",
       "      <td>сотрудник</td>\n",
       "      <td>0</td>\n",
       "      <td>289202.704229</td>\n",
       "      <td>недвижимость</td>\n",
       "    </tr>\n",
       "    <tr>\n",
       "      <th>17</th>\n",
       "      <td>0</td>\n",
       "      <td>-2369.999720</td>\n",
       "      <td>33</td>\n",
       "      <td>высшее</td>\n",
       "      <td>0</td>\n",
       "      <td>гражданский брак</td>\n",
       "      <td>1</td>\n",
       "      <td>M</td>\n",
       "      <td>сотрудник</td>\n",
       "      <td>0</td>\n",
       "      <td>90410.586745</td>\n",
       "      <td>строительство недвижимости</td>\n",
       "    </tr>\n",
       "    <tr>\n",
       "      <th>18</th>\n",
       "      <td>0</td>\n",
       "      <td>400281.136913</td>\n",
       "      <td>53</td>\n",
       "      <td>среднее</td>\n",
       "      <td>1</td>\n",
       "      <td>вдовец / вдова</td>\n",
       "      <td>2</td>\n",
       "      <td>F</td>\n",
       "      <td>пенсионер</td>\n",
       "      <td>0</td>\n",
       "      <td>56823.777243</td>\n",
       "      <td>на покупку подержанного автомобиля</td>\n",
       "    </tr>\n",
       "    <tr>\n",
       "      <th>19</th>\n",
       "      <td>0</td>\n",
       "      <td>-10038.818549</td>\n",
       "      <td>48</td>\n",
       "      <td>СРЕДНЕЕ</td>\n",
       "      <td>1</td>\n",
       "      <td>в разводе</td>\n",
       "      <td>3</td>\n",
       "      <td>F</td>\n",
       "      <td>сотрудник</td>\n",
       "      <td>0</td>\n",
       "      <td>242831.107982</td>\n",
       "      <td>на покупку своего автомобиля</td>\n",
       "    </tr>\n",
       "  </tbody>\n",
       "</table>\n",
       "</div>"
      ],
      "text/plain": [
       "    children  days_employed  dob_years            education  education_id  \\\n",
       "0          1   -8437.673028         42               высшее             0   \n",
       "1          1   -4024.803754         36              среднее             1   \n",
       "2          0   -5623.422610         33              Среднее             1   \n",
       "3          3   -4124.747207         32              среднее             1   \n",
       "4          0  340266.072047         53              среднее             1   \n",
       "5          0    -926.185831         27               высшее             0   \n",
       "6          0   -2879.202052         43               высшее             0   \n",
       "7          0    -152.779569         50              СРЕДНЕЕ             1   \n",
       "8          2   -6929.865299         35               ВЫСШЕЕ             0   \n",
       "9          0   -2188.756445         41              среднее             1   \n",
       "10         2   -4171.483647         36               высшее             0   \n",
       "11         0    -792.701887         40              среднее             1   \n",
       "12         0            NaN         65              среднее             1   \n",
       "13         0   -1846.641941         54  неоконченное высшее             2   \n",
       "14         0   -1844.956182         56               высшее             0   \n",
       "15         1    -972.364419         26              среднее             1   \n",
       "16         0   -1719.934226         35              среднее             1   \n",
       "17         0   -2369.999720         33               высшее             0   \n",
       "18         0  400281.136913         53              среднее             1   \n",
       "19         0  -10038.818549         48              СРЕДНЕЕ             1   \n",
       "\n",
       "       family_status  family_status_id gender income_type  debt  \\\n",
       "0    женат / замужем                 0      F   сотрудник     0   \n",
       "1    женат / замужем                 0      F   сотрудник     0   \n",
       "2    женат / замужем                 0      M   сотрудник     0   \n",
       "3    женат / замужем                 0      M   сотрудник     0   \n",
       "4   гражданский брак                 1      F   пенсионер     0   \n",
       "5   гражданский брак                 1      M   компаньон     0   \n",
       "6    женат / замужем                 0      F   компаньон     0   \n",
       "7    женат / замужем                 0      M   сотрудник     0   \n",
       "8   гражданский брак                 1      F   сотрудник     0   \n",
       "9    женат / замужем                 0      M   сотрудник     0   \n",
       "10   женат / замужем                 0      M   компаньон     0   \n",
       "11   женат / замужем                 0      F   сотрудник     0   \n",
       "12  гражданский брак                 1      M   пенсионер     0   \n",
       "13   женат / замужем                 0      F   сотрудник     0   \n",
       "14  гражданский брак                 1      F   компаньон     1   \n",
       "15   женат / замужем                 0      F   сотрудник     0   \n",
       "16   женат / замужем                 0      F   сотрудник     0   \n",
       "17  гражданский брак                 1      M   сотрудник     0   \n",
       "18    вдовец / вдова                 2      F   пенсионер     0   \n",
       "19         в разводе                 3      F   сотрудник     0   \n",
       "\n",
       "     total_income                                 purpose  \n",
       "0   253875.639453                           покупка жилья  \n",
       "1   112080.014102                 приобретение автомобиля  \n",
       "2   145885.952297                           покупка жилья  \n",
       "3   267628.550329              дополнительное образование  \n",
       "4   158616.077870                         сыграть свадьбу  \n",
       "5   255763.565419                           покупка жилья  \n",
       "6   240525.971920                       операции с жильем  \n",
       "7   135823.934197                             образование  \n",
       "8    95856.832424                   на проведение свадьбы  \n",
       "9   144425.938277                 покупка жилья для семьи  \n",
       "10  113943.491460                    покупка недвижимости  \n",
       "11   77069.234271       покупка коммерческой недвижимости  \n",
       "12            NaN                         сыграть свадьбу  \n",
       "13  130458.228857                 приобретение автомобиля  \n",
       "14  165127.911772              покупка жилой недвижимости  \n",
       "15  116820.904450  строительство собственной недвижимости  \n",
       "16  289202.704229                            недвижимость  \n",
       "17   90410.586745              строительство недвижимости  \n",
       "18   56823.777243      на покупку подержанного автомобиля  \n",
       "19  242831.107982            на покупку своего автомобиля  "
      ]
     },
     "execution_count": 3,
     "metadata": {},
     "output_type": "execute_result"
    }
   ],
   "source": [
    "data.head(20)"
   ]
  },
  {
   "cell_type": "markdown",
   "id": "de65c8fe",
   "metadata": {
    "deletable": false,
    "editable": false,
    "id": "1c12e233"
   },
   "source": [
    "**Задание 3. Выведите основную информацию о датафрейме с помощью метода `info()`.**"
   ]
  },
  {
   "cell_type": "code",
   "execution_count": 4,
   "id": "d07643dc",
   "metadata": {
    "deletable": false,
    "id": "2b757bca",
    "outputId": "15376089-8dad-46c9-b520-c05248d43158"
   },
   "outputs": [
    {
     "name": "stdout",
     "output_type": "stream",
     "text": [
      "<class 'pandas.core.frame.DataFrame'>\n",
      "RangeIndex: 21525 entries, 0 to 21524\n",
      "Data columns (total 12 columns):\n",
      " #   Column            Non-Null Count  Dtype  \n",
      "---  ------            --------------  -----  \n",
      " 0   children          21525 non-null  int64  \n",
      " 1   days_employed     19351 non-null  float64\n",
      " 2   dob_years         21525 non-null  int64  \n",
      " 3   education         21525 non-null  object \n",
      " 4   education_id      21525 non-null  int64  \n",
      " 5   family_status     21525 non-null  object \n",
      " 6   family_status_id  21525 non-null  int64  \n",
      " 7   gender            21525 non-null  object \n",
      " 8   income_type       21525 non-null  object \n",
      " 9   debt              21525 non-null  int64  \n",
      " 10  total_income      19351 non-null  float64\n",
      " 11  purpose           21525 non-null  object \n",
      "dtypes: float64(2), int64(5), object(5)\n",
      "memory usage: 2.0+ MB\n"
     ]
    }
   ],
   "source": [
    "data.info()"
   ]
  },
  {
   "cell_type": "markdown",
   "id": "99bef737",
   "metadata": {
    "deletable": false,
    "editable": false,
    "id": "333ec665"
   },
   "source": [
    "## Предобработка данных"
   ]
  },
  {
   "cell_type": "markdown",
   "id": "f850ae34",
   "metadata": {
    "deletable": false,
    "editable": false,
    "id": "02d92d53"
   },
   "source": [
    "### Удаление пропусков"
   ]
  },
  {
   "cell_type": "markdown",
   "id": "beed5a0a",
   "metadata": {
    "deletable": false,
    "editable": false,
    "id": "cd84967c"
   },
   "source": [
    "**Задание 4. Выведите количество пропущенных значений для каждого столбца. Используйте комбинацию двух методов.**"
   ]
  },
  {
   "cell_type": "code",
   "execution_count": 5,
   "id": "fd98e56d",
   "metadata": {
    "deletable": false,
    "id": "7f9b2309",
    "outputId": "81f4d817-781c-465c-ed15-91ce4446810d"
   },
   "outputs": [
    {
     "data": {
      "text/plain": [
       "children               0\n",
       "days_employed       2174\n",
       "dob_years              0\n",
       "education              0\n",
       "education_id           0\n",
       "family_status          0\n",
       "family_status_id       0\n",
       "gender                 0\n",
       "income_type            0\n",
       "debt                   0\n",
       "total_income        2174\n",
       "purpose                0\n",
       "dtype: int64"
      ]
     },
     "execution_count": 5,
     "metadata": {},
     "output_type": "execute_result"
    }
   ],
   "source": [
    "data.isna().sum()"
   ]
  },
  {
   "cell_type": "markdown",
   "id": "e488dfcc",
   "metadata": {
    "deletable": false,
    "editable": false,
    "id": "db86e27b"
   },
   "source": [
    "**Задание 5. В двух столбцах есть пропущенные значения. Один из них — `days_employed`. Пропуски в этом столбце вы обработаете на следующем этапе. Другой столбец с пропущенными значениями — `total_income` — хранит данные о доходах. На сумму дохода сильнее всего влияет тип занятости, поэтому заполнить пропуски в этом столбце нужно медианным значением по каждому типу из столбца `income_type`. Например, у человека с типом занятости `сотрудник` пропуск в столбце `total_income` должен быть заполнен медианным доходом среди всех записей с тем же типом.**"
   ]
  },
  {
   "cell_type": "code",
   "execution_count": 6,
   "id": "0fb289d8",
   "metadata": {
    "deletable": false,
    "id": "42006a93"
   },
   "outputs": [],
   "source": [
    "for t in data['income_type'].unique():\n",
    "    data.loc[(data['income_type'] == t) & (data['total_income'].isna()), 'total_income'] = \\\n",
    "    data.loc[(data['income_type'] == t), 'total_income'].median()"
   ]
  },
  {
   "cell_type": "markdown",
   "id": "fe359533",
   "metadata": {
    "deletable": false,
    "editable": false,
    "id": "89da5ece"
   },
   "source": [
    "### Обработка аномальных значений"
   ]
  },
  {
   "cell_type": "markdown",
   "id": "c34c67b1",
   "metadata": {
    "deletable": false,
    "editable": false,
    "id": "57964554"
   },
   "source": [
    "**Задание 6. В данных могут встречаться артефакты (аномалии) — значения, которые не отражают действительность и появились по какой-то ошибке. таким артефактом будет отрицательное количество дней трудового стажа в столбце `days_employed`. Для реальных данных это нормально. Обработайте значения в этом столбце: замените все отрицательные значения положительными с помощью метода `abs()`.**"
   ]
  },
  {
   "cell_type": "code",
   "execution_count": 7,
   "id": "04a268e6",
   "metadata": {
    "deletable": false,
    "id": "f6f055bf"
   },
   "outputs": [],
   "source": [
    "data['days_employed'] = data['days_employed'].abs()"
   ]
  },
  {
   "cell_type": "markdown",
   "id": "aeeb3d6e",
   "metadata": {
    "deletable": false,
    "editable": false,
    "id": "6107dd2f"
   },
   "source": [
    "**Задание 7. Для каждого типа занятости выведите медианное значение трудового стажа `days_employed` в днях.**"
   ]
  },
  {
   "cell_type": "code",
   "execution_count": 8,
   "id": "b18b95ed",
   "metadata": {
    "deletable": false,
    "id": "85a5faf6",
    "outputId": "801ef80e-522b-4668-f34e-565af7432bcf"
   },
   "outputs": [
    {
     "data": {
      "text/plain": [
       "income_type\n",
       "безработный        366413.652744\n",
       "в декрете            3296.759962\n",
       "госслужащий          2689.368353\n",
       "компаньон            1547.382223\n",
       "пенсионер          365213.306266\n",
       "предприниматель       520.848083\n",
       "сотрудник            1574.202821\n",
       "студент               578.751554\n",
       "Name: days_employed, dtype: float64"
      ]
     },
     "execution_count": 8,
     "metadata": {},
     "output_type": "execute_result"
    }
   ],
   "source": [
    "data.groupby('income_type')['days_employed'].agg('median')"
   ]
  },
  {
   "cell_type": "markdown",
   "id": "192302ef",
   "metadata": {
    "deletable": false,
    "editable": false,
    "id": "38d1a030"
   },
   "source": [
    "У двух типов (безработные и пенсионеры) получатся аномально большие значения. Исправить такие значения сложно, поэтому оставьте их как есть. Тем более этот столбец не понадобится вам для исследования."
   ]
  },
  {
   "cell_type": "markdown",
   "id": "45e59ec5",
   "metadata": {
    "deletable": false,
    "editable": false,
    "id": "d8a9f147"
   },
   "source": [
    "**Задание 8. Выведите перечень уникальных значений столбца `children`.**"
   ]
  },
  {
   "cell_type": "code",
   "execution_count": 9,
   "id": "f4dd4c7d",
   "metadata": {
    "deletable": false,
    "id": "ef5056eb",
    "outputId": "6975b15c-7f95-4697-d16d-a0c79b657b03"
   },
   "outputs": [
    {
     "data": {
      "text/plain": [
       "array([ 1,  0,  3,  2, -1,  4, 20,  5])"
      ]
     },
     "execution_count": 9,
     "metadata": {},
     "output_type": "execute_result"
    }
   ],
   "source": [
    "data['children'].unique()"
   ]
  },
  {
   "cell_type": "markdown",
   "id": "b0db84a2",
   "metadata": {
    "deletable": false,
    "editable": false,
    "id": "40b9ebf2"
   },
   "source": [
    "**Задание 9. В столбце `children` есть два аномальных значения. Удалите строки, в которых встречаются такие аномальные значения из датафрейма `data`.**"
   ]
  },
  {
   "cell_type": "code",
   "execution_count": 10,
   "id": "a2dbc29b",
   "metadata": {
    "deletable": false,
    "id": "3ff9801d"
   },
   "outputs": [],
   "source": [
    "data = data[(data['children'] != -1) & (data['children'] != 20)]"
   ]
  },
  {
   "cell_type": "markdown",
   "id": "6284df0e",
   "metadata": {
    "deletable": false,
    "editable": false,
    "id": "bbc4d0ce"
   },
   "source": [
    "**Задание 10. Ещё раз выведите перечень уникальных значений столбца `children`, чтобы убедиться, что артефакты удалены.**"
   ]
  },
  {
   "cell_type": "code",
   "execution_count": 11,
   "id": "783f0e38",
   "metadata": {
    "deletable": false,
    "id": "ad4fa8b7",
    "outputId": "b2097101-d49d-44d9-901b-32a65c9463d1"
   },
   "outputs": [
    {
     "data": {
      "text/plain": [
       "array([1, 0, 3, 2, 4, 5])"
      ]
     },
     "execution_count": 11,
     "metadata": {},
     "output_type": "execute_result"
    }
   ],
   "source": [
    "data['children'].unique()"
   ]
  },
  {
   "cell_type": "markdown",
   "id": "1038ec0f",
   "metadata": {
    "deletable": false,
    "editable": false,
    "id": "75440b63"
   },
   "source": [
    "### Удаление пропусков (продолжение)"
   ]
  },
  {
   "cell_type": "markdown",
   "id": "21b69626",
   "metadata": {
    "deletable": false,
    "editable": false,
    "id": "f4ea573f"
   },
   "source": [
    "**Задание 11. Заполните пропуски в столбце `days_employed` медианными значениями по каждого типа занятости `income_type`.**"
   ]
  },
  {
   "cell_type": "code",
   "execution_count": 12,
   "id": "9228114c",
   "metadata": {
    "deletable": false,
    "id": "af6b1a7e"
   },
   "outputs": [],
   "source": [
    "for t in data['income_type'].unique():\n",
    "    data.loc[(data['income_type'] == t) & (data['days_employed'].isna()), 'days_employed'] = \\\n",
    "    data.loc[(data['income_type'] == t), 'days_employed'].median()"
   ]
  },
  {
   "cell_type": "markdown",
   "id": "5da020d6",
   "metadata": {
    "deletable": false,
    "editable": false,
    "id": "2753f40d"
   },
   "source": [
    "**Задание 12. Убедитесь, что все пропуски заполнены. Проверьте себя и ещё раз выведите количество пропущенных значений для каждого столбца с помощью двух методов.**"
   ]
  },
  {
   "cell_type": "code",
   "execution_count": 13,
   "id": "a70c8be5",
   "metadata": {
    "deletable": false,
    "id": "55f78bc2",
    "outputId": "8da1e4e1-358e-4e87-98c9-f261bce0a7b2"
   },
   "outputs": [
    {
     "data": {
      "text/plain": [
       "children            0\n",
       "days_employed       0\n",
       "dob_years           0\n",
       "education           0\n",
       "education_id        0\n",
       "family_status       0\n",
       "family_status_id    0\n",
       "gender              0\n",
       "income_type         0\n",
       "debt                0\n",
       "total_income        0\n",
       "purpose             0\n",
       "dtype: int64"
      ]
     },
     "execution_count": 13,
     "metadata": {},
     "output_type": "execute_result"
    }
   ],
   "source": [
    "data.isna().sum()"
   ]
  },
  {
   "cell_type": "markdown",
   "id": "e9cc2d9a",
   "metadata": {
    "deletable": false,
    "editable": false,
    "id": "ddc81e43"
   },
   "source": [
    "### Изменение типов данных"
   ]
  },
  {
   "cell_type": "markdown",
   "id": "f66648af",
   "metadata": {
    "deletable": false,
    "editable": false,
    "id": "42d19d24"
   },
   "source": [
    "**Задание 13. Замените вещественный тип данных в столбце `total_income` на целочисленный с помощью метода `astype()`.**"
   ]
  },
  {
   "cell_type": "code",
   "execution_count": 14,
   "id": "2ae2b699",
   "metadata": {
    "deletable": false,
    "id": "920b65ad"
   },
   "outputs": [],
   "source": [
    "data['total_income'] = data['total_income'].astype(int)"
   ]
  },
  {
   "cell_type": "markdown",
   "id": "f14a32db",
   "metadata": {
    "deletable": false,
    "editable": false,
    "id": "80c420ba"
   },
   "source": [
    "### Обработка дубликатов"
   ]
  },
  {
   "cell_type": "markdown",
   "id": "10a975d0",
   "metadata": {
    "deletable": false,
    "editable": false
   },
   "source": [
    "**Задание 14. Обработайте неявные дубликаты в столбце `education`. В этом столбце есть одни и те же значения, но записанные по-разному: с использованием заглавных и строчных букв. Приведите их к нижнему регистру. Проверьте остальные столбцы.**"
   ]
  },
  {
   "cell_type": "code",
   "execution_count": 15,
   "id": "2bbe46bb",
   "metadata": {
    "deletable": false
   },
   "outputs": [],
   "source": [
    "data['education'] = data['education'].str.lower()"
   ]
  },
  {
   "cell_type": "markdown",
   "id": "34f16249",
   "metadata": {
    "deletable": false,
    "editable": false,
    "id": "dc587695"
   },
   "source": [
    "**Задание 15. Выведите на экран количество строк-дубликатов в данных. Если такие строки присутствуют, удалите их.**"
   ]
  },
  {
   "cell_type": "code",
   "execution_count": 16,
   "id": "a332c852",
   "metadata": {
    "deletable": false,
    "id": "3ee445e4",
    "outputId": "9684deba-1934-42d1-99e1-cda61740f822"
   },
   "outputs": [
    {
     "data": {
      "text/plain": [
       "71"
      ]
     },
     "execution_count": 16,
     "metadata": {},
     "output_type": "execute_result"
    }
   ],
   "source": [
    "data.duplicated().sum()"
   ]
  },
  {
   "cell_type": "code",
   "execution_count": 17,
   "id": "9479f025",
   "metadata": {
    "deletable": false,
    "id": "8575fe05"
   },
   "outputs": [],
   "source": [
    "data = data.drop_duplicates()"
   ]
  },
  {
   "cell_type": "markdown",
   "id": "a3d604bd",
   "metadata": {
    "deletable": false,
    "editable": false,
    "id": "9904cf55"
   },
   "source": [
    "### Категоризация данных"
   ]
  },
  {
   "cell_type": "markdown",
   "id": "6149c76a",
   "metadata": {
    "deletable": false,
    "editable": false,
    "id": "72fcc8a2"
   },
   "source": [
    "**Задание 16. На основании диапазонов, указанных ниже, создайте в датафрейме `data` столбец `total_income_category` с категориями:**\n",
    "\n",
    "- 0–30000 — `'E'`;\n",
    "- 30001–50000 — `'D'`;\n",
    "- 50001–200000 — `'C'`;\n",
    "- 200001–1000000 — `'B'`;\n",
    "- 1000001 и выше — `'A'`.\n",
    "\n",
    "\n",
    "**Например, кредитополучателю с доходом 25000 нужно назначить категорию `'E'`, а клиенту, получающему 235000, — `'B'`. Используйте собственную функцию с именем `categorize_income()` и метод `apply()`.**"
   ]
  },
  {
   "cell_type": "code",
   "execution_count": 18,
   "id": "9928246a",
   "metadata": {
    "deletable": false,
    "id": "e1771346"
   },
   "outputs": [],
   "source": [
    "def categorize_income(income):\n",
    "    try:\n",
    "        if 0 <= income <= 30000:\n",
    "            return 'E'\n",
    "        elif 30001 <= income <= 50000:\n",
    "            return 'D'\n",
    "        elif 50001 <= income <= 200000:\n",
    "            return 'C'\n",
    "        elif 200001 <= income <= 1000000:\n",
    "            return 'B'\n",
    "        elif income >= 1000001:\n",
    "            return 'A'\n",
    "    except:\n",
    "        pass"
   ]
  },
  {
   "cell_type": "code",
   "execution_count": 19,
   "id": "75205944",
   "metadata": {
    "deletable": false,
    "id": "d5f3586d"
   },
   "outputs": [
    {
     "data": {
      "text/html": [
       "<div>\n",
       "<style scoped>\n",
       "    .dataframe tbody tr th:only-of-type {\n",
       "        vertical-align: middle;\n",
       "    }\n",
       "\n",
       "    .dataframe tbody tr th {\n",
       "        vertical-align: top;\n",
       "    }\n",
       "\n",
       "    .dataframe thead th {\n",
       "        text-align: right;\n",
       "    }\n",
       "</style>\n",
       "<table border=\"1\" class=\"dataframe\">\n",
       "  <thead>\n",
       "    <tr style=\"text-align: right;\">\n",
       "      <th></th>\n",
       "      <th>children</th>\n",
       "      <th>days_employed</th>\n",
       "      <th>dob_years</th>\n",
       "      <th>education</th>\n",
       "      <th>education_id</th>\n",
       "      <th>family_status</th>\n",
       "      <th>family_status_id</th>\n",
       "      <th>gender</th>\n",
       "      <th>income_type</th>\n",
       "      <th>debt</th>\n",
       "      <th>total_income</th>\n",
       "      <th>purpose</th>\n",
       "      <th>total_income_category</th>\n",
       "    </tr>\n",
       "  </thead>\n",
       "  <tbody>\n",
       "    <tr>\n",
       "      <th>0</th>\n",
       "      <td>1</td>\n",
       "      <td>8437.673028</td>\n",
       "      <td>42</td>\n",
       "      <td>высшее</td>\n",
       "      <td>0</td>\n",
       "      <td>женат / замужем</td>\n",
       "      <td>0</td>\n",
       "      <td>F</td>\n",
       "      <td>сотрудник</td>\n",
       "      <td>0</td>\n",
       "      <td>253875</td>\n",
       "      <td>покупка жилья</td>\n",
       "      <td>B</td>\n",
       "    </tr>\n",
       "    <tr>\n",
       "      <th>1</th>\n",
       "      <td>1</td>\n",
       "      <td>4024.803754</td>\n",
       "      <td>36</td>\n",
       "      <td>среднее</td>\n",
       "      <td>1</td>\n",
       "      <td>женат / замужем</td>\n",
       "      <td>0</td>\n",
       "      <td>F</td>\n",
       "      <td>сотрудник</td>\n",
       "      <td>0</td>\n",
       "      <td>112080</td>\n",
       "      <td>приобретение автомобиля</td>\n",
       "      <td>C</td>\n",
       "    </tr>\n",
       "    <tr>\n",
       "      <th>2</th>\n",
       "      <td>0</td>\n",
       "      <td>5623.422610</td>\n",
       "      <td>33</td>\n",
       "      <td>среднее</td>\n",
       "      <td>1</td>\n",
       "      <td>женат / замужем</td>\n",
       "      <td>0</td>\n",
       "      <td>M</td>\n",
       "      <td>сотрудник</td>\n",
       "      <td>0</td>\n",
       "      <td>145885</td>\n",
       "      <td>покупка жилья</td>\n",
       "      <td>C</td>\n",
       "    </tr>\n",
       "    <tr>\n",
       "      <th>3</th>\n",
       "      <td>3</td>\n",
       "      <td>4124.747207</td>\n",
       "      <td>32</td>\n",
       "      <td>среднее</td>\n",
       "      <td>1</td>\n",
       "      <td>женат / замужем</td>\n",
       "      <td>0</td>\n",
       "      <td>M</td>\n",
       "      <td>сотрудник</td>\n",
       "      <td>0</td>\n",
       "      <td>267628</td>\n",
       "      <td>дополнительное образование</td>\n",
       "      <td>B</td>\n",
       "    </tr>\n",
       "    <tr>\n",
       "      <th>4</th>\n",
       "      <td>0</td>\n",
       "      <td>340266.072047</td>\n",
       "      <td>53</td>\n",
       "      <td>среднее</td>\n",
       "      <td>1</td>\n",
       "      <td>гражданский брак</td>\n",
       "      <td>1</td>\n",
       "      <td>F</td>\n",
       "      <td>пенсионер</td>\n",
       "      <td>0</td>\n",
       "      <td>158616</td>\n",
       "      <td>сыграть свадьбу</td>\n",
       "      <td>C</td>\n",
       "    </tr>\n",
       "    <tr>\n",
       "      <th>5</th>\n",
       "      <td>0</td>\n",
       "      <td>926.185831</td>\n",
       "      <td>27</td>\n",
       "      <td>высшее</td>\n",
       "      <td>0</td>\n",
       "      <td>гражданский брак</td>\n",
       "      <td>1</td>\n",
       "      <td>M</td>\n",
       "      <td>компаньон</td>\n",
       "      <td>0</td>\n",
       "      <td>255763</td>\n",
       "      <td>покупка жилья</td>\n",
       "      <td>B</td>\n",
       "    </tr>\n",
       "    <tr>\n",
       "      <th>6</th>\n",
       "      <td>0</td>\n",
       "      <td>2879.202052</td>\n",
       "      <td>43</td>\n",
       "      <td>высшее</td>\n",
       "      <td>0</td>\n",
       "      <td>женат / замужем</td>\n",
       "      <td>0</td>\n",
       "      <td>F</td>\n",
       "      <td>компаньон</td>\n",
       "      <td>0</td>\n",
       "      <td>240525</td>\n",
       "      <td>операции с жильем</td>\n",
       "      <td>B</td>\n",
       "    </tr>\n",
       "    <tr>\n",
       "      <th>7</th>\n",
       "      <td>0</td>\n",
       "      <td>152.779569</td>\n",
       "      <td>50</td>\n",
       "      <td>среднее</td>\n",
       "      <td>1</td>\n",
       "      <td>женат / замужем</td>\n",
       "      <td>0</td>\n",
       "      <td>M</td>\n",
       "      <td>сотрудник</td>\n",
       "      <td>0</td>\n",
       "      <td>135823</td>\n",
       "      <td>образование</td>\n",
       "      <td>C</td>\n",
       "    </tr>\n",
       "    <tr>\n",
       "      <th>8</th>\n",
       "      <td>2</td>\n",
       "      <td>6929.865299</td>\n",
       "      <td>35</td>\n",
       "      <td>высшее</td>\n",
       "      <td>0</td>\n",
       "      <td>гражданский брак</td>\n",
       "      <td>1</td>\n",
       "      <td>F</td>\n",
       "      <td>сотрудник</td>\n",
       "      <td>0</td>\n",
       "      <td>95856</td>\n",
       "      <td>на проведение свадьбы</td>\n",
       "      <td>C</td>\n",
       "    </tr>\n",
       "    <tr>\n",
       "      <th>9</th>\n",
       "      <td>0</td>\n",
       "      <td>2188.756445</td>\n",
       "      <td>41</td>\n",
       "      <td>среднее</td>\n",
       "      <td>1</td>\n",
       "      <td>женат / замужем</td>\n",
       "      <td>0</td>\n",
       "      <td>M</td>\n",
       "      <td>сотрудник</td>\n",
       "      <td>0</td>\n",
       "      <td>144425</td>\n",
       "      <td>покупка жилья для семьи</td>\n",
       "      <td>C</td>\n",
       "    </tr>\n",
       "  </tbody>\n",
       "</table>\n",
       "</div>"
      ],
      "text/plain": [
       "   children  days_employed  dob_years education  education_id  \\\n",
       "0         1    8437.673028         42    высшее             0   \n",
       "1         1    4024.803754         36   среднее             1   \n",
       "2         0    5623.422610         33   среднее             1   \n",
       "3         3    4124.747207         32   среднее             1   \n",
       "4         0  340266.072047         53   среднее             1   \n",
       "5         0     926.185831         27    высшее             0   \n",
       "6         0    2879.202052         43    высшее             0   \n",
       "7         0     152.779569         50   среднее             1   \n",
       "8         2    6929.865299         35    высшее             0   \n",
       "9         0    2188.756445         41   среднее             1   \n",
       "\n",
       "      family_status  family_status_id gender income_type  debt  total_income  \\\n",
       "0   женат / замужем                 0      F   сотрудник     0        253875   \n",
       "1   женат / замужем                 0      F   сотрудник     0        112080   \n",
       "2   женат / замужем                 0      M   сотрудник     0        145885   \n",
       "3   женат / замужем                 0      M   сотрудник     0        267628   \n",
       "4  гражданский брак                 1      F   пенсионер     0        158616   \n",
       "5  гражданский брак                 1      M   компаньон     0        255763   \n",
       "6   женат / замужем                 0      F   компаньон     0        240525   \n",
       "7   женат / замужем                 0      M   сотрудник     0        135823   \n",
       "8  гражданский брак                 1      F   сотрудник     0         95856   \n",
       "9   женат / замужем                 0      M   сотрудник     0        144425   \n",
       "\n",
       "                      purpose total_income_category  \n",
       "0               покупка жилья                     B  \n",
       "1     приобретение автомобиля                     C  \n",
       "2               покупка жилья                     C  \n",
       "3  дополнительное образование                     B  \n",
       "4             сыграть свадьбу                     C  \n",
       "5               покупка жилья                     B  \n",
       "6           операции с жильем                     B  \n",
       "7                 образование                     C  \n",
       "8       на проведение свадьбы                     C  \n",
       "9     покупка жилья для семьи                     C  "
      ]
     },
     "execution_count": 19,
     "metadata": {},
     "output_type": "execute_result"
    }
   ],
   "source": [
    "data['total_income_category'] = data['total_income'].apply(categorize_income)\n",
    "data.head(10)"
   ]
  },
  {
   "cell_type": "markdown",
   "id": "fb8c9807",
   "metadata": {
    "deletable": false,
    "editable": false,
    "id": "dde49b5c"
   },
   "source": [
    "**Задание 17. Выведите на экран перечень уникальных целей взятия кредита из столбца `purpose`.**"
   ]
  },
  {
   "cell_type": "code",
   "execution_count": 20,
   "id": "c7ac8534",
   "metadata": {
    "deletable": false,
    "id": "f67ce9b3",
    "outputId": "673c12d9-7d7e-4ae0-9812-c622c89dd244"
   },
   "outputs": [
    {
     "data": {
      "text/plain": [
       "array(['покупка жилья', 'приобретение автомобиля',\n",
       "       'дополнительное образование', 'сыграть свадьбу',\n",
       "       'операции с жильем', 'образование', 'на проведение свадьбы',\n",
       "       'покупка жилья для семьи', 'покупка недвижимости',\n",
       "       'покупка коммерческой недвижимости', 'покупка жилой недвижимости',\n",
       "       'строительство собственной недвижимости', 'недвижимость',\n",
       "       'строительство недвижимости', 'на покупку подержанного автомобиля',\n",
       "       'на покупку своего автомобиля',\n",
       "       'операции с коммерческой недвижимостью',\n",
       "       'строительство жилой недвижимости', 'жилье',\n",
       "       'операции со своей недвижимостью', 'автомобили',\n",
       "       'заняться образованием', 'сделка с подержанным автомобилем',\n",
       "       'получение образования', 'автомобиль', 'свадьба',\n",
       "       'получение дополнительного образования', 'покупка своего жилья',\n",
       "       'операции с недвижимостью', 'получение высшего образования',\n",
       "       'свой автомобиль', 'сделка с автомобилем',\n",
       "       'профильное образование', 'высшее образование',\n",
       "       'покупка жилья для сдачи', 'на покупку автомобиля', 'ремонт жилью',\n",
       "       'заняться высшим образованием'], dtype=object)"
      ]
     },
     "execution_count": 20,
     "metadata": {},
     "output_type": "execute_result"
    }
   ],
   "source": [
    "data['purpose'].unique()"
   ]
  },
  {
   "cell_type": "markdown",
   "id": "f34f0c0f",
   "metadata": {
    "deletable": false,
    "editable": false,
    "id": "85d0aef0"
   },
   "source": [
    "**Задание 18. Создайте функцию, которая на основании данных из столбца `purpose` сформирует новый столбец `purpose_category`, в который войдут следующие категории:**\n",
    "\n",
    "- `'операции с автомобилем'`,\n",
    "- `'операции с недвижимостью'`,\n",
    "- `'проведение свадьбы'`,\n",
    "- `'получение образования'`.\n",
    "\n",
    "**Например, если в столбце `purpose` находится подстрока `'на покупку автомобиля'`, то в столбце `purpose_category` должна появиться строка `'операции с автомобилем'`.**\n",
    "\n",
    "**Используйте собственную функцию с именем `categorize_purpose()` и метод `apply()`. Изучите данные в столбце `purpose` и определите, какие подстроки помогут вам правильно определить категорию.**"
   ]
  },
  {
   "cell_type": "code",
   "execution_count": 21,
   "id": "fcad740a",
   "metadata": {
    "deletable": false,
    "id": "e149fab4"
   },
   "outputs": [],
   "source": [
    "def categorize_purpose(row):\n",
    "    try:\n",
    "        if 'автом' in row:\n",
    "            return 'операции с автомобилем'\n",
    "        elif 'жил' in row or 'недвиж' in row:\n",
    "            return 'операции с недвижимостью'\n",
    "        elif 'свад' in row:\n",
    "            return 'проведение свадьбы'\n",
    "        elif 'образов' in row:\n",
    "            return 'получение образования'\n",
    "    except:\n",
    "        return 'нет категории'"
   ]
  },
  {
   "cell_type": "code",
   "execution_count": 22,
   "id": "b15d7e62",
   "metadata": {
    "deletable": false,
    "id": "bf36e69b"
   },
   "outputs": [],
   "source": [
    "data['purpose_category'] = data['purpose'].apply(categorize_purpose)"
   ]
  },
  {
   "cell_type": "markdown",
   "id": "40f74137",
   "metadata": {
    "deletable": false,
    "editable": false,
    "id": "09b242bf"
   },
   "source": [
    "### Шаг 3. Исследуйте данные и ответьте на вопросы"
   ]
  },
  {
   "cell_type": "markdown",
   "id": "1ac3ec45",
   "metadata": {
    "deletable": false,
    "editable": false,
    "id": "c5d66278"
   },
   "source": [
    "#### 3.1 Есть ли зависимость между количеством детей и возвратом кредита в срок?"
   ]
  },
  {
   "cell_type": "code",
   "execution_count": 23,
   "id": "bd4745fb",
   "metadata": {
    "deletable": false,
    "id": "2cacfc4a"
   },
   "outputs": [
    {
     "data": {
      "text/html": [
       "<div>\n",
       "<style scoped>\n",
       "    .dataframe tbody tr th:only-of-type {\n",
       "        vertical-align: middle;\n",
       "    }\n",
       "\n",
       "    .dataframe tbody tr th {\n",
       "        vertical-align: top;\n",
       "    }\n",
       "\n",
       "    .dataframe thead th {\n",
       "        text-align: right;\n",
       "    }\n",
       "</style>\n",
       "<table border=\"1\" class=\"dataframe\">\n",
       "  <thead>\n",
       "    <tr style=\"text-align: right;\">\n",
       "      <th>debt</th>\n",
       "      <th>0</th>\n",
       "      <th>1</th>\n",
       "      <th>debtors_rate</th>\n",
       "    </tr>\n",
       "    <tr>\n",
       "      <th>children</th>\n",
       "      <th></th>\n",
       "      <th></th>\n",
       "      <th></th>\n",
       "    </tr>\n",
       "  </thead>\n",
       "  <tbody>\n",
       "    <tr>\n",
       "      <th>0</th>\n",
       "      <td>13028</td>\n",
       "      <td>1063</td>\n",
       "      <td>7.543822</td>\n",
       "    </tr>\n",
       "    <tr>\n",
       "      <th>1</th>\n",
       "      <td>4364</td>\n",
       "      <td>444</td>\n",
       "      <td>9.234609</td>\n",
       "    </tr>\n",
       "    <tr>\n",
       "      <th>2</th>\n",
       "      <td>1858</td>\n",
       "      <td>194</td>\n",
       "      <td>9.454191</td>\n",
       "    </tr>\n",
       "    <tr>\n",
       "      <th>3</th>\n",
       "      <td>303</td>\n",
       "      <td>27</td>\n",
       "      <td>8.181818</td>\n",
       "    </tr>\n",
       "    <tr>\n",
       "      <th>4</th>\n",
       "      <td>37</td>\n",
       "      <td>4</td>\n",
       "      <td>9.756098</td>\n",
       "    </tr>\n",
       "    <tr>\n",
       "      <th>5</th>\n",
       "      <td>9</td>\n",
       "      <td>0</td>\n",
       "      <td>0.000000</td>\n",
       "    </tr>\n",
       "  </tbody>\n",
       "</table>\n",
       "</div>"
      ],
      "text/plain": [
       "debt          0     1  debtors_rate\n",
       "children                           \n",
       "0         13028  1063      7.543822\n",
       "1          4364   444      9.234609\n",
       "2          1858   194      9.454191\n",
       "3           303    27      8.181818\n",
       "4            37     4      9.756098\n",
       "5             9     0      0.000000"
      ]
     },
     "execution_count": 23,
     "metadata": {},
     "output_type": "execute_result"
    }
   ],
   "source": [
    "# Для нахождения зависимости между количеством детей и возвратом кредита в срок создадим сводную таблицу.\n",
    "\n",
    "data_pivot_children = data.pivot_table(index=['children'], \\\n",
    "                                       columns='debt', \\\n",
    "                                       values='purpose', \\\n",
    "                                       aggfunc='count')\n",
    "\n",
    "# Заполним пропуски нулем и приведем столбцы к типу integer.\n",
    "\n",
    "data_pivot_children = data_pivot_children.fillna(0)\n",
    "data_pivot_children[0] = data_pivot_children[0].astype('int')\n",
    "data_pivot_children[1] = data_pivot_children[1].astype('int')\n",
    "\n",
    "# Найдем долю должников от общего количества взявших кредит. Для этого создадим новый столбец 'debtors_rate'.\n",
    "\n",
    "#data_pivot_children['debtors_rate'] = 100 * data_pivot_children[1] / (data_pivot_children[0] + \\\n",
    "#                                                                      data_pivot_children[1])\n",
    "\n",
    "data_pivot_children['debtors_rate'] = 100 * data_pivot_children[1] / (data_pivot_children[0] + data_pivot_children[1])\n",
    "# Выведем финальную сводную таблицу.\n",
    "\n",
    "data_pivot_children"
   ]
  },
  {
   "cell_type": "markdown",
   "id": "2d7484c4",
   "metadata": {
    "deletable": false,
    "id": "3a6b99ec"
   },
   "source": [
    "-"
   ]
  },
  {
   "cell_type": "markdown",
   "id": "61c4fcf2",
   "metadata": {},
   "source": [
    "**Вывод**: По сводной таблице заметим, что самая низкая доля должников у клиентов без детей (7.5%). В семьях, где есть дети, количество должников в среднем повысилось на 1.5%, самая большая доля приходится на заемщиков с 4 детьми (9.7%). Выборку из 5 детей нельзя считать реперезентивной, так как слишком мало данных. Очевидно, что многодетным семьям сложнее выплачивать кредит в срок, скорее всего, из-за больших трат на содержание детей."
   ]
  },
  {
   "cell_type": "markdown",
   "id": "67400321",
   "metadata": {
    "deletable": false,
    "editable": false,
    "id": "97be82ca"
   },
   "source": [
    "#### 3.2 Есть ли зависимость между семейным положением и возвратом кредита в срок?"
   ]
  },
  {
   "cell_type": "code",
   "execution_count": 24,
   "id": "7ce399be",
   "metadata": {
    "deletable": false,
    "id": "dc3f7ee8"
   },
   "outputs": [
    {
     "data": {
      "text/html": [
       "<div>\n",
       "<style scoped>\n",
       "    .dataframe tbody tr th:only-of-type {\n",
       "        vertical-align: middle;\n",
       "    }\n",
       "\n",
       "    .dataframe tbody tr th {\n",
       "        vertical-align: top;\n",
       "    }\n",
       "\n",
       "    .dataframe thead th {\n",
       "        text-align: right;\n",
       "    }\n",
       "</style>\n",
       "<table border=\"1\" class=\"dataframe\">\n",
       "  <thead>\n",
       "    <tr style=\"text-align: right;\">\n",
       "      <th>debt</th>\n",
       "      <th>0</th>\n",
       "      <th>1</th>\n",
       "      <th>debtors_rate</th>\n",
       "    </tr>\n",
       "    <tr>\n",
       "      <th>family_status</th>\n",
       "      <th></th>\n",
       "      <th></th>\n",
       "      <th></th>\n",
       "    </tr>\n",
       "  </thead>\n",
       "  <tbody>\n",
       "    <tr>\n",
       "      <th>Не женат / не замужем</th>\n",
       "      <td>2523</td>\n",
       "      <td>273</td>\n",
       "      <td>9.763948</td>\n",
       "    </tr>\n",
       "    <tr>\n",
       "      <th>в разводе</th>\n",
       "      <td>1105</td>\n",
       "      <td>84</td>\n",
       "      <td>7.064760</td>\n",
       "    </tr>\n",
       "    <tr>\n",
       "      <th>вдовец / вдова</th>\n",
       "      <td>888</td>\n",
       "      <td>63</td>\n",
       "      <td>6.624606</td>\n",
       "    </tr>\n",
       "    <tr>\n",
       "      <th>гражданский брак</th>\n",
       "      <td>3749</td>\n",
       "      <td>385</td>\n",
       "      <td>9.313014</td>\n",
       "    </tr>\n",
       "    <tr>\n",
       "      <th>женат / замужем</th>\n",
       "      <td>11334</td>\n",
       "      <td>927</td>\n",
       "      <td>7.560558</td>\n",
       "    </tr>\n",
       "  </tbody>\n",
       "</table>\n",
       "</div>"
      ],
      "text/plain": [
       "debt                       0    1  debtors_rate\n",
       "family_status                                  \n",
       "Не женат / не замужем   2523  273      9.763948\n",
       "в разводе               1105   84      7.064760\n",
       "вдовец / вдова           888   63      6.624606\n",
       "гражданский брак        3749  385      9.313014\n",
       "женат / замужем        11334  927      7.560558"
      ]
     },
     "execution_count": 24,
     "metadata": {},
     "output_type": "execute_result"
    }
   ],
   "source": [
    "# Для нахождения зависимости между семейным положением и возвратом кредита в срок создадим сводную таблицу.\n",
    "\n",
    "data_pivot_status = data.pivot_table(index=['family_status'], \\\n",
    "                                     columns='debt', \\\n",
    "                                     values='purpose', \\\n",
    "                                     aggfunc='count')\n",
    "\n",
    "# Найдем долю должников от общего количества взявших кредит. Для этого создадим новый столбец 'debtors_rate'.\n",
    "\n",
    "data_pivot_status['debtors_rate'] = 100 * data_pivot_status[1] / (data_pivot_status[0] + data_pivot_status[1])\n",
    "\n",
    "# Выведем финальную сводную таблицу.\n",
    "\n",
    "data_pivot_status"
   ]
  },
  {
   "cell_type": "markdown",
   "id": "b8ec3048",
   "metadata": {
    "deletable": false,
    "id": "1cef7837"
   },
   "source": [
    "-"
   ]
  },
  {
   "cell_type": "markdown",
   "id": "635cb568",
   "metadata": {},
   "source": [
    "**Вывод**: По сводной таблице заметим, что самая низкая доля должников у клиентов \"вдовец/вдова\" и \"в разводе\" (6.6% и 7.0% соответсвенно). Люди со статусом \"не женат/не замужем\" и \"гражданский брак\" являются самыми ненадежными замещиками (9.7% и 9.3% соответсвенно). Было бы интересно посмотреть группировку по возрасту, можем предположить, что клиенты \"не женат/не замужем\" и \"гражданский брак\" более молодые и менее ответсвенные."
   ]
  },
  {
   "cell_type": "markdown",
   "id": "f018a41a",
   "metadata": {
    "deletable": false,
    "editable": false,
    "id": "1e8b2fca"
   },
   "source": [
    "#### 3.3 Есть ли зависимость между уровнем дохода и возвратом кредита в срок?"
   ]
  },
  {
   "cell_type": "code",
   "execution_count": 25,
   "id": "a6f5a38e",
   "metadata": {
    "deletable": false,
    "id": "cd7e3720"
   },
   "outputs": [
    {
     "data": {
      "text/html": [
       "<div>\n",
       "<style scoped>\n",
       "    .dataframe tbody tr th:only-of-type {\n",
       "        vertical-align: middle;\n",
       "    }\n",
       "\n",
       "    .dataframe tbody tr th {\n",
       "        vertical-align: top;\n",
       "    }\n",
       "\n",
       "    .dataframe thead th {\n",
       "        text-align: right;\n",
       "    }\n",
       "</style>\n",
       "<table border=\"1\" class=\"dataframe\">\n",
       "  <thead>\n",
       "    <tr style=\"text-align: right;\">\n",
       "      <th>debt</th>\n",
       "      <th>0</th>\n",
       "      <th>1</th>\n",
       "      <th>debtors_rate</th>\n",
       "    </tr>\n",
       "    <tr>\n",
       "      <th>total_income_category</th>\n",
       "      <th></th>\n",
       "      <th></th>\n",
       "      <th></th>\n",
       "    </tr>\n",
       "  </thead>\n",
       "  <tbody>\n",
       "    <tr>\n",
       "      <th>Высокий доход</th>\n",
       "      <td>4660</td>\n",
       "      <td>354</td>\n",
       "      <td>7.060231</td>\n",
       "    </tr>\n",
       "    <tr>\n",
       "      <th>Доход выше среднего</th>\n",
       "      <td>14568</td>\n",
       "      <td>1353</td>\n",
       "      <td>8.498210</td>\n",
       "    </tr>\n",
       "    <tr>\n",
       "      <th>Низкий доход</th>\n",
       "      <td>20</td>\n",
       "      <td>2</td>\n",
       "      <td>9.090909</td>\n",
       "    </tr>\n",
       "    <tr>\n",
       "      <th>Сверхвысокий доход</th>\n",
       "      <td>23</td>\n",
       "      <td>2</td>\n",
       "      <td>8.000000</td>\n",
       "    </tr>\n",
       "    <tr>\n",
       "      <th>Средний доход</th>\n",
       "      <td>328</td>\n",
       "      <td>21</td>\n",
       "      <td>6.017192</td>\n",
       "    </tr>\n",
       "  </tbody>\n",
       "</table>\n",
       "</div>"
      ],
      "text/plain": [
       "debt                       0     1  debtors_rate\n",
       "total_income_category                           \n",
       "Высокий доход           4660   354      7.060231\n",
       "Доход выше среднего    14568  1353      8.498210\n",
       "Низкий доход              20     2      9.090909\n",
       "Сверхвысокий доход        23     2      8.000000\n",
       "Средний доход            328    21      6.017192"
      ]
     },
     "execution_count": 25,
     "metadata": {},
     "output_type": "execute_result"
    }
   ],
   "source": [
    "# Переименуем категории в таблице data для наглядности.\n",
    "# Пусть A - Сверхвысокий доход, B - Высокий доход, C - Доход выше среднего, D - Средний доход, E - Низкий доход.\n",
    "\n",
    "def categorize_income_name(income):\n",
    "    try:\n",
    "        if income == 'A':\n",
    "            return 'Сверхвысокий доход'\n",
    "        elif income == 'B':\n",
    "            return 'Высокий доход'\n",
    "        elif income == 'C':\n",
    "            return 'Доход выше среднего'\n",
    "        elif income == 'D':\n",
    "            return 'Средний доход'\n",
    "        elif income == 'E':\n",
    "            return 'Низкий доход'\n",
    "    except:\n",
    "        pass\n",
    "\n",
    "data['total_income_category'] = data['total_income_category'].apply(categorize_income_name)\n",
    "\n",
    "# Для нахождения зависимости между уровнем дохода и возвратом кредита в срок создадим сводную таблицу.\n",
    "\n",
    "data_pivot_income = data.pivot_table(index=['total_income_category'], \\\n",
    "                                     columns='debt', \\\n",
    "                                     values='purpose', \\\n",
    "                                     aggfunc='count')\n",
    "\n",
    "# Найдем долю должников от общего количества взявших кредит. Для этого создадим новый столбец 'debtors_rate'.\n",
    "\n",
    "data_pivot_income['debtors_rate'] = 100 * data_pivot_income[1] / (data_pivot_income[0] + data_pivot_income[1])\n",
    "\n",
    "# Выведем финальную сводную таблицу.\n",
    "\n",
    "data_pivot_income"
   ]
  },
  {
   "cell_type": "markdown",
   "id": "2dc51b36",
   "metadata": {
    "deletable": false,
    "id": "e8593def"
   },
   "source": [
    "**Вывод:** Данные о людях чей доход низок или сверхвысок не являются реперезентивными. Самая большая доля должников приходится на людей, чей доход выше среднего. Самая низкая доля - клиенты со средним доходом. Возможно люди с меньшими финансовыми возможностями более тщательно планируют свою бюджет."
   ]
  },
  {
   "cell_type": "markdown",
   "id": "f18999d6",
   "metadata": {
    "deletable": false,
    "editable": false,
    "id": "99ecbd1f"
   },
   "source": [
    "#### 3.4 Как разные цели кредита влияют на его возврат в срок?"
   ]
  },
  {
   "cell_type": "code",
   "execution_count": 26,
   "id": "c1d42a82",
   "metadata": {
    "deletable": false,
    "id": "2b687290"
   },
   "outputs": [
    {
     "data": {
      "text/html": [
       "<div>\n",
       "<style scoped>\n",
       "    .dataframe tbody tr th:only-of-type {\n",
       "        vertical-align: middle;\n",
       "    }\n",
       "\n",
       "    .dataframe tbody tr th {\n",
       "        vertical-align: top;\n",
       "    }\n",
       "\n",
       "    .dataframe thead th {\n",
       "        text-align: right;\n",
       "    }\n",
       "</style>\n",
       "<table border=\"1\" class=\"dataframe\">\n",
       "  <thead>\n",
       "    <tr style=\"text-align: right;\">\n",
       "      <th>debt</th>\n",
       "      <th>0</th>\n",
       "      <th>1</th>\n",
       "      <th>debtors_rate</th>\n",
       "    </tr>\n",
       "    <tr>\n",
       "      <th>purpose_category</th>\n",
       "      <th></th>\n",
       "      <th></th>\n",
       "      <th></th>\n",
       "    </tr>\n",
       "  </thead>\n",
       "  <tbody>\n",
       "    <tr>\n",
       "      <th>операции с автомобилем</th>\n",
       "      <td>3879</td>\n",
       "      <td>400</td>\n",
       "      <td>9.347978</td>\n",
       "    </tr>\n",
       "    <tr>\n",
       "      <th>операции с недвижимостью</th>\n",
       "      <td>9971</td>\n",
       "      <td>780</td>\n",
       "      <td>7.255139</td>\n",
       "    </tr>\n",
       "    <tr>\n",
       "      <th>получение образования</th>\n",
       "      <td>3619</td>\n",
       "      <td>369</td>\n",
       "      <td>9.252758</td>\n",
       "    </tr>\n",
       "    <tr>\n",
       "      <th>проведение свадьбы</th>\n",
       "      <td>2130</td>\n",
       "      <td>183</td>\n",
       "      <td>7.911803</td>\n",
       "    </tr>\n",
       "  </tbody>\n",
       "</table>\n",
       "</div>"
      ],
      "text/plain": [
       "debt                         0    1  debtors_rate\n",
       "purpose_category                                 \n",
       "операции с автомобилем    3879  400      9.347978\n",
       "операции с недвижимостью  9971  780      7.255139\n",
       "получение образования     3619  369      9.252758\n",
       "проведение свадьбы        2130  183      7.911803"
      ]
     },
     "execution_count": 26,
     "metadata": {},
     "output_type": "execute_result"
    }
   ],
   "source": [
    "# Для нахождения зависимости между целью кредита и возвратом кредита в срок создадим сводную таблицу.\n",
    "\n",
    "data_pivot_purpose = data.pivot_table(index=['purpose_category'], \\\n",
    "                                      columns='debt', \\\n",
    "                                      values='purpose', \\\n",
    "                                      aggfunc='count')\n",
    "\n",
    "# Найдем долю должников от общего количества взявших кредит. Для этого создадим новый столбец 'debtors_rate'.\n",
    "\n",
    "data_pivot_purpose['debtors_rate'] = 100 * data_pivot_purpose[1] / (data_pivot_purpose[0] + data_pivot_purpose[1])\n",
    "\n",
    "# Выведем финальную сводную таблицу.\n",
    "\n",
    "data_pivot_purpose"
   ]
  },
  {
   "cell_type": "markdown",
   "id": "cd51dd81",
   "metadata": {
    "deletable": false,
    "id": "b4bb2ce6"
   },
   "source": [
    "**Вывод:** Самые высокие доли должников приходятся на клиентов, у которых цель кредита - получение образования или покупка автомобиля. Получающие образование люди скорее всего являются студентами и финансово не могут оплатить кредит вовремя. Операции с недвижимостью показывают самую низкую долю, возможно люди берущие ипотеку имеют больший доход или более отвественные, ведь ипотека достаточно рисковый вид кредита. "
   ]
  },
  {
   "cell_type": "markdown",
   "id": "18d25b28",
   "metadata": {
    "deletable": false,
    "editable": false,
    "id": "09c3ac4c"
   },
   "source": [
    "#### 3.5 Приведите возможные причины появления пропусков в исходных данных."
   ]
  },
  {
   "cell_type": "markdown",
   "id": "7a4954b3",
   "metadata": {
    "deletable": false,
    "id": "9da2ceda"
   },
   "source": [
    "*Ответ:* Пропуски были в столбцах 'days_employed' и 'total_income'. Возможно эти клиенты никогда не работали или работали неофициально.\n",
    "\n"
   ]
  },
  {
   "cell_type": "markdown",
   "id": "a513198d",
   "metadata": {
    "deletable": false,
    "editable": false,
    "id": "7b0487d6"
   },
   "source": [
    "#### 3.6 Объясните, почему заполнить пропуски медианным значением — лучшее решение для количественных переменных."
   ]
  },
  {
   "cell_type": "markdown",
   "id": "5a385ac7",
   "metadata": {
    "deletable": false,
    "id": "7ecf2b8e"
   },
   "source": [
    "*Ответ:* Среднее значение может некорректно характеризовать данные из-за слишком выделяющихся значений. С помощью медианы мы объективно оценим информацию даже при наличии выбросов."
   ]
  },
  {
   "cell_type": "markdown",
   "id": "911a0152",
   "metadata": {
    "deletable": false,
    "editable": false,
    "id": "6db5255a"
   },
   "source": [
    "### Шаг 4: общий вывод."
   ]
  },
  {
   "cell_type": "markdown",
   "id": "45e8b58c",
   "metadata": {
    "deletable": false,
    "id": "bad65432"
   },
   "source": [
    "-"
   ]
  },
  {
   "cell_type": "markdown",
   "id": "a9cd9112",
   "metadata": {},
   "source": [
    "\n",
    "Мы провели исследование, чтобы выявить влияние различных факторов на погашение кредита в срок и дать рекомендации банку. Входные данные — статистика о платёжеспособности клиентов.\n",
    "\n",
    "Перед проведением исследования были поставлены следующие вопросы:\n",
    "\n",
    "* Есть ли зависимость между количеством детей и возвратом кредита в срок?\n",
    "* Есть ли зависимость между семейным положением и возвратом кредита в срок?\n",
    "* Есть ли зависимость между уровнем дохода и возвратом кредита в срок?\n",
    "* Как разные цели кредита влияют на его возврат в срок?\n",
    "\n",
    "**Вопрос 1:**\n",
    "\n",
    "* 7.5% - доля должников среди заемщиков без детей. \n",
    "* 9.2% - доля должников среди заемщиков с 1 ребенком. \n",
    "* 9.4% - доля должников среди заемщиков с 2 детьми. \n",
    "\n",
    "Рекомендация: для должников с более чем 2 детьми следует провести дополнительные исследования, так как выборка слишком мала.\n",
    "\n",
    "**Вопрос 2:**\n",
    "\n",
    "* самая низкая доля должников у клиентов \"вдовец/вдова\" и \"в разводе\" (6.6% и 7.0% соответсвенно). \n",
    "* Люди со статусом \"не женат/не замужем\" и \"гражданский брак\" являются самыми ненадежными замещиками (9.7% и 9.3% соответсвенно)\n",
    "\n",
    "Рекомендация: разница между первым и вторым пунктом составляет примерно 3%, что может критично отразиться на кредитном портфеле банка. \n",
    "\n",
    "**Вопрос 3:**\n",
    "\n",
    "* 8.4% - доля должников среди заемщиков с доходом выше среднего. \n",
    "* 7.0% - доля должников среди заемщиков с высоким доходом. \n",
    "\n",
    "Рекомендация: для клиентов с другим уровнем дохода следует провести дополнительные исследования, т.к. данные не репрезентивны.\n",
    "\n",
    "**Вопрос 4:**\n",
    "\n",
    "* 9.3% - доля должников, целью которых были операции с автомобилем.\n",
    "* 9.2% - доля должников, целью которых были операции с образованием.\n",
    "* 7.9% - доля должников, целью которых были операции со свадьбой.\n",
    "* 7.2% - доля должников, целью которых были операции с недвижимостью.\n",
    "\n",
    "Рекомендация: разница между первыми и последними двумя пунктами составляет примерно 2%, что может критично отразиться на кредитном портфеле банка. \n",
    "\n",
    "#### Общие рекомендации:\n",
    "1. Следует обратить внимание на зависимости из 2 и 4 вопроса (семейное положение и цель кредита)\n",
    "2. Для первого и третьего вопроса следует провести дополнительные исследования\n"
   ]
  },
  {
   "cell_type": "code",
   "execution_count": null,
   "id": "49bda4fc",
   "metadata": {},
   "outputs": [],
   "source": []
  }
 ],
 "metadata": {
  "ExecuteTimeLog": [
   {
    "duration": 47,
    "start_time": "2022-12-13T14:26:31.504Z"
   },
   {
    "duration": 442,
    "start_time": "2022-12-13T14:26:38.159Z"
   },
   {
    "duration": 19,
    "start_time": "2022-12-13T14:26:38.942Z"
   },
   {
    "duration": 14,
    "start_time": "2022-12-13T14:26:39.760Z"
   },
   {
    "duration": 9,
    "start_time": "2022-12-13T14:26:41.213Z"
   },
   {
    "duration": 34,
    "start_time": "2022-12-13T14:26:41.890Z"
   },
   {
    "duration": 4,
    "start_time": "2022-12-13T14:26:42.660Z"
   },
   {
    "duration": 8,
    "start_time": "2022-12-13T14:26:44.452Z"
   },
   {
    "duration": 10,
    "start_time": "2022-12-13T14:26:44.462Z"
   },
   {
    "duration": 7,
    "start_time": "2022-12-13T14:26:44.941Z"
   },
   {
    "duration": 4,
    "start_time": "2022-12-13T14:26:47.300Z"
   },
   {
    "duration": 33,
    "start_time": "2022-12-13T14:26:48.628Z"
   },
   {
    "duration": 12,
    "start_time": "2022-12-13T14:26:49.514Z"
   },
   {
    "duration": 3,
    "start_time": "2022-12-13T14:26:50.968Z"
   },
   {
    "duration": 11,
    "start_time": "2022-12-13T14:26:51.938Z"
   },
   {
    "duration": 18,
    "start_time": "2022-12-13T14:26:52.601Z"
   },
   {
    "duration": 15,
    "start_time": "2022-12-13T14:26:52.952Z"
   },
   {
    "duration": 4,
    "start_time": "2022-12-13T14:26:54.333Z"
   },
   {
    "duration": 9,
    "start_time": "2022-12-13T14:26:54.895Z"
   },
   {
    "duration": 6,
    "start_time": "2022-12-13T14:26:55.938Z"
   },
   {
    "duration": 4,
    "start_time": "2022-12-13T14:26:56.892Z"
   },
   {
    "duration": 11,
    "start_time": "2022-12-13T14:26:57.459Z"
   },
   {
    "duration": 19,
    "start_time": "2022-12-13T14:26:58.849Z"
   },
   {
    "duration": 16,
    "start_time": "2022-12-13T14:27:06.670Z"
   },
   {
    "duration": 12,
    "start_time": "2022-12-13T14:27:11.525Z"
   },
   {
    "duration": 5,
    "start_time": "2022-12-13T14:28:30.425Z"
   },
   {
    "duration": 7,
    "start_time": "2022-12-13T14:29:00.593Z"
   },
   {
    "duration": 6,
    "start_time": "2022-12-13T14:29:23.133Z"
   },
   {
    "duration": 38,
    "start_time": "2022-12-13T14:33:12.516Z"
   },
   {
    "duration": 6,
    "start_time": "2022-12-13T14:33:45.453Z"
   },
   {
    "duration": 24,
    "start_time": "2022-12-13T14:34:47.486Z"
   },
   {
    "duration": 19,
    "start_time": "2022-12-13T14:35:18.361Z"
   },
   {
    "duration": 19,
    "start_time": "2022-12-13T14:35:25.576Z"
   },
   {
    "duration": 8,
    "start_time": "2022-12-13T14:35:51.774Z"
   },
   {
    "duration": 6,
    "start_time": "2022-12-13T14:37:08.476Z"
   },
   {
    "duration": 6,
    "start_time": "2022-12-13T14:38:34.976Z"
   },
   {
    "duration": 16,
    "start_time": "2022-12-13T14:47:17.136Z"
   },
   {
    "duration": 16,
    "start_time": "2022-12-13T14:48:44.572Z"
   },
   {
    "duration": 15,
    "start_time": "2022-12-13T14:49:02.508Z"
   },
   {
    "duration": 13,
    "start_time": "2022-12-13T14:49:19.518Z"
   },
   {
    "duration": 15,
    "start_time": "2022-12-13T14:50:31.510Z"
   },
   {
    "duration": 13,
    "start_time": "2022-12-13T14:50:39.116Z"
   },
   {
    "duration": 14,
    "start_time": "2022-12-13T14:51:43.242Z"
   },
   {
    "duration": 16,
    "start_time": "2022-12-13T14:51:48.678Z"
   },
   {
    "duration": 13,
    "start_time": "2022-12-13T14:51:59.908Z"
   },
   {
    "duration": 931,
    "start_time": "2022-12-13T14:54:09.631Z"
   },
   {
    "duration": 1131,
    "start_time": "2022-12-13T14:55:18.555Z"
   },
   {
    "duration": 1124,
    "start_time": "2022-12-13T14:55:54.162Z"
   },
   {
    "duration": 1143,
    "start_time": "2022-12-13T15:04:39.943Z"
   },
   {
    "duration": 21,
    "start_time": "2022-12-13T15:04:58.402Z"
   },
   {
    "duration": 1238,
    "start_time": "2022-12-13T15:07:20.771Z"
   },
   {
    "duration": 7,
    "start_time": "2022-12-13T15:07:55.616Z"
   },
   {
    "duration": 1225,
    "start_time": "2022-12-13T15:08:46.099Z"
   },
   {
    "duration": 1183,
    "start_time": "2022-12-13T15:08:54.908Z"
   },
   {
    "duration": 8,
    "start_time": "2022-12-13T15:09:03.902Z"
   },
   {
    "duration": 8,
    "start_time": "2022-12-13T15:09:53.758Z"
   },
   {
    "duration": 9,
    "start_time": "2022-12-13T15:10:55.107Z"
   },
   {
    "duration": 8,
    "start_time": "2022-12-13T15:11:05.538Z"
   },
   {
    "duration": 9,
    "start_time": "2022-12-13T15:12:16.022Z"
   },
   {
    "duration": 11,
    "start_time": "2022-12-13T15:12:37.952Z"
   },
   {
    "duration": 13,
    "start_time": "2022-12-13T15:21:09.268Z"
   },
   {
    "duration": 18,
    "start_time": "2022-12-13T15:21:46.142Z"
   },
   {
    "duration": 14,
    "start_time": "2022-12-13T15:22:08.897Z"
   },
   {
    "duration": 12,
    "start_time": "2022-12-13T15:23:06.479Z"
   },
   {
    "duration": 901,
    "start_time": "2022-12-13T15:23:27.587Z"
   },
   {
    "duration": 14,
    "start_time": "2022-12-13T15:23:32.980Z"
   },
   {
    "duration": 13,
    "start_time": "2022-12-13T15:23:43.170Z"
   },
   {
    "duration": 13,
    "start_time": "2022-12-13T15:25:57.134Z"
   },
   {
    "duration": 13,
    "start_time": "2022-12-13T15:27:23.668Z"
   },
   {
    "duration": 13,
    "start_time": "2022-12-13T15:27:29.998Z"
   },
   {
    "duration": 1164,
    "start_time": "2022-12-13T15:27:35.865Z"
   },
   {
    "duration": 12,
    "start_time": "2022-12-13T15:27:44.213Z"
   },
   {
    "duration": 1137,
    "start_time": "2022-12-13T15:27:56.483Z"
   },
   {
    "duration": 13,
    "start_time": "2022-12-13T15:28:02.567Z"
   },
   {
    "duration": 1188,
    "start_time": "2022-12-13T15:28:08.694Z"
   },
   {
    "duration": 13,
    "start_time": "2022-12-13T15:28:13.795Z"
   },
   {
    "duration": 72,
    "start_time": "2022-12-13T15:29:24.499Z"
   },
   {
    "duration": 68,
    "start_time": "2022-12-13T15:29:45.763Z"
   },
   {
    "duration": 14,
    "start_time": "2022-12-13T15:29:50.824Z"
   },
   {
    "duration": 19,
    "start_time": "2022-12-13T15:31:56.415Z"
   },
   {
    "duration": 1206,
    "start_time": "2022-12-13T15:33:04.260Z"
   },
   {
    "duration": 22,
    "start_time": "2022-12-13T15:33:14.956Z"
   },
   {
    "duration": 19,
    "start_time": "2022-12-13T15:33:34.797Z"
   },
   {
    "duration": 26,
    "start_time": "2022-12-13T15:33:50.731Z"
   },
   {
    "duration": 19,
    "start_time": "2022-12-13T15:34:11.504Z"
   },
   {
    "duration": 17,
    "start_time": "2022-12-13T15:34:43.606Z"
   },
   {
    "duration": 20,
    "start_time": "2022-12-13T15:34:54.916Z"
   },
   {
    "duration": 19,
    "start_time": "2022-12-13T15:35:20.403Z"
   },
   {
    "duration": 19,
    "start_time": "2022-12-13T15:37:02.234Z"
   },
   {
    "duration": 16,
    "start_time": "2022-12-13T15:37:25.274Z"
   },
   {
    "duration": 18,
    "start_time": "2022-12-13T15:37:58.512Z"
   },
   {
    "duration": 12,
    "start_time": "2022-12-13T15:39:18.219Z"
   },
   {
    "duration": 18,
    "start_time": "2022-12-13T15:39:23.636Z"
   },
   {
    "duration": 14,
    "start_time": "2022-12-13T15:49:43.877Z"
   },
   {
    "duration": 18,
    "start_time": "2022-12-13T15:49:49.795Z"
   },
   {
    "duration": 18,
    "start_time": "2022-12-13T15:50:41.844Z"
   },
   {
    "duration": 19,
    "start_time": "2022-12-13T15:51:08.424Z"
   },
   {
    "duration": 13,
    "start_time": "2022-12-13T15:53:42.662Z"
   },
   {
    "duration": 21,
    "start_time": "2022-12-13T15:53:49.418Z"
   },
   {
    "duration": 856,
    "start_time": "2022-12-13T15:54:31.588Z"
   },
   {
    "duration": 913,
    "start_time": "2022-12-13T15:54:37.291Z"
   },
   {
    "duration": 19,
    "start_time": "2022-12-13T15:54:47.132Z"
   },
   {
    "duration": 19,
    "start_time": "2022-12-13T15:54:58.640Z"
   },
   {
    "duration": 18,
    "start_time": "2022-12-13T15:55:30.567Z"
   },
   {
    "duration": 71,
    "start_time": "2022-12-13T17:17:12.080Z"
   },
   {
    "duration": 15,
    "start_time": "2022-12-13T17:17:12.400Z"
   },
   {
    "duration": 14,
    "start_time": "2022-12-13T17:17:12.765Z"
   },
   {
    "duration": 10,
    "start_time": "2022-12-13T17:17:14.059Z"
   },
   {
    "duration": 33,
    "start_time": "2022-12-13T17:17:14.663Z"
   },
   {
    "duration": 4,
    "start_time": "2022-12-13T17:17:15.426Z"
   },
   {
    "duration": 8,
    "start_time": "2022-12-13T17:17:16.208Z"
   },
   {
    "duration": 5,
    "start_time": "2022-12-13T17:17:16.887Z"
   },
   {
    "duration": 7,
    "start_time": "2022-12-13T17:17:17.426Z"
   },
   {
    "duration": 6,
    "start_time": "2022-12-13T17:17:17.909Z"
   },
   {
    "duration": 40,
    "start_time": "2022-12-13T17:17:18.684Z"
   },
   {
    "duration": 10,
    "start_time": "2022-12-13T17:17:19.346Z"
   },
   {
    "duration": 4,
    "start_time": "2022-12-13T17:17:20.465Z"
   },
   {
    "duration": 11,
    "start_time": "2022-12-13T17:17:21.400Z"
   },
   {
    "duration": 23,
    "start_time": "2022-12-13T17:17:22.286Z"
   },
   {
    "duration": 17,
    "start_time": "2022-12-13T17:17:22.576Z"
   },
   {
    "duration": 3,
    "start_time": "2022-12-13T17:17:23.302Z"
   },
   {
    "duration": 9,
    "start_time": "2022-12-13T17:17:23.487Z"
   },
   {
    "duration": 6,
    "start_time": "2022-12-13T17:17:24.091Z"
   },
   {
    "duration": 4,
    "start_time": "2022-12-13T17:17:24.909Z"
   },
   {
    "duration": 9,
    "start_time": "2022-12-13T17:17:25.246Z"
   },
   {
    "duration": 22,
    "start_time": "2022-12-13T17:17:26.269Z"
   },
   {
    "duration": 26,
    "start_time": "2022-12-13T17:18:11.160Z"
   },
   {
    "duration": 23,
    "start_time": "2022-12-13T17:18:35.623Z"
   },
   {
    "duration": 18,
    "start_time": "2022-12-13T17:19:13.729Z"
   },
   {
    "duration": 28,
    "start_time": "2022-12-13T17:25:09.038Z"
   },
   {
    "duration": 22,
    "start_time": "2022-12-13T17:25:57.436Z"
   },
   {
    "duration": 20,
    "start_time": "2022-12-13T17:26:38.556Z"
   },
   {
    "duration": 19,
    "start_time": "2022-12-13T17:29:57.409Z"
   },
   {
    "duration": 19,
    "start_time": "2022-12-13T17:30:54.939Z"
   },
   {
    "duration": 19,
    "start_time": "2022-12-13T17:31:13.497Z"
   },
   {
    "duration": 800,
    "start_time": "2022-12-13T19:22:47.767Z"
   },
   {
    "duration": 25,
    "start_time": "2022-12-13T19:22:49.755Z"
   },
   {
    "duration": 20,
    "start_time": "2022-12-13T19:22:51.164Z"
   },
   {
    "duration": 15,
    "start_time": "2022-12-13T19:22:52.942Z"
   },
   {
    "duration": 40,
    "start_time": "2022-12-13T19:22:53.494Z"
   },
   {
    "duration": 4,
    "start_time": "2022-12-13T19:22:53.935Z"
   },
   {
    "duration": 8,
    "start_time": "2022-12-13T19:22:54.228Z"
   },
   {
    "duration": 6,
    "start_time": "2022-12-13T19:22:54.649Z"
   },
   {
    "duration": 9,
    "start_time": "2022-12-13T19:22:54.902Z"
   },
   {
    "duration": 6,
    "start_time": "2022-12-13T19:22:55.195Z"
   },
   {
    "duration": 36,
    "start_time": "2022-12-13T19:22:55.622Z"
   },
   {
    "duration": 14,
    "start_time": "2022-12-13T19:22:55.894Z"
   },
   {
    "duration": 4,
    "start_time": "2022-12-13T19:22:56.303Z"
   },
   {
    "duration": 20,
    "start_time": "2022-12-13T19:22:56.742Z"
   },
   {
    "duration": 29,
    "start_time": "2022-12-13T19:22:57.032Z"
   },
   {
    "duration": 27,
    "start_time": "2022-12-13T19:22:57.195Z"
   },
   {
    "duration": 4,
    "start_time": "2022-12-13T19:22:57.643Z"
   },
   {
    "duration": 17,
    "start_time": "2022-12-13T19:22:57.794Z"
   },
   {
    "duration": 8,
    "start_time": "2022-12-13T19:22:58.103Z"
   },
   {
    "duration": 4,
    "start_time": "2022-12-13T19:22:58.448Z"
   },
   {
    "duration": 9,
    "start_time": "2022-12-13T19:22:58.604Z"
   },
   {
    "duration": 27,
    "start_time": "2022-12-13T19:22:59.107Z"
   },
   {
    "duration": 21,
    "start_time": "2022-12-13T19:22:59.594Z"
   },
   {
    "duration": 20,
    "start_time": "2022-12-13T19:23:18.902Z"
   },
   {
    "duration": 22,
    "start_time": "2022-12-13T19:23:26.095Z"
   },
   {
    "duration": 25,
    "start_time": "2022-12-13T19:23:33.482Z"
   },
   {
    "duration": 26,
    "start_time": "2022-12-13T19:23:41.058Z"
   },
   {
    "duration": 27,
    "start_time": "2022-12-13T19:23:50.972Z"
   },
   {
    "duration": 20,
    "start_time": "2022-12-13T19:23:57.527Z"
   },
   {
    "duration": 22,
    "start_time": "2022-12-13T19:24:05.013Z"
   },
   {
    "duration": 20,
    "start_time": "2022-12-13T19:24:34.219Z"
   },
   {
    "duration": 25,
    "start_time": "2022-12-13T19:40:23.288Z"
   },
   {
    "duration": 21,
    "start_time": "2022-12-13T19:40:46.863Z"
   },
   {
    "duration": 25,
    "start_time": "2022-12-13T19:43:21.850Z"
   },
   {
    "duration": 32,
    "start_time": "2022-12-13T19:44:04.419Z"
   },
   {
    "duration": 21,
    "start_time": "2022-12-13T19:45:07.886Z"
   },
   {
    "duration": 21,
    "start_time": "2022-12-13T19:47:25.137Z"
   },
   {
    "duration": 28,
    "start_time": "2022-12-13T19:52:23.094Z"
   },
   {
    "duration": 22,
    "start_time": "2022-12-13T19:57:16.320Z"
   },
   {
    "duration": 22,
    "start_time": "2022-12-13T19:57:22.128Z"
   },
   {
    "duration": 798,
    "start_time": "2022-12-13T19:57:25.189Z"
   },
   {
    "duration": 72,
    "start_time": "2022-12-13T19:57:57.012Z"
   },
   {
    "duration": 15,
    "start_time": "2022-12-13T19:57:57.625Z"
   },
   {
    "duration": 16,
    "start_time": "2022-12-13T19:57:58.128Z"
   },
   {
    "duration": 11,
    "start_time": "2022-12-13T19:57:58.933Z"
   },
   {
    "duration": 36,
    "start_time": "2022-12-13T19:57:59.337Z"
   },
   {
    "duration": 4,
    "start_time": "2022-12-13T19:57:59.997Z"
   },
   {
    "duration": 9,
    "start_time": "2022-12-13T19:58:00.394Z"
   },
   {
    "duration": 6,
    "start_time": "2022-12-13T19:58:01.264Z"
   },
   {
    "duration": 8,
    "start_time": "2022-12-13T19:58:01.760Z"
   },
   {
    "duration": 5,
    "start_time": "2022-12-13T19:58:02.276Z"
   },
   {
    "duration": 34,
    "start_time": "2022-12-13T19:58:03.141Z"
   },
   {
    "duration": 13,
    "start_time": "2022-12-13T19:58:03.713Z"
   },
   {
    "duration": 4,
    "start_time": "2022-12-13T19:58:04.674Z"
   },
   {
    "duration": 13,
    "start_time": "2022-12-13T19:58:05.299Z"
   },
   {
    "duration": 22,
    "start_time": "2022-12-13T19:58:05.993Z"
   },
   {
    "duration": 19,
    "start_time": "2022-12-13T19:58:06.361Z"
   },
   {
    "duration": 4,
    "start_time": "2022-12-13T19:58:07.323Z"
   },
   {
    "duration": 23,
    "start_time": "2022-12-13T19:58:07.923Z"
   },
   {
    "duration": 6,
    "start_time": "2022-12-13T19:58:08.692Z"
   },
   {
    "duration": 4,
    "start_time": "2022-12-13T19:58:09.313Z"
   },
   {
    "duration": 8,
    "start_time": "2022-12-13T19:58:09.791Z"
   },
   {
    "duration": 25,
    "start_time": "2022-12-13T19:58:11.295Z"
   },
   {
    "duration": 21,
    "start_time": "2022-12-13T19:58:12.846Z"
   },
   {
    "duration": 45,
    "start_time": "2022-12-13T19:58:14.294Z"
   },
   {
    "duration": 21,
    "start_time": "2022-12-13T19:58:25.807Z"
   },
   {
    "duration": 518,
    "start_time": "2022-12-14T05:47:36.246Z"
   },
   {
    "duration": 29,
    "start_time": "2022-12-14T05:47:36.767Z"
   },
   {
    "duration": 17,
    "start_time": "2022-12-14T05:47:36.798Z"
   },
   {
    "duration": 26,
    "start_time": "2022-12-14T05:47:36.817Z"
   },
   {
    "duration": 38,
    "start_time": "2022-12-14T05:47:36.846Z"
   },
   {
    "duration": 4,
    "start_time": "2022-12-14T05:47:36.885Z"
   },
   {
    "duration": 20,
    "start_time": "2022-12-14T05:47:36.892Z"
   },
   {
    "duration": 22,
    "start_time": "2022-12-14T05:47:36.914Z"
   },
   {
    "duration": 10,
    "start_time": "2022-12-14T05:47:36.938Z"
   },
   {
    "duration": 12,
    "start_time": "2022-12-14T05:47:36.949Z"
   },
   {
    "duration": 61,
    "start_time": "2022-12-14T05:47:36.963Z"
   },
   {
    "duration": 12,
    "start_time": "2022-12-14T05:47:37.026Z"
   },
   {
    "duration": 5,
    "start_time": "2022-12-14T05:47:37.040Z"
   },
   {
    "duration": 22,
    "start_time": "2022-12-14T05:47:37.048Z"
   },
   {
    "duration": 34,
    "start_time": "2022-12-14T05:47:37.072Z"
   },
   {
    "duration": 19,
    "start_time": "2022-12-14T05:47:37.108Z"
   },
   {
    "duration": 13,
    "start_time": "2022-12-14T05:47:37.129Z"
   },
   {
    "duration": 29,
    "start_time": "2022-12-14T05:47:37.144Z"
   },
   {
    "duration": 7,
    "start_time": "2022-12-14T05:47:37.175Z"
   },
   {
    "duration": 6,
    "start_time": "2022-12-14T05:47:37.184Z"
   },
   {
    "duration": 23,
    "start_time": "2022-12-14T05:47:37.191Z"
   },
   {
    "duration": 38,
    "start_time": "2022-12-14T05:47:37.215Z"
   },
   {
    "duration": 21,
    "start_time": "2022-12-14T05:47:37.255Z"
   },
   {
    "duration": 48,
    "start_time": "2022-12-14T05:47:37.278Z"
   },
   {
    "duration": 27,
    "start_time": "2022-12-14T05:47:37.328Z"
   },
   {
    "duration": 48,
    "start_time": "2022-12-14T12:35:51.043Z"
   },
   {
    "duration": 594,
    "start_time": "2022-12-14T12:36:00.547Z"
   },
   {
    "duration": 22,
    "start_time": "2022-12-14T12:36:01.142Z"
   },
   {
    "duration": 14,
    "start_time": "2022-12-14T12:36:01.360Z"
   },
   {
    "duration": 11,
    "start_time": "2022-12-14T12:36:01.861Z"
   },
   {
    "duration": 33,
    "start_time": "2022-12-14T12:36:02.153Z"
   },
   {
    "duration": 4,
    "start_time": "2022-12-14T12:36:02.641Z"
   },
   {
    "duration": 9,
    "start_time": "2022-12-14T12:36:03.056Z"
   },
   {
    "duration": 4,
    "start_time": "2022-12-14T12:36:03.709Z"
   },
   {
    "duration": 8,
    "start_time": "2022-12-14T12:36:04.064Z"
   },
   {
    "duration": 5,
    "start_time": "2022-12-14T12:36:04.396Z"
   },
   {
    "duration": 34,
    "start_time": "2022-12-14T12:36:04.928Z"
   },
   {
    "duration": 10,
    "start_time": "2022-12-14T12:36:05.270Z"
   },
   {
    "duration": 4,
    "start_time": "2022-12-14T12:36:05.763Z"
   },
   {
    "duration": 11,
    "start_time": "2022-12-14T12:36:06.206Z"
   },
   {
    "duration": 19,
    "start_time": "2022-12-14T12:36:06.480Z"
   },
   {
    "duration": 17,
    "start_time": "2022-12-14T12:36:06.618Z"
   },
   {
    "duration": 5,
    "start_time": "2022-12-14T12:36:07.022Z"
   },
   {
    "duration": 19,
    "start_time": "2022-12-14T12:36:07.142Z"
   },
   {
    "duration": 6,
    "start_time": "2022-12-14T12:36:07.435Z"
   },
   {
    "duration": 3,
    "start_time": "2022-12-14T12:36:07.698Z"
   },
   {
    "duration": 8,
    "start_time": "2022-12-14T12:36:07.831Z"
   },
   {
    "duration": 24,
    "start_time": "2022-12-14T12:36:08.232Z"
   },
   {
    "duration": 20,
    "start_time": "2022-12-14T12:37:34.933Z"
   },
   {
    "duration": 19,
    "start_time": "2022-12-14T12:41:18.815Z"
   },
   {
    "duration": 78,
    "start_time": "2022-12-14T13:18:12.411Z"
   },
   {
    "duration": 659,
    "start_time": "2022-12-15T16:05:40.116Z"
   },
   {
    "duration": 21,
    "start_time": "2022-12-15T16:05:41.367Z"
   },
   {
    "duration": 15,
    "start_time": "2022-12-15T16:08:06.722Z"
   },
   {
    "duration": 906,
    "start_time": "2022-12-15T16:09:05.186Z"
   },
   {
    "duration": 17,
    "start_time": "2022-12-15T16:09:13.722Z"
   },
   {
    "duration": 12,
    "start_time": "2022-12-15T16:09:32.617Z"
   },
   {
    "duration": 16,
    "start_time": "2022-12-15T16:10:14.906Z"
   },
   {
    "duration": 10,
    "start_time": "2022-12-15T16:11:01.853Z"
   },
   {
    "duration": 17,
    "start_time": "2022-12-15T16:11:12.869Z"
   },
   {
    "duration": 13,
    "start_time": "2022-12-15T16:15:09.164Z"
   },
   {
    "duration": 57,
    "start_time": "2022-12-15T16:21:40.943Z"
   },
   {
    "duration": 486,
    "start_time": "2022-12-15T18:15:07.138Z"
   },
   {
    "duration": 28,
    "start_time": "2022-12-15T18:15:07.626Z"
   },
   {
    "duration": 28,
    "start_time": "2022-12-15T18:15:07.656Z"
   },
   {
    "duration": 9,
    "start_time": "2022-12-15T18:15:07.687Z"
   },
   {
    "duration": 34,
    "start_time": "2022-12-15T18:15:07.698Z"
   },
   {
    "duration": 4,
    "start_time": "2022-12-15T18:15:07.734Z"
   },
   {
    "duration": 12,
    "start_time": "2022-12-15T18:15:07.739Z"
   },
   {
    "duration": 6,
    "start_time": "2022-12-15T18:15:07.777Z"
   },
   {
    "duration": 10,
    "start_time": "2022-12-15T18:15:07.784Z"
   },
   {
    "duration": 6,
    "start_time": "2022-12-15T18:15:07.797Z"
   },
   {
    "duration": 40,
    "start_time": "2022-12-15T18:15:07.805Z"
   },
   {
    "duration": 37,
    "start_time": "2022-12-15T18:15:07.847Z"
   },
   {
    "duration": 4,
    "start_time": "2022-12-15T18:15:07.886Z"
   },
   {
    "duration": 20,
    "start_time": "2022-12-15T18:15:07.892Z"
   },
   {
    "duration": 21,
    "start_time": "2022-12-15T18:15:07.913Z"
   },
   {
    "duration": 45,
    "start_time": "2022-12-15T18:15:07.936Z"
   },
   {
    "duration": 5,
    "start_time": "2022-12-15T18:15:07.983Z"
   },
   {
    "duration": 38,
    "start_time": "2022-12-15T18:15:07.990Z"
   },
   {
    "duration": 11,
    "start_time": "2022-12-15T18:15:08.031Z"
   },
   {
    "duration": 4,
    "start_time": "2022-12-15T18:15:08.044Z"
   },
   {
    "duration": 23,
    "start_time": "2022-12-15T18:15:08.050Z"
   },
   {
    "duration": 29,
    "start_time": "2022-12-15T18:15:08.078Z"
   },
   {
    "duration": 10,
    "start_time": "2022-12-15T18:15:08.109Z"
   }
  ],
  "colab": {
   "name": "dpp_template_part2.ipynb",
   "provenance": []
  },
  "kernelspec": {
   "display_name": "Python 3 (ipykernel)",
   "language": "python",
   "name": "python3"
  },
  "language_info": {
   "codemirror_mode": {
    "name": "ipython",
    "version": 3
   },
   "file_extension": ".py",
   "mimetype": "text/x-python",
   "name": "python",
   "nbconvert_exporter": "python",
   "pygments_lexer": "ipython3",
   "version": "3.9.13"
  },
  "toc": {
   "base_numbering": 1,
   "nav_menu": {},
   "number_sections": true,
   "sideBar": true,
   "skip_h1_title": true,
   "title_cell": "Table of Contents",
   "title_sidebar": "Contents",
   "toc_cell": false,
   "toc_position": {
    "height": "calc(100% - 180px)",
    "left": "10px",
    "top": "150px",
    "width": "165px"
   },
   "toc_section_display": true,
   "toc_window_display": true
  }
 },
 "nbformat": 4,
 "nbformat_minor": 5
}
