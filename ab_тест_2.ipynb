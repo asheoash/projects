{
 "cells": [
  {
   "cell_type": "markdown",
   "metadata": {},
   "source": [
    "# Анализ поведения пользователей мобильного приложения.\n",
    "\n",
    "Наша команда аналитиков вместе с отделом маркетинга захотели проверить повлияет ли изменение шрифта в приложении стартапа, который продаёт продукты питания. Задачи проекта — изучить воронку продаж и проанализировать результаты A/A/B-теста. В нашем распоряжении имеются данные:\n",
    "\n",
    "* Записи в логе о действиях или событиях пользователей\n",
    "\n",
    "\n",
    "# План работы\n",
    "\n",
    "**1. Загрузка данных и подготовка их к анализу.**\n",
    "\n",
    "* Посмотреть первые строки\n",
    "* Обработать пропуски\n",
    "* Обработать дубликаты\n",
    "* Посмотреть на тип данных столбцов\n",
    "\n",
    "**2. Анализ данных.**\n",
    "\n",
    "* Сколько всего событий в логе\n",
    "* Сколько всего пользователей в логе?\n",
    "* Сколько в среднем событий приходится на пользователя?\n",
    "* Данными за какой период вы располагаете? Найдите максимальную и минимальную дату. Постройте гистограмму по дате и времени. Можно ли быть уверенным, что у вас одинаково полные данные за весь период? Технически в логи новых дней по некоторым пользователям могут «доезжать» события из прошлого — это может «перекашивать данные». Определите, с какого момента данные полные и отбросьте более старые. Данными за какой период времени вы располагаете на самом деле?\n",
    "* Много ли событий и пользователей вы потеряли, отбросив старые данные?\n",
    "* Проверьте, что у вас есть пользователи из всех трёх экспериментальных групп.\n",
    "\n",
    "**3. Анализ воронки событий.**\n",
    "\n",
    "* Посмотрите, какие события есть в логах, как часто они встречаются. Отсортируйте события по частоте.\n",
    "* Посчитайте, сколько пользователей совершали каждое из этих событий. Отсортируйте события по числу пользователей. Посчитайте долю пользователей, которые хоть раз совершали событие.\n",
    "* Предположите, в каком порядке происходят события. Все ли они выстраиваются в последовательную цепочку? Их не нужно учитывать при расчёте воронки.\n",
    "* По воронке событий посчитайте, какая доля пользователей проходит на следующий шаг воронки (от числа пользователей на предыдущем). То есть для последовательности событий A → B → C посчитайте отношение числа пользователей с событием B к количеству пользователей с событием A, а также отношение числа пользователей с событием C к количеству пользователей с событием B.\n",
    "* На каком шаге теряете больше всего пользователей?\n",
    "* Какая доля пользователей доходит от первого события до оплаты?\n",
    "\n",
    "**3. Анализ A/A/B-теста.**\n",
    "\n",
    "* Сколько пользователей в каждой экспериментальной группе?\n",
    "* Есть 2 контрольные группы для А/А-эксперимента, чтобы проверить корректность всех механизмов и расчётов. Проверьте, находят ли статистические критерии разницу между выборками 246 и 247.\n",
    "* Выберите самое популярное событие. Посчитайте число пользователей, совершивших это событие в каждой из контрольных групп. Посчитайте долю пользователей, совершивших это событие. Проверьте, будет ли отличие между группами статистически достоверным. Проделайте то же самое для всех других событий (удобно обернуть проверку в отдельную функцию). Можно ли сказать, что разбиение на группы работает корректно?\n",
    "* Аналогично поступите с группой с изменённым шрифтом. Сравните результаты с каждой из контрольных групп в отдельности по каждому событию. Сравните результаты с объединённой контрольной группой. Какие выводы из эксперимента можно сделать?\n",
    "* Какой уровень значимости вы выбрали при проверке статистических гипотез выше? Посчитайте, сколько проверок статистических гипотез вы сделали. При уровне значимости 0.1 каждый десятый раз можно получать ложный результат. Какой уровень значимости стоит применить? Если вы хотите изменить его, проделайте предыдущие пункты и проверьте свои выводы.\n",
    "\n",
    "\n",
    "**4. Общий вывод**\n",
    "\n",
    "* Написать выводы и принять решение по результатам теста. Варианты решений: \n",
    "    * Изменение шрифта на пользователей повлияло. \n",
    "    * Изменение шрифта на пользователей не повлияло.\n",
    "\n",
    "# Описание данных\n",
    "\n",
    "\n",
    "**Структура <code>logs_exp.csv</code>:**\n",
    "\n",
    "* <code>EventName</code> — название события,\n",
    "* <code>DeviceIDHash</code> — уникальный идентификатор пользователя,\n",
    "* <code>EventTimestamp</code> — время события,\n",
    "* <code>ExpId</code> — номер эксперимента: 246 и 247 — контрольные группы, а 248 — экспериментальная."
   ]
  },
  {
   "cell_type": "markdown",
   "metadata": {},
   "source": [
    "### Загрузка данных и подготовка их к анализу"
   ]
  },
  {
   "cell_type": "code",
   "execution_count": 1,
   "metadata": {},
   "outputs": [],
   "source": [
    "import pandas as pd\n",
    "import scipy.stats as st\n",
    "import datetime as dt\n",
    "import numpy as np\n",
    "import matplotlib.pyplot as plt\n",
    "import seaborn as sns\n",
    "import warnings\n",
    "from pandas.plotting import register_matplotlib_converters\n",
    " \n",
    "register_matplotlib_converters()"
   ]
  },
  {
   "cell_type": "code",
   "execution_count": 2,
   "metadata": {},
   "outputs": [
    {
     "data": {
      "text/html": [
       "<div>\n",
       "<style scoped>\n",
       "    .dataframe tbody tr th:only-of-type {\n",
       "        vertical-align: middle;\n",
       "    }\n",
       "\n",
       "    .dataframe tbody tr th {\n",
       "        vertical-align: top;\n",
       "    }\n",
       "\n",
       "    .dataframe thead th {\n",
       "        text-align: right;\n",
       "    }\n",
       "</style>\n",
       "<table border=\"1\" class=\"dataframe\">\n",
       "  <thead>\n",
       "    <tr style=\"text-align: right;\">\n",
       "      <th></th>\n",
       "      <th>EventName</th>\n",
       "      <th>DeviceIDHash</th>\n",
       "      <th>EventTimestamp</th>\n",
       "      <th>ExpId</th>\n",
       "    </tr>\n",
       "  </thead>\n",
       "  <tbody>\n",
       "    <tr>\n",
       "      <th>0</th>\n",
       "      <td>MainScreenAppear</td>\n",
       "      <td>4575588528974610257</td>\n",
       "      <td>1564029816</td>\n",
       "      <td>246</td>\n",
       "    </tr>\n",
       "    <tr>\n",
       "      <th>1</th>\n",
       "      <td>MainScreenAppear</td>\n",
       "      <td>7416695313311560658</td>\n",
       "      <td>1564053102</td>\n",
       "      <td>246</td>\n",
       "    </tr>\n",
       "    <tr>\n",
       "      <th>2</th>\n",
       "      <td>PaymentScreenSuccessful</td>\n",
       "      <td>3518123091307005509</td>\n",
       "      <td>1564054127</td>\n",
       "      <td>248</td>\n",
       "    </tr>\n",
       "    <tr>\n",
       "      <th>3</th>\n",
       "      <td>CartScreenAppear</td>\n",
       "      <td>3518123091307005509</td>\n",
       "      <td>1564054127</td>\n",
       "      <td>248</td>\n",
       "    </tr>\n",
       "    <tr>\n",
       "      <th>4</th>\n",
       "      <td>PaymentScreenSuccessful</td>\n",
       "      <td>6217807653094995999</td>\n",
       "      <td>1564055322</td>\n",
       "      <td>248</td>\n",
       "    </tr>\n",
       "  </tbody>\n",
       "</table>\n",
       "</div>"
      ],
      "text/plain": [
       "                 EventName         DeviceIDHash  EventTimestamp  ExpId\n",
       "0         MainScreenAppear  4575588528974610257      1564029816    246\n",
       "1         MainScreenAppear  7416695313311560658      1564053102    246\n",
       "2  PaymentScreenSuccessful  3518123091307005509      1564054127    248\n",
       "3         CartScreenAppear  3518123091307005509      1564054127    248\n",
       "4  PaymentScreenSuccessful  6217807653094995999      1564055322    248"
      ]
     },
     "metadata": {},
     "output_type": "display_data"
    }
   ],
   "source": [
    "try:\n",
    "    df = pd.read_csv('/datasets/logs_exp.csv', sep='\\t')\n",
    "    \n",
    "except:\n",
    "    df = pd.read_csv('logs_exp.csv', sep='\\t')\n",
    "    \n",
    "    \n",
    "pd.set_option('display.max_colwidth', None)\n",
    "pd.options.display.float_format = '{:,.2f}'.format\n",
    "\n",
    "display(df.head())"
   ]
  },
  {
   "cell_type": "code",
   "execution_count": 3,
   "metadata": {},
   "outputs": [
    {
     "name": "stdout",
     "output_type": "stream",
     "text": [
      "<class 'pandas.core.frame.DataFrame'>\n",
      "RangeIndex: 244126 entries, 0 to 244125\n",
      "Data columns (total 4 columns):\n",
      " #   Column          Non-Null Count   Dtype \n",
      "---  ------          --------------   ----- \n",
      " 0   EventName       244126 non-null  object\n",
      " 1   DeviceIDHash    244126 non-null  int64 \n",
      " 2   EventTimestamp  244126 non-null  int64 \n",
      " 3   ExpId           244126 non-null  int64 \n",
      "dtypes: int64(3), object(1)\n",
      "memory usage: 7.5+ MB\n"
     ]
    }
   ],
   "source": [
    "# общая информация о датафреймe logs_exp.csv\n",
    "df.info()"
   ]
  },
  {
   "cell_type": "markdown",
   "metadata": {},
   "source": [
    "Заметим, что нужно привести названия столбцов к змеимному стилю и переименовать, проверить датафреймы на дубликаты. Пропуски отсутствуют."
   ]
  },
  {
   "cell_type": "code",
   "execution_count": 4,
   "metadata": {},
   "outputs": [],
   "source": [
    "# переименуем столбцы в df\n",
    "df = df.rename(columns={'EventName':'event', \n",
    "                        'DeviceIDHash':'user_id',\n",
    "                        'EventTimestamp':'event_timestamp',\n",
    "                        'ExpId':'group'\n",
    "                               })"
   ]
  },
  {
   "cell_type": "markdown",
   "metadata": {},
   "source": [
    "#### Столбец event"
   ]
  },
  {
   "cell_type": "code",
   "execution_count": 5,
   "metadata": {},
   "outputs": [
    {
     "data": {
      "text/plain": [
       "['MainScreenAppear',\n",
       " 'PaymentScreenSuccessful',\n",
       " 'CartScreenAppear',\n",
       " 'OffersScreenAppear',\n",
       " 'Tutorial']"
      ]
     },
     "execution_count": 5,
     "metadata": {},
     "output_type": "execute_result"
    }
   ],
   "source": [
    "# посмотрим уникальные названия событий\n",
    "df['event'].unique().tolist()"
   ]
  },
  {
   "cell_type": "markdown",
   "metadata": {},
   "source": [
    "С названиями событий все хорошо."
   ]
  },
  {
   "cell_type": "markdown",
   "metadata": {},
   "source": [
    "#### Столбец user_id"
   ]
  },
  {
   "cell_type": "markdown",
   "metadata": {},
   "source": [
    "С данными все впорядке."
   ]
  },
  {
   "cell_type": "markdown",
   "metadata": {},
   "source": [
    "#### Столбец event_timestamp"
   ]
  },
  {
   "cell_type": "markdown",
   "metadata": {},
   "source": [
    "Данные записаны в формате unix time. Создадим новые столбцы с датой и временем и просто с датой. "
   ]
  },
  {
   "cell_type": "code",
   "execution_count": 6,
   "metadata": {},
   "outputs": [],
   "source": [
    "# создаем столбец date_time\n",
    "df['date_time'] = pd.to_datetime(df['event_timestamp'], unit='s')\n",
    "\n",
    "# создаем столбец date_time\n",
    "df['date'] = pd.to_datetime(df['date_time'].dt.date)"
   ]
  },
  {
   "cell_type": "markdown",
   "metadata": {},
   "source": [
    "#### Столблец group"
   ]
  },
  {
   "cell_type": "code",
   "execution_count": 7,
   "metadata": {},
   "outputs": [
    {
     "data": {
      "text/plain": [
       "[246, 248, 247]"
      ]
     },
     "execution_count": 7,
     "metadata": {},
     "output_type": "execute_result"
    }
   ],
   "source": [
    "# посмотрим уникальные группы\n",
    "df['group'].unique().tolist()"
   ]
  },
  {
   "cell_type": "markdown",
   "metadata": {},
   "source": [
    "Каждый столбец обработан, теперь можно удалить явные дубликаты"
   ]
  },
  {
   "cell_type": "code",
   "execution_count": 8,
   "metadata": {},
   "outputs": [
    {
     "name": "stdout",
     "output_type": "stream",
     "text": [
      "Количество явных дубликатов: 413\n",
      "Доля дубликатов: 0.0016917493425526163\n"
     ]
    }
   ],
   "source": [
    "# проверим данные на дубликаты\n",
    "print(f'Количество явных дубликатов: {df.duplicated().sum()}')\n",
    "\n",
    "# Посмотрим долю дубликатов в df и удалим их\n",
    "print(f'Доля дубликатов: {df.duplicated().sum()/len(df)}')\n",
    "df = df.drop_duplicates().reset_index(drop=True)"
   ]
  },
  {
   "cell_type": "code",
   "execution_count": 9,
   "metadata": {},
   "outputs": [
    {
     "name": "stdout",
     "output_type": "stream",
     "text": [
      "<class 'pandas.core.frame.DataFrame'>\n",
      "RangeIndex: 243713 entries, 0 to 243712\n",
      "Data columns (total 6 columns):\n",
      " #   Column           Non-Null Count   Dtype         \n",
      "---  ------           --------------   -----         \n",
      " 0   event            243713 non-null  object        \n",
      " 1   user_id          243713 non-null  int64         \n",
      " 2   event_timestamp  243713 non-null  int64         \n",
      " 3   group            243713 non-null  int64         \n",
      " 4   date_time        243713 non-null  datetime64[ns]\n",
      " 5   date             243713 non-null  datetime64[ns]\n",
      "dtypes: datetime64[ns](2), int64(3), object(1)\n",
      "memory usage: 11.2+ MB\n"
     ]
    }
   ],
   "source": [
    "# общая информация df\n",
    "df.info()"
   ]
  },
  {
   "cell_type": "markdown",
   "metadata": {},
   "source": [
    "Теперь данные готовы к анализу."
   ]
  },
  {
   "cell_type": "markdown",
   "metadata": {},
   "source": [
    "### Анализ данных"
   ]
  },
  {
   "cell_type": "code",
   "execution_count": 10,
   "metadata": {
    "scrolled": false
   },
   "outputs": [
    {
     "name": "stdout",
     "output_type": "stream",
     "text": [
      "Количество событий в логе: 243713\n",
      "Количество уникальных событий в логе: 5\n",
      "MainScreenAppear\n",
      "PaymentScreenSuccessful\n",
      "CartScreenAppear\n",
      "OffersScreenAppear\n",
      "Tutorial\n"
     ]
    }
   ],
   "source": [
    "# посчитаем количество стобытий в логе и выведем их на экран\n",
    "print(f'Количество событий в логе: {len(df)}')\n",
    "print(f'Количество уникальных событий в логе: {len(df[\"event\"].unique())}')\n",
    "for i in df[\"event\"].unique(): print(i)"
   ]
  },
  {
   "cell_type": "code",
   "execution_count": 11,
   "metadata": {},
   "outputs": [
    {
     "name": "stdout",
     "output_type": "stream",
     "text": [
      "Количество уникальных пользователей в логе: 7551\n"
     ]
    }
   ],
   "source": [
    "# посчитаем уникальных пользователей в логе\n",
    "print(f'Количество уникальных пользователей в логе: {df[\"user_id\"].nunique()}')"
   ]
  },
  {
   "cell_type": "code",
   "execution_count": 12,
   "metadata": {},
   "outputs": [
    {
     "name": "stdout",
     "output_type": "stream",
     "text": [
      "Количество событий в среднем приходится на пользователя: 32\n"
     ]
    }
   ],
   "source": [
    "# посчитаем сколько всего событий приходится на пользователя\n",
    "print(f'Количество событий в среднем приходится на пользователя: {round(len(df)/df[\"user_id\"].nunique())}')"
   ]
  },
  {
   "cell_type": "code",
   "execution_count": 13,
   "metadata": {},
   "outputs": [
    {
     "name": "stdout",
     "output_type": "stream",
     "text": [
      "Минимальная дата исследования: 2019-07-25\n",
      "Максимальная дата исследования: 2019-08-07\n"
     ]
    }
   ],
   "source": [
    "# посчитаем минимальную и максимальную даты исследования\n",
    "print(f'Минимальная дата исследования: {df[\"date\"].min():%Y-%m-%d}')\n",
    "print(f'Максимальная дата исследования: {df[\"date\"].max():%Y-%m-%d}')"
   ]
  },
  {
   "cell_type": "code",
   "execution_count": 14,
   "metadata": {
    "scrolled": false
   },
   "outputs": [
    {
     "data": {
      "image/png": "[encoded data removed]",
      "text/plain": [
       "<Figure size 1440x504 with 1 Axes>"
      ]
     },
     "metadata": {
      "needs_background": "light"
     },
     "output_type": "display_data"
    }
   ],
   "source": [
    "df[\"date_time\"].hist(bins=100, figsize=(20,7), rwidth=0.9)\n",
    "plt.title('Временной период исследования')\n",
    "plt.xlabel('Дата и время')\n",
    "plt.xticks(rotation=30)\n",
    "plt.show;"
   ]
  },
  {
   "cell_type": "markdown",
   "metadata": {},
   "source": [
    "Заметим, что данные за июль неполные. Технически в логи новых дней по некоторым пользователям могут «доезжать» события из прошлого — это может «перекашивать данные». Возьмем период с 2019-08-01 по 2019-08-07 как исследуемый. "
   ]
  },
  {
   "cell_type": "code",
   "execution_count": 15,
   "metadata": {},
   "outputs": [
    {
     "name": "stdout",
     "output_type": "stream",
     "text": [
      "Количество событий в старой таблице: 243713, количество событий в новой таблице: 240887\n",
      "Количество пользователей в старой таблице: 7551, количество пользователей в новой таблице: 7534\n",
      "Изменение количества событий: -1.16%\n",
      "Изменение количества пользователей: -0.23%\n"
     ]
    },
    {
     "data": {
      "text/html": [
       "<div>\n",
       "<style scoped>\n",
       "    .dataframe tbody tr th:only-of-type {\n",
       "        vertical-align: middle;\n",
       "    }\n",
       "\n",
       "    .dataframe tbody tr th {\n",
       "        vertical-align: top;\n",
       "    }\n",
       "\n",
       "    .dataframe thead th {\n",
       "        text-align: right;\n",
       "    }\n",
       "</style>\n",
       "<table border=\"1\" class=\"dataframe\">\n",
       "  <thead>\n",
       "    <tr style=\"text-align: right;\">\n",
       "      <th></th>\n",
       "      <th>user_id</th>\n",
       "    </tr>\n",
       "    <tr>\n",
       "      <th>group</th>\n",
       "      <th></th>\n",
       "    </tr>\n",
       "  </thead>\n",
       "  <tbody>\n",
       "    <tr>\n",
       "      <th>246</th>\n",
       "      <td>79302</td>\n",
       "    </tr>\n",
       "    <tr>\n",
       "      <th>247</th>\n",
       "      <td>77022</td>\n",
       "    </tr>\n",
       "    <tr>\n",
       "      <th>248</th>\n",
       "      <td>84563</td>\n",
       "    </tr>\n",
       "  </tbody>\n",
       "</table>\n",
       "</div>"
      ],
      "text/plain": [
       "       user_id\n",
       "group         \n",
       "246      79302\n",
       "247      77022\n",
       "248      84563"
      ]
     },
     "metadata": {},
     "output_type": "display_data"
    },
    {
     "data": {
      "text/html": [
       "<div>\n",
       "<style scoped>\n",
       "    .dataframe tbody tr th:only-of-type {\n",
       "        vertical-align: middle;\n",
       "    }\n",
       "\n",
       "    .dataframe tbody tr th {\n",
       "        vertical-align: top;\n",
       "    }\n",
       "\n",
       "    .dataframe thead th {\n",
       "        text-align: right;\n",
       "    }\n",
       "</style>\n",
       "<table border=\"1\" class=\"dataframe\">\n",
       "  <thead>\n",
       "    <tr style=\"text-align: right;\">\n",
       "      <th></th>\n",
       "      <th>user_id</th>\n",
       "    </tr>\n",
       "    <tr>\n",
       "      <th>group</th>\n",
       "      <th></th>\n",
       "    </tr>\n",
       "  </thead>\n",
       "  <tbody>\n",
       "    <tr>\n",
       "      <th>246</th>\n",
       "      <td>2484</td>\n",
       "    </tr>\n",
       "    <tr>\n",
       "      <th>247</th>\n",
       "      <td>2513</td>\n",
       "    </tr>\n",
       "    <tr>\n",
       "      <th>248</th>\n",
       "      <td>2537</td>\n",
       "    </tr>\n",
       "  </tbody>\n",
       "</table>\n",
       "</div>"
      ],
      "text/plain": [
       "       user_id\n",
       "group         \n",
       "246       2484\n",
       "247       2513\n",
       "248       2537"
      ]
     },
     "metadata": {},
     "output_type": "display_data"
    }
   ],
   "source": [
    "# посчитаем количество событий и количество пользователей в df со старыми данными\n",
    "events_before_filter = len(df)\n",
    "users_before_filter = df['user_id'].nunique()\n",
    "\n",
    "# отбросим ненужные строки и посчитаем количество строк в отфильтрованном df\n",
    "df = df.query('date >= \"2019-08-01\"')\n",
    "events_after_filter = len(df)\n",
    "users_after_filter = df['user_id'].nunique()\n",
    "\n",
    "# отобразим изменения в df\n",
    "print(f'Количество событий в старой таблице: {events_before_filter}, количество событий в новой таблице: {events_after_filter}')\n",
    "print(f'Количество пользователей в старой таблице: {users_before_filter}, количество пользователей в новой таблице: {users_after_filter}')\n",
    "print(f'Изменение количества событий: {(events_after_filter/events_before_filter) - 1:.2%}')\n",
    "print(f'Изменение количества пользователей: {(users_after_filter/users_before_filter) - 1:.2%}')\n",
    "\n",
    "# проверим пользователей 3 экспериментальных групп\n",
    "display(df.groupby('group').agg({'user_id':'count'}))\n",
    "display(df.groupby('group').agg({'user_id':'nunique'}))\n"
   ]
  },
  {
   "cell_type": "markdown",
   "metadata": {},
   "source": [
    "C 3 экспериментальными группами все впорядке. "
   ]
  },
  {
   "cell_type": "markdown",
   "metadata": {},
   "source": [
    "### Анализ воронки событий"
   ]
  },
  {
   "cell_type": "code",
   "execution_count": 16,
   "metadata": {},
   "outputs": [
    {
     "data": {
      "text/html": [
       "<div>\n",
       "<style scoped>\n",
       "    .dataframe tbody tr th:only-of-type {\n",
       "        vertical-align: middle;\n",
       "    }\n",
       "\n",
       "    .dataframe tbody tr th {\n",
       "        vertical-align: top;\n",
       "    }\n",
       "\n",
       "    .dataframe thead th {\n",
       "        text-align: right;\n",
       "    }\n",
       "</style>\n",
       "<table border=\"1\" class=\"dataframe\">\n",
       "  <thead>\n",
       "    <tr style=\"text-align: right;\">\n",
       "      <th></th>\n",
       "      <th>event</th>\n",
       "      <th>total</th>\n",
       "      <th>ratio, %</th>\n",
       "    </tr>\n",
       "  </thead>\n",
       "  <tbody>\n",
       "    <tr>\n",
       "      <th>0</th>\n",
       "      <td>MainScreenAppear</td>\n",
       "      <td>117328</td>\n",
       "      <td>48.71</td>\n",
       "    </tr>\n",
       "    <tr>\n",
       "      <th>1</th>\n",
       "      <td>OffersScreenAppear</td>\n",
       "      <td>46333</td>\n",
       "      <td>19.23</td>\n",
       "    </tr>\n",
       "    <tr>\n",
       "      <th>2</th>\n",
       "      <td>CartScreenAppear</td>\n",
       "      <td>42303</td>\n",
       "      <td>17.56</td>\n",
       "    </tr>\n",
       "    <tr>\n",
       "      <th>3</th>\n",
       "      <td>PaymentScreenSuccessful</td>\n",
       "      <td>33918</td>\n",
       "      <td>14.08</td>\n",
       "    </tr>\n",
       "    <tr>\n",
       "      <th>4</th>\n",
       "      <td>Tutorial</td>\n",
       "      <td>1005</td>\n",
       "      <td>0.42</td>\n",
       "    </tr>\n",
       "  </tbody>\n",
       "</table>\n",
       "</div>"
      ],
      "text/plain": [
       "                     event   total  ratio, %\n",
       "0         MainScreenAppear  117328     48.71\n",
       "1       OffersScreenAppear   46333     19.23\n",
       "2         CartScreenAppear   42303     17.56\n",
       "3  PaymentScreenSuccessful   33918     14.08\n",
       "4                 Tutorial    1005      0.42"
      ]
     },
     "metadata": {},
     "output_type": "display_data"
    }
   ],
   "source": [
    "# посмотрим какие есть события и как часто они встречаются\n",
    "events = df.groupby('event')\\\n",
    "           .agg({'user_id':'count'})\\\n",
    "           .sort_values(by='user_id', ascending=False)\\\n",
    "           .rename(columns={'user_id':'total'})\\\n",
    "           .reset_index()\n",
    "            \n",
    "events['ratio, %'] = events['total']/len(df)*100\n",
    "display(events)"
   ]
  },
  {
   "cell_type": "markdown",
   "metadata": {},
   "source": [
    "* MainScreenAppear. Главную страницу приложения пользователи увидели 117328 раз.\n",
    "* OffersScreenAppear. Предложение товаров пользователи увидели 46333 раза.\n",
    "* CartScreenAppear. Корзину пользователи увидели 42303 раза.\n",
    "* PaymentScreenSuccessful. Страничку об успешной оплате пользователи увидели 33918 раз.\n",
    "* Tutorial. Туториал пользователи увидели 117328 раз."
   ]
  },
  {
   "cell_type": "code",
   "execution_count": 17,
   "metadata": {},
   "outputs": [
    {
     "data": {
      "text/html": [
       "<div>\n",
       "<style scoped>\n",
       "    .dataframe tbody tr th:only-of-type {\n",
       "        vertical-align: middle;\n",
       "    }\n",
       "\n",
       "    .dataframe tbody tr th {\n",
       "        vertical-align: top;\n",
       "    }\n",
       "\n",
       "    .dataframe thead th {\n",
       "        text-align: right;\n",
       "    }\n",
       "</style>\n",
       "<table border=\"1\" class=\"dataframe\">\n",
       "  <thead>\n",
       "    <tr style=\"text-align: right;\">\n",
       "      <th></th>\n",
       "      <th>event</th>\n",
       "      <th>total</th>\n",
       "      <th>ratio, %</th>\n",
       "    </tr>\n",
       "  </thead>\n",
       "  <tbody>\n",
       "    <tr>\n",
       "      <th>0</th>\n",
       "      <td>MainScreenAppear</td>\n",
       "      <td>7419</td>\n",
       "      <td>98.47</td>\n",
       "    </tr>\n",
       "    <tr>\n",
       "      <th>1</th>\n",
       "      <td>OffersScreenAppear</td>\n",
       "      <td>4593</td>\n",
       "      <td>60.96</td>\n",
       "    </tr>\n",
       "    <tr>\n",
       "      <th>2</th>\n",
       "      <td>CartScreenAppear</td>\n",
       "      <td>3734</td>\n",
       "      <td>49.56</td>\n",
       "    </tr>\n",
       "    <tr>\n",
       "      <th>3</th>\n",
       "      <td>PaymentScreenSuccessful</td>\n",
       "      <td>3539</td>\n",
       "      <td>46.97</td>\n",
       "    </tr>\n",
       "    <tr>\n",
       "      <th>4</th>\n",
       "      <td>Tutorial</td>\n",
       "      <td>840</td>\n",
       "      <td>11.15</td>\n",
       "    </tr>\n",
       "  </tbody>\n",
       "</table>\n",
       "</div>"
      ],
      "text/plain": [
       "                     event  total  ratio, %\n",
       "0         MainScreenAppear   7419     98.47\n",
       "1       OffersScreenAppear   4593     60.96\n",
       "2         CartScreenAppear   3734     49.56\n",
       "3  PaymentScreenSuccessful   3539     46.97\n",
       "4                 Tutorial    840     11.15"
      ]
     },
     "metadata": {},
     "output_type": "display_data"
    }
   ],
   "source": [
    "# посчитаем сколько пользователей совершили эти события и долю\n",
    "users = df.groupby('event')\\\n",
    "           .agg({'user_id':'nunique'})\\\n",
    "           .sort_values(by='user_id', ascending=False)\\\n",
    "           .rename(columns={'user_id':'total'})\\\n",
    "           .reset_index()\n",
    "            \n",
    "users['ratio, %'] = users['total']/df['user_id'].nunique()*100\n",
    "display(users)"
   ]
  },
  {
   "cell_type": "markdown",
   "metadata": {},
   "source": [
    "* MainScreenAppear. Главную страницу приложения увидело 7419 пользователей.\n",
    "* OffersScreenAppear. Предложение товаров увидело 4593 пользователя.\n",
    "* CartScreenAppear. Корзину увидело 3734 пользователей.\n",
    "* PaymentScreenSuccessful. Страничку об успешной оплате увидело 3539 пользователей.\n",
    "* Tutorial. Туториал увидело 840 пользователей."
   ]
  },
  {
   "cell_type": "markdown",
   "metadata": {},
   "source": [
    "Пользователи сначала видят главную страницу, далее страницу с предложениями, затем переходят в корзину и при оплате видят страничку с успешной оплатой. Туториал пользователи обычно не смотрят в связи с интуитивно понятным интерфейсом. Уберем эту строку из цепочки."
   ]
  },
  {
   "cell_type": "code",
   "execution_count": 18,
   "metadata": {},
   "outputs": [
    {
     "data": {
      "text/html": [
       "<div>\n",
       "<style scoped>\n",
       "    .dataframe tbody tr th:only-of-type {\n",
       "        vertical-align: middle;\n",
       "    }\n",
       "\n",
       "    .dataframe tbody tr th {\n",
       "        vertical-align: top;\n",
       "    }\n",
       "\n",
       "    .dataframe thead th {\n",
       "        text-align: right;\n",
       "    }\n",
       "</style>\n",
       "<table border=\"1\" class=\"dataframe\">\n",
       "  <thead>\n",
       "    <tr style=\"text-align: right;\">\n",
       "      <th></th>\n",
       "      <th>event</th>\n",
       "      <th>total</th>\n",
       "      <th>CR, %</th>\n",
       "      <th>CR per step, %</th>\n",
       "    </tr>\n",
       "  </thead>\n",
       "  <tbody>\n",
       "    <tr>\n",
       "      <th>0</th>\n",
       "      <td>MainScreenAppear</td>\n",
       "      <td>7419</td>\n",
       "      <td>100.00</td>\n",
       "      <td>100.00</td>\n",
       "    </tr>\n",
       "    <tr>\n",
       "      <th>1</th>\n",
       "      <td>OffersScreenAppear</td>\n",
       "      <td>4593</td>\n",
       "      <td>61.91</td>\n",
       "      <td>61.91</td>\n",
       "    </tr>\n",
       "    <tr>\n",
       "      <th>2</th>\n",
       "      <td>CartScreenAppear</td>\n",
       "      <td>3734</td>\n",
       "      <td>50.33</td>\n",
       "      <td>81.30</td>\n",
       "    </tr>\n",
       "    <tr>\n",
       "      <th>3</th>\n",
       "      <td>PaymentScreenSuccessful</td>\n",
       "      <td>3539</td>\n",
       "      <td>47.70</td>\n",
       "      <td>94.78</td>\n",
       "    </tr>\n",
       "  </tbody>\n",
       "</table>\n",
       "</div>"
      ],
      "text/plain": [
       "                     event  total  CR, %  CR per step, %\n",
       "0         MainScreenAppear   7419 100.00          100.00\n",
       "1       OffersScreenAppear   4593  61.91           61.91\n",
       "2         CartScreenAppear   3734  50.33           81.30\n",
       "3  PaymentScreenSuccessful   3539  47.70           94.78"
      ]
     },
     "metadata": {},
     "output_type": "display_data"
    }
   ],
   "source": [
    "# уберем из users строку с туториалом и столбец 'ratio, %'\n",
    "users = users.query('event != \"Tutorial\"')\n",
    "users = users.drop('ratio, %', axis=1)\n",
    "\n",
    "# посчитаем конверсию и конверсию в шаг\n",
    "users['CR, %'] = users['total'].div(users.loc[0, 'total'], axis=0) * 100\n",
    "users['CR per step, %'] = users['total'] / np.roll(users['total'], shift=1) * 100\n",
    "users.loc[0, 'CR per step, %'] = 100.00\n",
    "display(users)"
   ]
  },
  {
   "cell_type": "markdown",
   "metadata": {},
   "source": [
    "Как видим больше всего пользователей мы теряем в самый первый шаг - 38.09%. До оплаты доходят только 47.7% пользователей."
   ]
  },
  {
   "cell_type": "markdown",
   "metadata": {},
   "source": [
    "### Анализ A/A/B-теста"
   ]
  },
  {
   "cell_type": "code",
   "execution_count": 19,
   "metadata": {},
   "outputs": [
    {
     "data": {
      "text/html": [
       "<div>\n",
       "<style scoped>\n",
       "    .dataframe tbody tr th:only-of-type {\n",
       "        vertical-align: middle;\n",
       "    }\n",
       "\n",
       "    .dataframe tbody tr th {\n",
       "        vertical-align: top;\n",
       "    }\n",
       "\n",
       "    .dataframe thead th {\n",
       "        text-align: right;\n",
       "    }\n",
       "</style>\n",
       "<table border=\"1\" class=\"dataframe\">\n",
       "  <thead>\n",
       "    <tr style=\"text-align: right;\">\n",
       "      <th></th>\n",
       "      <th>user_id</th>\n",
       "    </tr>\n",
       "    <tr>\n",
       "      <th>group</th>\n",
       "      <th></th>\n",
       "    </tr>\n",
       "  </thead>\n",
       "  <tbody>\n",
       "    <tr>\n",
       "      <th>246</th>\n",
       "      <td>2484</td>\n",
       "    </tr>\n",
       "    <tr>\n",
       "      <th>247</th>\n",
       "      <td>2513</td>\n",
       "    </tr>\n",
       "    <tr>\n",
       "      <th>248</th>\n",
       "      <td>2537</td>\n",
       "    </tr>\n",
       "  </tbody>\n",
       "</table>\n",
       "</div>"
      ],
      "text/plain": [
       "       user_id\n",
       "group         \n",
       "246       2484\n",
       "247       2513\n",
       "248       2537"
      ]
     },
     "metadata": {},
     "output_type": "display_data"
    }
   ],
   "source": [
    "# посчитаем количество пользователей 3 экспериментальных групп\n",
    "display(df.groupby('group').agg({'user_id':'nunique'}))"
   ]
  },
  {
   "cell_type": "markdown",
   "metadata": {},
   "source": [
    "Проверим, находят ли статистические критерии разницу между выборками 246 и 247 (А/А). Для этого сгруппируем события для каждой группы. Далее зададим функцию, которая будет проверять гипотезы о равенство долей для каждого события. У нас множественный тест, поэтому зададим поправку Бонферрони: так-как события 4, то для А/А теста будет 4 гипотезы (alpha / 4). Для A/B - 12 гипотез (alpha / 12):  по 4 событиями мы сравниваем 246 с 248, 247 с 248, бъединенную 246 и 247 с 248."
   ]
  },
  {
   "cell_type": "code",
   "execution_count": 20,
   "metadata": {},
   "outputs": [
    {
     "data": {
      "text/html": [
       "<div>\n",
       "<style scoped>\n",
       "    .dataframe tbody tr th:only-of-type {\n",
       "        vertical-align: middle;\n",
       "    }\n",
       "\n",
       "    .dataframe tbody tr th {\n",
       "        vertical-align: top;\n",
       "    }\n",
       "\n",
       "    .dataframe thead th {\n",
       "        text-align: right;\n",
       "    }\n",
       "</style>\n",
       "<table border=\"1\" class=\"dataframe\">\n",
       "  <thead>\n",
       "    <tr style=\"text-align: right;\">\n",
       "      <th></th>\n",
       "      <th>event</th>\n",
       "      <th>group</th>\n",
       "      <th>total</th>\n",
       "    </tr>\n",
       "  </thead>\n",
       "  <tbody>\n",
       "    <tr>\n",
       "      <th>0</th>\n",
       "      <td>MainScreenAppear</td>\n",
       "      <td>248</td>\n",
       "      <td>2493</td>\n",
       "    </tr>\n",
       "    <tr>\n",
       "      <th>1</th>\n",
       "      <td>OffersScreenAppear</td>\n",
       "      <td>248</td>\n",
       "      <td>1531</td>\n",
       "    </tr>\n",
       "    <tr>\n",
       "      <th>2</th>\n",
       "      <td>CartScreenAppear</td>\n",
       "      <td>248</td>\n",
       "      <td>1230</td>\n",
       "    </tr>\n",
       "    <tr>\n",
       "      <th>3</th>\n",
       "      <td>PaymentScreenSuccessful</td>\n",
       "      <td>248</td>\n",
       "      <td>1181</td>\n",
       "    </tr>\n",
       "    <tr>\n",
       "      <th>5</th>\n",
       "      <td>MainScreenAppear</td>\n",
       "      <td>247</td>\n",
       "      <td>2476</td>\n",
       "    </tr>\n",
       "    <tr>\n",
       "      <th>6</th>\n",
       "      <td>OffersScreenAppear</td>\n",
       "      <td>247</td>\n",
       "      <td>1520</td>\n",
       "    </tr>\n",
       "    <tr>\n",
       "      <th>7</th>\n",
       "      <td>CartScreenAppear</td>\n",
       "      <td>247</td>\n",
       "      <td>1238</td>\n",
       "    </tr>\n",
       "    <tr>\n",
       "      <th>8</th>\n",
       "      <td>PaymentScreenSuccessful</td>\n",
       "      <td>247</td>\n",
       "      <td>1158</td>\n",
       "    </tr>\n",
       "    <tr>\n",
       "      <th>10</th>\n",
       "      <td>MainScreenAppear</td>\n",
       "      <td>246</td>\n",
       "      <td>2450</td>\n",
       "    </tr>\n",
       "    <tr>\n",
       "      <th>11</th>\n",
       "      <td>OffersScreenAppear</td>\n",
       "      <td>246</td>\n",
       "      <td>1542</td>\n",
       "    </tr>\n",
       "    <tr>\n",
       "      <th>12</th>\n",
       "      <td>CartScreenAppear</td>\n",
       "      <td>246</td>\n",
       "      <td>1266</td>\n",
       "    </tr>\n",
       "    <tr>\n",
       "      <th>13</th>\n",
       "      <td>PaymentScreenSuccessful</td>\n",
       "      <td>246</td>\n",
       "      <td>1200</td>\n",
       "    </tr>\n",
       "  </tbody>\n",
       "</table>\n",
       "</div>"
      ],
      "text/plain": [
       "                      event  group  total\n",
       "0          MainScreenAppear    248   2493\n",
       "1        OffersScreenAppear    248   1531\n",
       "2          CartScreenAppear    248   1230\n",
       "3   PaymentScreenSuccessful    248   1181\n",
       "5          MainScreenAppear    247   2476\n",
       "6        OffersScreenAppear    247   1520\n",
       "7          CartScreenAppear    247   1238\n",
       "8   PaymentScreenSuccessful    247   1158\n",
       "10         MainScreenAppear    246   2450\n",
       "11       OffersScreenAppear    246   1542\n",
       "12         CartScreenAppear    246   1266\n",
       "13  PaymentScreenSuccessful    246   1200"
      ]
     },
     "metadata": {},
     "output_type": "display_data"
    }
   ],
   "source": [
    "# группируем данные\n",
    "test = (df.groupby(['event', 'group'])\\\n",
    "                   .agg({'user_id': 'nunique'})\\\n",
    "                   .rename(columns={'user_id' : 'total'})\\\n",
    "                   .sort_values(by=['group','total'], ascending=False))\\\n",
    "                   .reset_index()\n",
    "\n",
    "# избавляемся от ненужного события\n",
    "test = test.query('event != \"Tutorial\"')\n",
    "display(test)"
   ]
  },
  {
   "cell_type": "code",
   "execution_count": 21,
   "metadata": {},
   "outputs": [],
   "source": [
    "# задаем функцию, которая будет проверять гипотезы о равенство долей для каждого события с поправкой Бонферрони\n",
    "def z_test(df1, df2, event, alpha, n):\n",
    "    \n",
    "    # уровень статистической значимости c поправкой Бонферрони\n",
    "    bonferroni_alpha = alpha / n\n",
    " \n",
    "    # число пользователей в группе 1 и группе 2:\n",
    "    n_users = np.array([df1['user_id'].nunique(), \n",
    "                        df2['user_id'].nunique()])\n",
    "\n",
    "    # число пользователей, совершивших событие в группе 1 и группе 2\n",
    "    success = np.array([df1[df1['event'] == event]['user_id'].nunique(), \n",
    "                        df2[df2['event'] == event]['user_id'].nunique()])\n",
    "\n",
    "    # пропорции успехов в группах:\n",
    "    p1 = success[0]/n_users[0]\n",
    "    p2 = success[1]/n_users[1]\n",
    "    \n",
    "    # пропорция успехов в комбинированном датасете:\n",
    "    p_combined = (success[0] + success[1]) / (n_users[0] + n_users[1])\n",
    "\n",
    "    # разница пропорций в датасетах\n",
    "    difference = p1 - p2 \n",
    "\n",
    "    # считаем статистику в ст.отклонениях стандартного нормального распределения\n",
    "    z_value = difference /  np.sqrt(p_combined * (1 - p_combined) * (1/n_users[0] + 1/n_users[1]))\n",
    "\n",
    "    # задаем стандартное нормальное распределение (среднее 0, ст.отклонение 1)\n",
    "    distr = st.norm(0, 1)  \n",
    "\n",
    "    p_value = (1 - distr.cdf(abs(z_value))) * 2   #тест двусторонний, удваиваем результат\n",
    "    \n",
    "    print('Событие:', event)\n",
    "    print('p-value: ', p_value)\n",
    "\n",
    "    if p_value < bonferroni_alpha:\n",
    "        print('Отвергаем нулевую гипотезу: между долями есть разница')\n",
    "    else:\n",
    "        print(\n",
    "        'Не получилось отвергнуть нулевую гипотезу, нет оснований считать доли разными')"
   ]
  },
  {
   "cell_type": "markdown",
   "metadata": {},
   "source": [
    "#### A/A тест. Сравнение 246 и 247 группы"
   ]
  },
  {
   "cell_type": "markdown",
   "metadata": {},
   "source": [
    "Сформулируем гипотезы:\n",
    "\n",
    "* $H_{0}$: различий в долях конкретного события между группами нет\n",
    "* $H_{1}$: различия в долях конкретного события между группами есть"
   ]
  },
  {
   "cell_type": "code",
   "execution_count": 22,
   "metadata": {},
   "outputs": [
    {
     "name": "stdout",
     "output_type": "stream",
     "text": [
      "Событие: MainScreenAppear\n",
      "p-value:  0.7570597232046099\n",
      "Не получилось отвергнуть нулевую гипотезу, нет оснований считать доли разными\n",
      "\n",
      "Событие: OffersScreenAppear\n",
      "p-value:  0.2480954578522181\n",
      "Не получилось отвергнуть нулевую гипотезу, нет оснований считать доли разными\n",
      "\n",
      "Событие: CartScreenAppear\n",
      "p-value:  0.22883372237997213\n",
      "Не получилось отвергнуть нулевую гипотезу, нет оснований считать доли разными\n",
      "\n",
      "Событие: PaymentScreenSuccessful\n",
      "p-value:  0.11456679313141849\n",
      "Не получилось отвергнуть нулевую гипотезу, нет оснований считать доли разными\n",
      "\n"
     ]
    }
   ],
   "source": [
    "for event in test['event'].unique():\n",
    "    z_test(df[df['group'] == 246], df[df['group'] == 247], event, 0.05, 4)\n",
    "    print()"
   ]
  },
  {
   "cell_type": "markdown",
   "metadata": {},
   "source": [
    "Между долями разницы нет по всем событиям, следовательно можно проводить A/B тест."
   ]
  },
  {
   "cell_type": "markdown",
   "metadata": {},
   "source": [
    "#### A/B тест. Сравнение 246 и 248 группы"
   ]
  },
  {
   "cell_type": "markdown",
   "metadata": {},
   "source": [
    "Сформулируем гипотезы:\n",
    "\n",
    "* $H_{0}$: различий в долях конкретного события между группами нет\n",
    "* $H_{1}$: различия в долях конкретного события между группами есть"
   ]
  },
  {
   "cell_type": "code",
   "execution_count": 23,
   "metadata": {},
   "outputs": [
    {
     "name": "stdout",
     "output_type": "stream",
     "text": [
      "Событие: MainScreenAppear\n",
      "p-value:  0.2949721933554552\n",
      "Не получилось отвергнуть нулевую гипотезу, нет оснований считать доли разными\n",
      "\n",
      "Событие: OffersScreenAppear\n",
      "p-value:  0.20836205402738917\n",
      "Не получилось отвергнуть нулевую гипотезу, нет оснований считать доли разными\n",
      "\n",
      "Событие: CartScreenAppear\n",
      "p-value:  0.07842923237520116\n",
      "Не получилось отвергнуть нулевую гипотезу, нет оснований считать доли разными\n",
      "\n",
      "Событие: PaymentScreenSuccessful\n",
      "p-value:  0.2122553275697796\n",
      "Не получилось отвергнуть нулевую гипотезу, нет оснований считать доли разными\n",
      "\n"
     ]
    }
   ],
   "source": [
    "for event in test['event'].unique():\n",
    "    z_test(df[df['group'] == 246], df[df['group'] == 248], event, .05, 12)\n",
    "    print()"
   ]
  },
  {
   "cell_type": "markdown",
   "metadata": {},
   "source": [
    "Между долями разницы нет по всем событиям."
   ]
  },
  {
   "cell_type": "markdown",
   "metadata": {},
   "source": [
    "#### A/B тест. Сравнение 247 и 248 группы"
   ]
  },
  {
   "cell_type": "markdown",
   "metadata": {},
   "source": [
    "Сформулируем гипотезы:\n",
    "\n",
    "* $H_{0}$: различий в долях конкретного события между группами нет\n",
    "* $H_{1}$: различия в долях конкретного события между группами есть"
   ]
  },
  {
   "cell_type": "code",
   "execution_count": 24,
   "metadata": {},
   "outputs": [
    {
     "name": "stdout",
     "output_type": "stream",
     "text": [
      "Событие: MainScreenAppear\n",
      "p-value:  0.4587053616621515\n",
      "Не получилось отвергнуть нулевую гипотезу, нет оснований считать доли разными\n",
      "\n",
      "Событие: OffersScreenAppear\n",
      "p-value:  0.9197817830592261\n",
      "Не получилось отвергнуть нулевую гипотезу, нет оснований считать доли разными\n",
      "\n",
      "Событие: CartScreenAppear\n",
      "p-value:  0.5786197879539783\n",
      "Не получилось отвергнуть нулевую гипотезу, нет оснований считать доли разными\n",
      "\n",
      "Событие: PaymentScreenSuccessful\n",
      "p-value:  0.7373415053803964\n",
      "Не получилось отвергнуть нулевую гипотезу, нет оснований считать доли разными\n",
      "\n"
     ]
    }
   ],
   "source": [
    "for event in test['event'].unique():\n",
    "    z_test(df[df['group'] == 247], df[df['group'] == 248], event,.05, 12)\n",
    "    print()"
   ]
  },
  {
   "cell_type": "markdown",
   "metadata": {},
   "source": [
    "Между долями разницы нет по всем событиям."
   ]
  },
  {
   "cell_type": "markdown",
   "metadata": {},
   "source": [
    "#### A/B тест. Сравнение 246+247 и 248 группы"
   ]
  },
  {
   "cell_type": "markdown",
   "metadata": {},
   "source": [
    "Сформулируем гипотезы:\n",
    "\n",
    "* $H_{0}$: различий в долях конкретного события между группами нет\n",
    "* $H_{1}$: различия в долях конкретного события между группами есть"
   ]
  },
  {
   "cell_type": "code",
   "execution_count": 25,
   "metadata": {},
   "outputs": [
    {
     "name": "stdout",
     "output_type": "stream",
     "text": [
      "Событие: MainScreenAppear\n",
      "p-value:  0.29424526837179577\n",
      "Не получилось отвергнуть нулевую гипотезу, нет оснований считать доли разными\n",
      "\n",
      "Событие: OffersScreenAppear\n",
      "p-value:  0.43425549655188256\n",
      "Не получилось отвергнуть нулевую гипотезу, нет оснований считать доли разными\n",
      "\n",
      "Событие: CartScreenAppear\n",
      "p-value:  0.18175875284404386\n",
      "Не получилось отвергнуть нулевую гипотезу, нет оснований считать доли разными\n",
      "\n",
      "Событие: PaymentScreenSuccessful\n",
      "p-value:  0.6004294282308704\n",
      "Не получилось отвергнуть нулевую гипотезу, нет оснований считать доли разными\n",
      "\n"
     ]
    }
   ],
   "source": [
    "for event in test['event'].unique():\n",
    "    z_test(df[df['group'] != 248], df[df['group'] == 248], event,.05,12)\n",
    "    print()"
   ]
  },
  {
   "cell_type": "markdown",
   "metadata": {},
   "source": [
    "Между долями разницы нет по всем событиям."
   ]
  },
  {
   "cell_type": "markdown",
   "metadata": {},
   "source": [
    "### Общий вывод"
   ]
  },
  {
   "cell_type": "markdown",
   "metadata": {},
   "source": [
    "**Воронка событий**\n",
    "\n",
    "После анализа поведения пользователей мы смогли постоить воронку событий:\n",
    "\n",
    "* MainScreenAppear. Главную страницу приложения увидело 7419 пользователей.\n",
    "* OffersScreenAppear. Предложение товаров увидело 4593 пользователя.\n",
    "* CartScreenAppear. Корзину увидело 3734 пользователей.\n",
    "* PaymentScreenSuccessful. Страничку об успешной оплате увидело 3539 пользователей.\n",
    "* Tutorial. Туториал увидело 840 пользователей.\n",
    "\n",
    "Мы исключили событие туториал при анализе A/A/B-теста, так-как далеко не все пользователи пользуются данной возможностью.\n",
    "\n",
    "**Анализ A/A/B теста**\n",
    "\n",
    "В тесте участовали:\n",
    "\n",
    "* 246 - группа A, 2484 человека. \n",
    "* 247 - группа A, 2513 человек.\n",
    "* 248 - группа B, 2537 человек.\n",
    "\n",
    "Мы провели множественное сравнение по каждому событию и не обнаружили статистически значимой разницы между группами, поэтому мы утверждаем, что изменение шрифта никак на пользователей не повлияло."
   ]
  }
 ],
 "metadata": {
  "ExecuteTimeLog": [
   {
    "duration": 129,
    "start_time": "2023-04-06T13:16:58.305Z"
   },
   {
    "duration": 1313,
    "start_time": "2023-04-06T13:27:25.715Z"
   },
   {
    "duration": 811,
    "start_time": "2023-04-06T13:29:14.249Z"
   },
   {
    "duration": 507,
    "start_time": "2023-04-06T13:29:28.736Z"
   },
   {
    "duration": 262,
    "start_time": "2023-04-06T13:29:40.135Z"
   },
   {
    "duration": 100,
    "start_time": "2023-04-06T13:29:51.244Z"
   },
   {
    "duration": 154,
    "start_time": "2023-04-06T13:30:04.927Z"
   },
   {
    "duration": 166,
    "start_time": "2023-04-06T13:30:31.488Z"
   },
   {
    "duration": 48,
    "start_time": "2023-04-07T08:36:13.598Z"
   },
   {
    "duration": 1245,
    "start_time": "2023-04-07T08:36:19.888Z"
   },
   {
    "duration": 688,
    "start_time": "2023-04-07T08:36:21.135Z"
   },
   {
    "duration": 21,
    "start_time": "2023-04-07T08:36:21.825Z"
   },
   {
    "duration": 10,
    "start_time": "2023-04-07T08:39:07.423Z"
   },
   {
    "duration": 14,
    "start_time": "2023-04-07T08:39:09.943Z"
   },
   {
    "duration": 32,
    "start_time": "2023-04-07T08:42:10.146Z"
   },
   {
    "duration": 113,
    "start_time": "2023-04-07T08:42:18.228Z"
   },
   {
    "duration": 23,
    "start_time": "2023-04-07T08:42:20.720Z"
   },
   {
    "duration": 19,
    "start_time": "2023-04-07T08:42:28.339Z"
   },
   {
    "duration": 3,
    "start_time": "2023-04-07T08:46:25.600Z"
   },
   {
    "duration": 18,
    "start_time": "2023-04-07T08:46:55.905Z"
   },
   {
    "duration": 73,
    "start_time": "2023-04-07T08:47:14.724Z"
   },
   {
    "duration": 8,
    "start_time": "2023-04-07T08:47:51.084Z"
   },
   {
    "duration": 20,
    "start_time": "2023-04-07T08:47:52.540Z"
   },
   {
    "duration": 8,
    "start_time": "2023-04-07T08:48:42.682Z"
   },
   {
    "duration": 7,
    "start_time": "2023-04-07T08:52:20.044Z"
   },
   {
    "duration": 18,
    "start_time": "2023-04-07T08:52:23.691Z"
   },
   {
    "duration": 6,
    "start_time": "2023-04-07T08:55:29.433Z"
   },
   {
    "duration": 17,
    "start_time": "2023-04-07T08:55:33.876Z"
   },
   {
    "duration": 1091,
    "start_time": "2023-04-07T08:55:52.205Z"
   },
   {
    "duration": 165,
    "start_time": "2023-04-07T08:55:53.298Z"
   },
   {
    "duration": 20,
    "start_time": "2023-04-07T08:55:53.465Z"
   },
   {
    "duration": 7,
    "start_time": "2023-04-07T08:55:53.487Z"
   },
   {
    "duration": 30,
    "start_time": "2023-04-07T08:55:53.495Z"
   },
   {
    "duration": 10,
    "start_time": "2023-04-07T08:55:53.526Z"
   },
   {
    "duration": 15,
    "start_time": "2023-04-07T08:55:57.086Z"
   },
   {
    "duration": 81,
    "start_time": "2023-04-07T08:57:08.143Z"
   },
   {
    "duration": 75,
    "start_time": "2023-04-07T08:57:18.091Z"
   },
   {
    "duration": 5,
    "start_time": "2023-04-07T08:58:58.303Z"
   },
   {
    "duration": 92,
    "start_time": "2023-04-07T09:01:48.393Z"
   },
   {
    "duration": 93,
    "start_time": "2023-04-07T09:03:28.195Z"
   },
   {
    "duration": 111,
    "start_time": "2023-04-07T09:03:36.295Z"
   },
   {
    "duration": 88,
    "start_time": "2023-04-07T09:03:56.130Z"
   },
   {
    "duration": 141,
    "start_time": "2023-04-07T09:04:11.013Z"
   },
   {
    "duration": 89,
    "start_time": "2023-04-07T09:06:21.441Z"
   },
   {
    "duration": 187,
    "start_time": "2023-04-07T09:06:57.399Z"
   },
   {
    "duration": 173,
    "start_time": "2023-04-07T09:07:04.648Z"
   },
   {
    "duration": 186,
    "start_time": "2023-04-07T09:07:16.668Z"
   },
   {
    "duration": 185,
    "start_time": "2023-04-07T09:07:31.899Z"
   },
   {
    "duration": 294,
    "start_time": "2023-04-07T09:07:57.960Z"
   },
   {
    "duration": 344,
    "start_time": "2023-04-07T09:08:06.927Z"
   },
   {
    "duration": 1107,
    "start_time": "2023-04-07T09:08:14.983Z"
   },
   {
    "duration": 163,
    "start_time": "2023-04-07T09:08:16.092Z"
   },
   {
    "duration": 22,
    "start_time": "2023-04-07T09:08:16.258Z"
   },
   {
    "duration": 8,
    "start_time": "2023-04-07T09:08:16.282Z"
   },
   {
    "duration": 21,
    "start_time": "2023-04-07T09:08:16.292Z"
   },
   {
    "duration": 103,
    "start_time": "2023-04-07T09:08:16.314Z"
   },
   {
    "duration": 5,
    "start_time": "2023-04-07T09:08:16.419Z"
   },
   {
    "duration": 322,
    "start_time": "2023-04-07T09:08:16.426Z"
   },
   {
    "duration": 3,
    "start_time": "2023-04-07T09:08:16.751Z"
   },
   {
    "duration": 30,
    "start_time": "2023-04-07T09:10:47.836Z"
   },
   {
    "duration": 1106,
    "start_time": "2023-04-07T09:11:17.557Z"
   },
   {
    "duration": 163,
    "start_time": "2023-04-07T09:11:18.665Z"
   },
   {
    "duration": 20,
    "start_time": "2023-04-07T09:11:18.830Z"
   },
   {
    "duration": 12,
    "start_time": "2023-04-07T09:11:18.852Z"
   },
   {
    "duration": 31,
    "start_time": "2023-04-07T09:11:18.866Z"
   },
   {
    "duration": 119,
    "start_time": "2023-04-07T09:11:18.898Z"
   },
   {
    "duration": 5,
    "start_time": "2023-04-07T09:11:19.018Z"
   },
   {
    "duration": 260,
    "start_time": "2023-04-07T09:11:19.025Z"
   },
   {
    "duration": 20,
    "start_time": "2023-04-07T09:11:19.287Z"
   },
   {
    "duration": 10,
    "start_time": "2023-04-07T09:11:30.493Z"
   },
   {
    "duration": 75,
    "start_time": "2023-04-07T09:17:43.940Z"
   },
   {
    "duration": 81,
    "start_time": "2023-04-07T09:18:03.754Z"
   },
   {
    "duration": 90,
    "start_time": "2023-04-07T09:18:27.050Z"
   },
   {
    "duration": 19,
    "start_time": "2023-04-07T09:18:41.722Z"
   },
   {
    "duration": 74,
    "start_time": "2023-04-07T09:19:09.620Z"
   },
   {
    "duration": 95,
    "start_time": "2023-04-07T09:19:22.118Z"
   },
   {
    "duration": 33,
    "start_time": "2023-04-07T09:19:32.373Z"
   },
   {
    "duration": 7,
    "start_time": "2023-04-07T09:20:59.702Z"
   },
   {
    "duration": 80,
    "start_time": "2023-04-07T09:24:57.895Z"
   },
   {
    "duration": 85,
    "start_time": "2023-04-07T09:25:24.625Z"
   },
   {
    "duration": 81,
    "start_time": "2023-04-07T09:25:32.110Z"
   },
   {
    "duration": 73,
    "start_time": "2023-04-07T09:25:39.326Z"
   },
   {
    "duration": 21,
    "start_time": "2023-04-07T09:25:49.710Z"
   },
   {
    "duration": 1154,
    "start_time": "2023-04-07T09:58:02.629Z"
   },
   {
    "duration": 165,
    "start_time": "2023-04-07T09:58:03.784Z"
   },
   {
    "duration": 26,
    "start_time": "2023-04-07T09:58:03.953Z"
   },
   {
    "duration": 9,
    "start_time": "2023-04-07T09:58:03.981Z"
   },
   {
    "duration": 26,
    "start_time": "2023-04-07T09:58:03.991Z"
   },
   {
    "duration": 148,
    "start_time": "2023-04-07T09:58:04.019Z"
   },
   {
    "duration": 6,
    "start_time": "2023-04-07T09:58:04.169Z"
   },
   {
    "duration": 269,
    "start_time": "2023-04-07T09:58:04.177Z"
   },
   {
    "duration": 25,
    "start_time": "2023-04-07T09:58:04.449Z"
   },
   {
    "duration": 32,
    "start_time": "2023-04-07T09:58:04.476Z"
   },
   {
    "duration": 4,
    "start_time": "2023-04-07T09:58:04.510Z"
   },
   {
    "duration": 18,
    "start_time": "2023-04-07T09:58:04.516Z"
   },
   {
    "duration": 7,
    "start_time": "2023-04-07T09:58:55.244Z"
   },
   {
    "duration": 18,
    "start_time": "2023-04-07T09:59:26.553Z"
   },
   {
    "duration": 5,
    "start_time": "2023-04-07T09:59:42.132Z"
   },
   {
    "duration": 7,
    "start_time": "2023-04-07T09:59:53.963Z"
   },
   {
    "duration": 88,
    "start_time": "2023-04-07T10:00:14.417Z"
   },
   {
    "duration": 7,
    "start_time": "2023-04-07T10:00:19.852Z"
   },
   {
    "duration": 5,
    "start_time": "2023-04-07T10:05:45.445Z"
   },
   {
    "duration": 6,
    "start_time": "2023-04-07T10:06:36.662Z"
   },
   {
    "duration": 262,
    "start_time": "2023-04-07T10:07:12.497Z"
   },
   {
    "duration": 227,
    "start_time": "2023-04-07T10:08:13.703Z"
   },
   {
    "duration": 206,
    "start_time": "2023-04-07T10:08:19.918Z"
   },
   {
    "duration": 309,
    "start_time": "2023-04-07T10:08:45.603Z"
   },
   {
    "duration": 210,
    "start_time": "2023-04-07T10:08:52.907Z"
   },
   {
    "duration": 253,
    "start_time": "2023-04-07T10:09:24.008Z"
   },
   {
    "duration": 223,
    "start_time": "2023-04-07T10:09:37.705Z"
   },
   {
    "duration": 328,
    "start_time": "2023-04-07T10:09:51.450Z"
   },
   {
    "duration": 419,
    "start_time": "2023-04-07T10:10:11.027Z"
   },
   {
    "duration": 368,
    "start_time": "2023-04-07T10:11:32.973Z"
   },
   {
    "duration": 276,
    "start_time": "2023-04-07T10:13:29.035Z"
   },
   {
    "duration": 5921,
    "start_time": "2023-04-07T10:13:39.234Z"
   },
   {
    "duration": 1189,
    "start_time": "2023-04-07T10:14:26.940Z"
   },
   {
    "duration": 171,
    "start_time": "2023-04-07T10:14:28.132Z"
   },
   {
    "duration": 21,
    "start_time": "2023-04-07T10:14:28.305Z"
   },
   {
    "duration": 7,
    "start_time": "2023-04-07T10:14:28.328Z"
   },
   {
    "duration": 37,
    "start_time": "2023-04-07T10:14:28.337Z"
   },
   {
    "duration": 123,
    "start_time": "2023-04-07T10:14:28.376Z"
   },
   {
    "duration": 5,
    "start_time": "2023-04-07T10:14:28.501Z"
   },
   {
    "duration": 265,
    "start_time": "2023-04-07T10:14:28.508Z"
   },
   {
    "duration": 21,
    "start_time": "2023-04-07T10:14:28.775Z"
   },
   {
    "duration": 35,
    "start_time": "2023-04-07T10:14:28.797Z"
   },
   {
    "duration": 28,
    "start_time": "2023-04-07T10:14:28.834Z"
   },
   {
    "duration": 7,
    "start_time": "2023-04-07T10:14:28.863Z"
   },
   {
    "duration": 5,
    "start_time": "2023-04-07T10:14:28.871Z"
   },
   {
    "duration": 78,
    "start_time": "2023-04-07T10:18:57.093Z"
   },
   {
    "duration": 47,
    "start_time": "2023-04-07T10:19:01.858Z"
   },
   {
    "duration": 1163,
    "start_time": "2023-04-07T10:19:07.432Z"
   },
   {
    "duration": 702,
    "start_time": "2023-04-07T10:19:08.597Z"
   },
   {
    "duration": 23,
    "start_time": "2023-04-07T10:19:09.300Z"
   },
   {
    "duration": 17,
    "start_time": "2023-04-07T10:19:09.325Z"
   },
   {
    "duration": 32,
    "start_time": "2023-04-07T10:19:09.344Z"
   },
   {
    "duration": 126,
    "start_time": "2023-04-07T10:19:09.377Z"
   },
   {
    "duration": 5,
    "start_time": "2023-04-07T10:19:09.504Z"
   },
   {
    "duration": 280,
    "start_time": "2023-04-07T10:19:09.510Z"
   },
   {
    "duration": 20,
    "start_time": "2023-04-07T10:19:09.792Z"
   },
   {
    "duration": 31,
    "start_time": "2023-04-07T10:19:09.814Z"
   },
   {
    "duration": 7,
    "start_time": "2023-04-07T10:19:09.862Z"
   },
   {
    "duration": 18,
    "start_time": "2023-04-07T10:19:09.870Z"
   },
   {
    "duration": 22,
    "start_time": "2023-04-07T10:19:09.889Z"
   },
   {
    "duration": 426,
    "start_time": "2023-04-07T10:19:09.913Z"
   },
   {
    "duration": 449,
    "start_time": "2023-04-07T10:19:18.695Z"
   },
   {
    "duration": 59,
    "start_time": "2023-04-07T10:21:04.663Z"
   },
   {
    "duration": 1188,
    "start_time": "2023-04-07T10:21:08.540Z"
   },
   {
    "duration": 171,
    "start_time": "2023-04-07T10:21:09.730Z"
   },
   {
    "duration": 19,
    "start_time": "2023-04-07T10:21:09.902Z"
   },
   {
    "duration": 8,
    "start_time": "2023-04-07T10:21:09.923Z"
   },
   {
    "duration": 36,
    "start_time": "2023-04-07T10:21:09.933Z"
   },
   {
    "duration": 117,
    "start_time": "2023-04-07T10:21:09.970Z"
   },
   {
    "duration": 5,
    "start_time": "2023-04-07T10:21:10.089Z"
   },
   {
    "duration": 268,
    "start_time": "2023-04-07T10:21:10.095Z"
   },
   {
    "duration": 21,
    "start_time": "2023-04-07T10:21:10.365Z"
   },
   {
    "duration": 32,
    "start_time": "2023-04-07T10:21:10.387Z"
   },
   {
    "duration": 7,
    "start_time": "2023-04-07T10:21:10.420Z"
   },
   {
    "duration": 36,
    "start_time": "2023-04-07T10:21:10.429Z"
   },
   {
    "duration": 6,
    "start_time": "2023-04-07T10:21:10.466Z"
   },
   {
    "duration": 541,
    "start_time": "2023-04-07T10:21:10.474Z"
   },
   {
    "duration": 1027,
    "start_time": "2023-04-07T10:22:27.506Z"
   },
   {
    "duration": 1212,
    "start_time": "2023-04-07T10:22:44.618Z"
   },
   {
    "duration": 488,
    "start_time": "2023-04-07T10:23:39.449Z"
   },
   {
    "duration": 480,
    "start_time": "2023-04-07T10:24:30.629Z"
   },
   {
    "duration": 425,
    "start_time": "2023-04-07T10:24:40.204Z"
   },
   {
    "duration": 323,
    "start_time": "2023-04-07T10:25:20.609Z"
   },
   {
    "duration": 325,
    "start_time": "2023-04-07T10:25:24.502Z"
   },
   {
    "duration": 343,
    "start_time": "2023-04-07T10:25:31.254Z"
   },
   {
    "duration": 315,
    "start_time": "2023-04-07T10:27:42.941Z"
   },
   {
    "duration": 419,
    "start_time": "2023-04-07T10:34:20.598Z"
   },
   {
    "duration": 362,
    "start_time": "2023-04-07T10:35:35.737Z"
   },
   {
    "duration": 338,
    "start_time": "2023-04-07T10:35:42.191Z"
   },
   {
    "duration": 404,
    "start_time": "2023-04-07T10:38:09.951Z"
   },
   {
    "duration": 333,
    "start_time": "2023-04-07T10:38:15.766Z"
   },
   {
    "duration": 448,
    "start_time": "2023-04-07T10:49:28.136Z"
   },
   {
    "duration": 351,
    "start_time": "2023-04-07T10:49:35.179Z"
   },
   {
    "duration": 1265,
    "start_time": "2023-04-07T10:51:06.577Z"
   },
   {
    "duration": 172,
    "start_time": "2023-04-07T10:51:07.844Z"
   },
   {
    "duration": 23,
    "start_time": "2023-04-07T10:51:08.018Z"
   },
   {
    "duration": 19,
    "start_time": "2023-04-07T10:51:08.042Z"
   },
   {
    "duration": 20,
    "start_time": "2023-04-07T10:51:08.063Z"
   },
   {
    "duration": 122,
    "start_time": "2023-04-07T10:51:08.084Z"
   },
   {
    "duration": 5,
    "start_time": "2023-04-07T10:51:08.208Z"
   },
   {
    "duration": 272,
    "start_time": "2023-04-07T10:51:08.214Z"
   },
   {
    "duration": 21,
    "start_time": "2023-04-07T10:51:08.488Z"
   },
   {
    "duration": 33,
    "start_time": "2023-04-07T10:51:08.511Z"
   },
   {
    "duration": 22,
    "start_time": "2023-04-07T10:51:08.545Z"
   },
   {
    "duration": 14,
    "start_time": "2023-04-07T10:51:08.569Z"
   },
   {
    "duration": 5,
    "start_time": "2023-04-07T10:51:08.584Z"
   },
   {
    "duration": 431,
    "start_time": "2023-04-07T10:51:08.592Z"
   },
   {
    "duration": 1102,
    "start_time": "2023-04-07T10:51:18.920Z"
   },
   {
    "duration": 173,
    "start_time": "2023-04-07T10:51:20.025Z"
   },
   {
    "duration": 21,
    "start_time": "2023-04-07T10:51:20.200Z"
   },
   {
    "duration": 7,
    "start_time": "2023-04-07T10:51:20.222Z"
   },
   {
    "duration": 37,
    "start_time": "2023-04-07T10:51:20.231Z"
   },
   {
    "duration": 129,
    "start_time": "2023-04-07T10:51:20.270Z"
   },
   {
    "duration": 5,
    "start_time": "2023-04-07T10:51:20.401Z"
   },
   {
    "duration": 265,
    "start_time": "2023-04-07T10:51:20.407Z"
   },
   {
    "duration": 22,
    "start_time": "2023-04-07T10:51:20.673Z"
   },
   {
    "duration": 34,
    "start_time": "2023-04-07T10:51:20.696Z"
   },
   {
    "duration": 6,
    "start_time": "2023-04-07T10:51:20.732Z"
   },
   {
    "duration": 7,
    "start_time": "2023-04-07T10:51:20.763Z"
   },
   {
    "duration": 5,
    "start_time": "2023-04-07T10:51:20.772Z"
   },
   {
    "duration": 434,
    "start_time": "2023-04-07T10:51:20.780Z"
   },
   {
    "duration": 47,
    "start_time": "2023-04-07T10:57:04.963Z"
   },
   {
    "duration": 14,
    "start_time": "2023-04-07T10:57:12.507Z"
   },
   {
    "duration": 96,
    "start_time": "2023-04-07T11:05:00.370Z"
   },
   {
    "duration": 1852,
    "start_time": "2023-04-07T11:05:06.326Z"
   },
   {
    "duration": 14,
    "start_time": "2023-04-07T11:05:19.236Z"
   },
   {
    "duration": 12,
    "start_time": "2023-04-07T11:05:22.217Z"
   },
   {
    "duration": 23,
    "start_time": "2023-04-07T11:05:41.835Z"
   },
   {
    "duration": 1247,
    "start_time": "2023-04-07T11:06:19.940Z"
   },
   {
    "duration": 180,
    "start_time": "2023-04-07T11:06:21.189Z"
   },
   {
    "duration": 21,
    "start_time": "2023-04-07T11:06:21.371Z"
   },
   {
    "duration": 8,
    "start_time": "2023-04-07T11:06:21.393Z"
   },
   {
    "duration": 21,
    "start_time": "2023-04-07T11:06:21.403Z"
   },
   {
    "duration": 136,
    "start_time": "2023-04-07T11:06:21.426Z"
   },
   {
    "duration": 5,
    "start_time": "2023-04-07T11:06:21.563Z"
   },
   {
    "duration": 271,
    "start_time": "2023-04-07T11:06:21.569Z"
   },
   {
    "duration": 30,
    "start_time": "2023-04-07T11:06:21.842Z"
   },
   {
    "duration": 41,
    "start_time": "2023-04-07T11:06:21.875Z"
   },
   {
    "duration": 8,
    "start_time": "2023-04-07T11:06:21.918Z"
   },
   {
    "duration": 23,
    "start_time": "2023-04-07T11:06:21.927Z"
   },
   {
    "duration": 11,
    "start_time": "2023-04-07T11:06:21.962Z"
   },
   {
    "duration": 462,
    "start_time": "2023-04-07T11:06:21.975Z"
   },
   {
    "duration": 28,
    "start_time": "2023-04-07T11:06:22.438Z"
   },
   {
    "duration": 90,
    "start_time": "2023-04-07T11:09:09.756Z"
   },
   {
    "duration": 35,
    "start_time": "2023-04-07T11:09:16.556Z"
   },
   {
    "duration": 1205,
    "start_time": "2023-04-07T11:09:54.460Z"
   },
   {
    "duration": 180,
    "start_time": "2023-04-07T11:09:55.667Z"
   },
   {
    "duration": 27,
    "start_time": "2023-04-07T11:09:55.849Z"
   },
   {
    "duration": 8,
    "start_time": "2023-04-07T11:09:55.878Z"
   },
   {
    "duration": 31,
    "start_time": "2023-04-07T11:09:55.890Z"
   },
   {
    "duration": 130,
    "start_time": "2023-04-07T11:09:55.922Z"
   },
   {
    "duration": 9,
    "start_time": "2023-04-07T11:09:56.053Z"
   },
   {
    "duration": 260,
    "start_time": "2023-04-07T11:09:56.064Z"
   },
   {
    "duration": 19,
    "start_time": "2023-04-07T11:09:56.326Z"
   },
   {
    "duration": 41,
    "start_time": "2023-04-07T11:09:56.347Z"
   },
   {
    "duration": 6,
    "start_time": "2023-04-07T11:09:56.390Z"
   },
   {
    "duration": 7,
    "start_time": "2023-04-07T11:09:56.398Z"
   },
   {
    "duration": 5,
    "start_time": "2023-04-07T11:09:56.407Z"
   },
   {
    "duration": 436,
    "start_time": "2023-04-07T11:09:56.414Z"
   },
   {
    "duration": 23,
    "start_time": "2023-04-07T11:09:56.852Z"
   },
   {
    "duration": 1210,
    "start_time": "2023-04-07T11:13:16.033Z"
   },
   {
    "duration": 186,
    "start_time": "2023-04-07T11:13:17.246Z"
   },
   {
    "duration": 35,
    "start_time": "2023-04-07T11:13:17.433Z"
   },
   {
    "duration": 9,
    "start_time": "2023-04-07T11:13:17.470Z"
   },
   {
    "duration": 21,
    "start_time": "2023-04-07T11:13:17.481Z"
   },
   {
    "duration": 139,
    "start_time": "2023-04-07T11:13:17.505Z"
   },
   {
    "duration": 5,
    "start_time": "2023-04-07T11:13:17.646Z"
   },
   {
    "duration": 267,
    "start_time": "2023-04-07T11:13:17.652Z"
   },
   {
    "duration": 21,
    "start_time": "2023-04-07T11:13:17.921Z"
   },
   {
    "duration": 42,
    "start_time": "2023-04-07T11:13:17.944Z"
   },
   {
    "duration": 7,
    "start_time": "2023-04-07T11:13:17.987Z"
   },
   {
    "duration": 12,
    "start_time": "2023-04-07T11:13:17.995Z"
   },
   {
    "duration": 30,
    "start_time": "2023-04-07T11:13:18.008Z"
   },
   {
    "duration": 423,
    "start_time": "2023-04-07T11:13:18.040Z"
   },
   {
    "duration": 22,
    "start_time": "2023-04-07T11:13:18.465Z"
   },
   {
    "duration": 28,
    "start_time": "2023-04-07T11:14:07.205Z"
   },
   {
    "duration": 1192,
    "start_time": "2023-04-07T11:14:12.221Z"
   },
   {
    "duration": 172,
    "start_time": "2023-04-07T11:14:13.415Z"
   },
   {
    "duration": 22,
    "start_time": "2023-04-07T11:14:13.588Z"
   },
   {
    "duration": 8,
    "start_time": "2023-04-07T11:14:13.612Z"
   },
   {
    "duration": 19,
    "start_time": "2023-04-07T11:14:13.622Z"
   },
   {
    "duration": 117,
    "start_time": "2023-04-07T11:14:13.662Z"
   },
   {
    "duration": 5,
    "start_time": "2023-04-07T11:14:13.781Z"
   },
   {
    "duration": 291,
    "start_time": "2023-04-07T11:14:13.787Z"
   },
   {
    "duration": 25,
    "start_time": "2023-04-07T11:14:14.080Z"
   },
   {
    "duration": 59,
    "start_time": "2023-04-07T11:14:14.107Z"
   },
   {
    "duration": 9,
    "start_time": "2023-04-07T11:14:14.168Z"
   },
   {
    "duration": 19,
    "start_time": "2023-04-07T11:14:14.179Z"
   },
   {
    "duration": 16,
    "start_time": "2023-04-07T11:14:14.199Z"
   },
   {
    "duration": 423,
    "start_time": "2023-04-07T11:14:14.218Z"
   },
   {
    "duration": 29,
    "start_time": "2023-04-07T11:14:14.643Z"
   },
   {
    "duration": 124,
    "start_time": "2023-04-07T11:15:01.437Z"
   },
   {
    "duration": 32,
    "start_time": "2023-04-07T11:15:45.210Z"
   },
   {
    "duration": 27,
    "start_time": "2023-04-07T11:15:56.329Z"
   },
   {
    "duration": 22,
    "start_time": "2023-04-07T11:17:18.963Z"
   },
   {
    "duration": 24,
    "start_time": "2023-04-07T11:17:26.825Z"
   },
   {
    "duration": 1183,
    "start_time": "2023-04-07T11:17:31.033Z"
   },
   {
    "duration": 164,
    "start_time": "2023-04-07T11:17:32.218Z"
   },
   {
    "duration": 22,
    "start_time": "2023-04-07T11:17:32.384Z"
   },
   {
    "duration": 11,
    "start_time": "2023-04-07T11:17:32.409Z"
   },
   {
    "duration": 24,
    "start_time": "2023-04-07T11:17:32.422Z"
   },
   {
    "duration": 134,
    "start_time": "2023-04-07T11:17:32.447Z"
   },
   {
    "duration": 6,
    "start_time": "2023-04-07T11:17:32.583Z"
   },
   {
    "duration": 253,
    "start_time": "2023-04-07T11:17:32.591Z"
   },
   {
    "duration": 31,
    "start_time": "2023-04-07T11:17:32.847Z"
   },
   {
    "duration": 33,
    "start_time": "2023-04-07T11:17:32.880Z"
   },
   {
    "duration": 7,
    "start_time": "2023-04-07T11:17:32.915Z"
   },
   {
    "duration": 7,
    "start_time": "2023-04-07T11:17:32.924Z"
   },
   {
    "duration": 30,
    "start_time": "2023-04-07T11:17:32.933Z"
   },
   {
    "duration": 434,
    "start_time": "2023-04-07T11:17:32.965Z"
   },
   {
    "duration": 26,
    "start_time": "2023-04-07T11:17:33.401Z"
   },
   {
    "duration": 25,
    "start_time": "2023-04-07T11:17:54.394Z"
   },
   {
    "duration": 1161,
    "start_time": "2023-04-07T11:17:57.824Z"
   },
   {
    "duration": 169,
    "start_time": "2023-04-07T11:17:58.987Z"
   },
   {
    "duration": 20,
    "start_time": "2023-04-07T11:17:59.158Z"
   },
   {
    "duration": 8,
    "start_time": "2023-04-07T11:17:59.180Z"
   },
   {
    "duration": 19,
    "start_time": "2023-04-07T11:17:59.190Z"
   },
   {
    "duration": 124,
    "start_time": "2023-04-07T11:17:59.210Z"
   },
   {
    "duration": 5,
    "start_time": "2023-04-07T11:17:59.336Z"
   },
   {
    "duration": 270,
    "start_time": "2023-04-07T11:17:59.342Z"
   },
   {
    "duration": 34,
    "start_time": "2023-04-07T11:17:59.614Z"
   },
   {
    "duration": 47,
    "start_time": "2023-04-07T11:17:59.650Z"
   },
   {
    "duration": 8,
    "start_time": "2023-04-07T11:17:59.699Z"
   },
   {
    "duration": 8,
    "start_time": "2023-04-07T11:17:59.708Z"
   },
   {
    "duration": 5,
    "start_time": "2023-04-07T11:17:59.717Z"
   },
   {
    "duration": 468,
    "start_time": "2023-04-07T11:17:59.725Z"
   },
   {
    "duration": 24,
    "start_time": "2023-04-07T11:18:00.195Z"
   },
   {
    "duration": 35,
    "start_time": "2023-04-07T11:18:47.264Z"
   },
   {
    "duration": 1108,
    "start_time": "2023-04-07T11:19:10.109Z"
   },
   {
    "duration": 171,
    "start_time": "2023-04-07T11:19:11.219Z"
   },
   {
    "duration": 23,
    "start_time": "2023-04-07T11:19:11.391Z"
   },
   {
    "duration": 9,
    "start_time": "2023-04-07T11:19:11.417Z"
   },
   {
    "duration": 40,
    "start_time": "2023-04-07T11:19:11.427Z"
   },
   {
    "duration": 121,
    "start_time": "2023-04-07T11:19:11.468Z"
   },
   {
    "duration": 5,
    "start_time": "2023-04-07T11:19:11.591Z"
   },
   {
    "duration": 259,
    "start_time": "2023-04-07T11:19:11.598Z"
   },
   {
    "duration": 22,
    "start_time": "2023-04-07T11:19:11.861Z"
   },
   {
    "duration": 34,
    "start_time": "2023-04-07T11:19:11.886Z"
   },
   {
    "duration": 7,
    "start_time": "2023-04-07T11:19:11.922Z"
   },
   {
    "duration": 38,
    "start_time": "2023-04-07T11:19:11.930Z"
   },
   {
    "duration": 9,
    "start_time": "2023-04-07T11:19:11.970Z"
   },
   {
    "duration": 426,
    "start_time": "2023-04-07T11:19:11.981Z"
   },
   {
    "duration": 24,
    "start_time": "2023-04-07T11:19:12.409Z"
   },
   {
    "duration": 1211,
    "start_time": "2023-04-07T11:20:14.225Z"
   },
   {
    "duration": 172,
    "start_time": "2023-04-07T11:20:15.438Z"
   },
   {
    "duration": 20,
    "start_time": "2023-04-07T11:20:15.611Z"
   },
   {
    "duration": 7,
    "start_time": "2023-04-07T11:20:15.633Z"
   },
   {
    "duration": 38,
    "start_time": "2023-04-07T11:20:15.641Z"
   },
   {
    "duration": 121,
    "start_time": "2023-04-07T11:20:15.681Z"
   },
   {
    "duration": 6,
    "start_time": "2023-04-07T11:20:15.804Z"
   },
   {
    "duration": 263,
    "start_time": "2023-04-07T11:20:15.812Z"
   },
   {
    "duration": 21,
    "start_time": "2023-04-07T11:20:16.076Z"
   },
   {
    "duration": 36,
    "start_time": "2023-04-07T11:20:16.099Z"
   },
   {
    "duration": 6,
    "start_time": "2023-04-07T11:20:16.137Z"
   },
   {
    "duration": 6,
    "start_time": "2023-04-07T11:20:16.162Z"
   },
   {
    "duration": 4,
    "start_time": "2023-04-07T11:20:16.170Z"
   },
   {
    "duration": 430,
    "start_time": "2023-04-07T11:20:16.176Z"
   },
   {
    "duration": 22,
    "start_time": "2023-04-07T11:20:16.608Z"
   },
   {
    "duration": 1155,
    "start_time": "2023-04-07T11:20:31.657Z"
   },
   {
    "duration": 174,
    "start_time": "2023-04-07T11:20:32.814Z"
   },
   {
    "duration": 20,
    "start_time": "2023-04-07T11:20:32.989Z"
   },
   {
    "duration": 7,
    "start_time": "2023-04-07T11:20:33.011Z"
   },
   {
    "duration": 35,
    "start_time": "2023-04-07T11:20:33.020Z"
   },
   {
    "duration": 118,
    "start_time": "2023-04-07T11:20:33.056Z"
   },
   {
    "duration": 5,
    "start_time": "2023-04-07T11:20:33.175Z"
   },
   {
    "duration": 280,
    "start_time": "2023-04-07T11:20:33.181Z"
   },
   {
    "duration": 20,
    "start_time": "2023-04-07T11:20:33.463Z"
   },
   {
    "duration": 31,
    "start_time": "2023-04-07T11:20:33.486Z"
   },
   {
    "duration": 7,
    "start_time": "2023-04-07T11:20:33.519Z"
   },
   {
    "duration": 7,
    "start_time": "2023-04-07T11:20:33.528Z"
   },
   {
    "duration": 7,
    "start_time": "2023-04-07T11:20:33.562Z"
   },
   {
    "duration": 426,
    "start_time": "2023-04-07T11:20:33.571Z"
   },
   {
    "duration": 22,
    "start_time": "2023-04-07T11:20:33.999Z"
   },
   {
    "duration": 40,
    "start_time": "2023-04-07T11:28:10.262Z"
   },
   {
    "duration": 32,
    "start_time": "2023-04-07T11:28:17.822Z"
   },
   {
    "duration": 142,
    "start_time": "2023-04-07T11:28:46.319Z"
   },
   {
    "duration": 69,
    "start_time": "2023-04-07T11:28:52.740Z"
   },
   {
    "duration": 9,
    "start_time": "2023-04-07T11:32:20.102Z"
   },
   {
    "duration": 33,
    "start_time": "2023-04-07T11:32:56.400Z"
   },
   {
    "duration": 51,
    "start_time": "2023-04-07T11:33:12.898Z"
   },
   {
    "duration": 33,
    "start_time": "2023-04-07T11:33:20.196Z"
   },
   {
    "duration": 41,
    "start_time": "2023-04-07T11:34:07.954Z"
   },
   {
    "duration": 26,
    "start_time": "2023-04-07T11:34:15.023Z"
   },
   {
    "duration": 26,
    "start_time": "2023-04-07T11:34:26.399Z"
   },
   {
    "duration": 39,
    "start_time": "2023-04-07T11:34:52.892Z"
   },
   {
    "duration": 37,
    "start_time": "2023-04-07T11:35:01.831Z"
   },
   {
    "duration": 26,
    "start_time": "2023-04-07T11:35:12.197Z"
   },
   {
    "duration": 26,
    "start_time": "2023-04-07T11:36:31.349Z"
   },
   {
    "duration": 27,
    "start_time": "2023-04-07T11:36:37.100Z"
   },
   {
    "duration": 31,
    "start_time": "2023-04-07T11:36:47.262Z"
   },
   {
    "duration": 77,
    "start_time": "2023-04-07T11:36:58.250Z"
   },
   {
    "duration": 31,
    "start_time": "2023-04-07T11:37:03.996Z"
   },
   {
    "duration": 91,
    "start_time": "2023-04-07T11:37:23.660Z"
   },
   {
    "duration": 27,
    "start_time": "2023-04-07T11:37:33.924Z"
   },
   {
    "duration": 89,
    "start_time": "2023-04-07T11:39:18.953Z"
   },
   {
    "duration": 91,
    "start_time": "2023-04-07T11:39:54.892Z"
   },
   {
    "duration": 305,
    "start_time": "2023-04-07T11:40:12.062Z"
   },
   {
    "duration": 35,
    "start_time": "2023-04-07T11:40:25.417Z"
   },
   {
    "duration": 1375,
    "start_time": "2023-04-07T11:40:36.547Z"
   },
   {
    "duration": 30,
    "start_time": "2023-04-07T11:41:08.180Z"
   },
   {
    "duration": 35,
    "start_time": "2023-04-07T11:43:24.071Z"
   },
   {
    "duration": 76,
    "start_time": "2023-04-07T11:43:56.806Z"
   },
   {
    "duration": 43,
    "start_time": "2023-04-07T11:44:02.432Z"
   },
   {
    "duration": 59,
    "start_time": "2023-04-07T11:45:46.508Z"
   },
   {
    "duration": 60,
    "start_time": "2023-04-07T11:46:42.211Z"
   },
   {
    "duration": 88,
    "start_time": "2023-04-07T11:47:25.228Z"
   },
   {
    "duration": 29,
    "start_time": "2023-04-07T11:47:40.225Z"
   },
   {
    "duration": 6,
    "start_time": "2023-04-07T11:50:32.032Z"
   },
   {
    "duration": 1246,
    "start_time": "2023-04-07T11:50:44.827Z"
   },
   {
    "duration": 174,
    "start_time": "2023-04-07T11:50:46.075Z"
   },
   {
    "duration": 23,
    "start_time": "2023-04-07T11:50:46.250Z"
   },
   {
    "duration": 7,
    "start_time": "2023-04-07T11:50:46.275Z"
   },
   {
    "duration": 28,
    "start_time": "2023-04-07T11:50:46.284Z"
   },
   {
    "duration": 127,
    "start_time": "2023-04-07T11:50:46.313Z"
   },
   {
    "duration": 7,
    "start_time": "2023-04-07T11:50:46.442Z"
   },
   {
    "duration": 292,
    "start_time": "2023-04-07T11:50:46.451Z"
   },
   {
    "duration": 38,
    "start_time": "2023-04-07T11:50:46.745Z"
   },
   {
    "duration": 38,
    "start_time": "2023-04-07T11:50:46.786Z"
   },
   {
    "duration": 8,
    "start_time": "2023-04-07T11:50:46.825Z"
   },
   {
    "duration": 29,
    "start_time": "2023-04-07T11:50:46.834Z"
   },
   {
    "duration": 6,
    "start_time": "2023-04-07T11:50:46.866Z"
   },
   {
    "duration": 467,
    "start_time": "2023-04-07T11:50:46.874Z"
   },
   {
    "duration": 78,
    "start_time": "2023-04-07T11:50:47.343Z"
   },
   {
    "duration": 12,
    "start_time": "2023-04-07T11:50:47.423Z"
   },
   {
    "duration": 54,
    "start_time": "2023-04-07T11:50:47.438Z"
   },
   {
    "duration": 83,
    "start_time": "2023-04-07T11:50:47.494Z"
   },
   {
    "duration": 124,
    "start_time": "2023-04-07T12:14:48.314Z"
   },
   {
    "duration": 47,
    "start_time": "2023-04-07T12:19:29.719Z"
   },
   {
    "duration": 1184,
    "start_time": "2023-04-07T12:19:36.962Z"
   },
   {
    "duration": 174,
    "start_time": "2023-04-07T12:19:38.148Z"
   },
   {
    "duration": 22,
    "start_time": "2023-04-07T12:19:38.324Z"
   },
   {
    "duration": 16,
    "start_time": "2023-04-07T12:19:38.348Z"
   },
   {
    "duration": 21,
    "start_time": "2023-04-07T12:19:38.367Z"
   },
   {
    "duration": 137,
    "start_time": "2023-04-07T12:19:38.390Z"
   },
   {
    "duration": 6,
    "start_time": "2023-04-07T12:19:38.528Z"
   },
   {
    "duration": 293,
    "start_time": "2023-04-07T12:19:38.536Z"
   },
   {
    "duration": 32,
    "start_time": "2023-04-07T12:19:38.831Z"
   },
   {
    "duration": 33,
    "start_time": "2023-04-07T12:19:38.866Z"
   },
   {
    "duration": 7,
    "start_time": "2023-04-07T12:19:38.901Z"
   },
   {
    "duration": 9,
    "start_time": "2023-04-07T12:19:38.910Z"
   },
   {
    "duration": 40,
    "start_time": "2023-04-07T12:19:38.922Z"
   },
   {
    "duration": 456,
    "start_time": "2023-04-07T12:19:38.965Z"
   },
   {
    "duration": 98,
    "start_time": "2023-04-07T12:19:39.424Z"
   },
   {
    "duration": 43,
    "start_time": "2023-04-07T12:19:39.524Z"
   },
   {
    "duration": 63,
    "start_time": "2023-04-07T12:19:39.569Z"
   },
   {
    "duration": 8,
    "start_time": "2023-04-07T12:19:39.633Z"
   },
   {
    "duration": 7,
    "start_time": "2023-04-07T12:21:14.255Z"
   },
   {
    "duration": 14,
    "start_time": "2023-04-07T12:21:18.227Z"
   },
   {
    "duration": 93,
    "start_time": "2023-04-07T12:22:22.708Z"
   },
   {
    "duration": 14,
    "start_time": "2023-04-07T12:23:40.493Z"
   },
   {
    "duration": 11,
    "start_time": "2023-04-07T12:24:25.259Z"
   },
   {
    "duration": 1390,
    "start_time": "2023-04-07T12:34:33.317Z"
   },
   {
    "duration": 1233,
    "start_time": "2023-04-07T12:34:45.166Z"
   },
   {
    "duration": 1236,
    "start_time": "2023-04-07T12:35:35.897Z"
   },
   {
    "duration": 17,
    "start_time": "2023-04-07T12:35:48.581Z"
   },
   {
    "duration": 17,
    "start_time": "2023-04-07T12:35:58.627Z"
   },
   {
    "duration": 13,
    "start_time": "2023-04-07T12:36:30.000Z"
   },
   {
    "duration": 13,
    "start_time": "2023-04-07T12:36:33.040Z"
   },
   {
    "duration": 12,
    "start_time": "2023-04-07T12:36:39.778Z"
   },
   {
    "duration": 16,
    "start_time": "2023-04-07T12:38:42.689Z"
   },
   {
    "duration": 12,
    "start_time": "2023-04-07T12:38:59.220Z"
   },
   {
    "duration": 18,
    "start_time": "2023-04-07T12:42:08.564Z"
   },
   {
    "duration": 13,
    "start_time": "2023-04-07T12:42:11.164Z"
   },
   {
    "duration": 15,
    "start_time": "2023-04-07T12:42:42.211Z"
   },
   {
    "duration": 19,
    "start_time": "2023-04-07T12:42:44.994Z"
   },
   {
    "duration": 1199,
    "start_time": "2023-04-07T12:42:50.800Z"
   },
   {
    "duration": 184,
    "start_time": "2023-04-07T12:42:52.001Z"
   },
   {
    "duration": 24,
    "start_time": "2023-04-07T12:42:52.187Z"
   },
   {
    "duration": 8,
    "start_time": "2023-04-07T12:42:52.214Z"
   },
   {
    "duration": 49,
    "start_time": "2023-04-07T12:42:52.224Z"
   },
   {
    "duration": 127,
    "start_time": "2023-04-07T12:42:52.275Z"
   },
   {
    "duration": 7,
    "start_time": "2023-04-07T12:42:52.404Z"
   },
   {
    "duration": 303,
    "start_time": "2023-04-07T12:42:52.413Z"
   },
   {
    "duration": 24,
    "start_time": "2023-04-07T12:42:52.718Z"
   },
   {
    "duration": 47,
    "start_time": "2023-04-07T12:42:52.745Z"
   },
   {
    "duration": 9,
    "start_time": "2023-04-07T12:42:52.794Z"
   },
   {
    "duration": 8,
    "start_time": "2023-04-07T12:42:52.805Z"
   },
   {
    "duration": 18,
    "start_time": "2023-04-07T12:42:52.815Z"
   },
   {
    "duration": 463,
    "start_time": "2023-04-07T12:42:52.835Z"
   },
   {
    "duration": 76,
    "start_time": "2023-04-07T12:42:53.299Z"
   },
   {
    "duration": 37,
    "start_time": "2023-04-07T12:42:53.377Z"
   },
   {
    "duration": 83,
    "start_time": "2023-04-07T12:42:53.416Z"
   },
   {
    "duration": 17,
    "start_time": "2023-04-07T12:42:53.501Z"
   },
   {
    "duration": 14,
    "start_time": "2023-04-07T12:43:15.776Z"
   },
   {
    "duration": 86,
    "start_time": "2023-04-07T12:46:43.969Z"
   },
   {
    "duration": 69,
    "start_time": "2023-04-07T12:47:41.696Z"
   },
   {
    "duration": 1281,
    "start_time": "2023-04-07T12:47:46.431Z"
   },
   {
    "duration": 234,
    "start_time": "2023-04-07T12:47:47.715Z"
   },
   {
    "duration": 23,
    "start_time": "2023-04-07T12:47:47.951Z"
   },
   {
    "duration": 9,
    "start_time": "2023-04-07T12:47:47.976Z"
   },
   {
    "duration": 24,
    "start_time": "2023-04-07T12:47:47.988Z"
   },
   {
    "duration": 143,
    "start_time": "2023-04-07T12:47:48.014Z"
   },
   {
    "duration": 5,
    "start_time": "2023-04-07T12:47:48.162Z"
   },
   {
    "duration": 293,
    "start_time": "2023-04-07T12:47:48.169Z"
   },
   {
    "duration": 21,
    "start_time": "2023-04-07T12:47:48.464Z"
   },
   {
    "duration": 33,
    "start_time": "2023-04-07T12:47:48.487Z"
   },
   {
    "duration": 8,
    "start_time": "2023-04-07T12:47:48.522Z"
   },
   {
    "duration": 35,
    "start_time": "2023-04-07T12:47:48.532Z"
   },
   {
    "duration": 9,
    "start_time": "2023-04-07T12:47:48.569Z"
   },
   {
    "duration": 466,
    "start_time": "2023-04-07T12:47:48.581Z"
   },
   {
    "duration": 90,
    "start_time": "2023-04-07T12:47:49.049Z"
   },
   {
    "duration": 49,
    "start_time": "2023-04-07T12:47:49.141Z"
   },
   {
    "duration": 89,
    "start_time": "2023-04-07T12:47:49.192Z"
   },
   {
    "duration": 12,
    "start_time": "2023-04-07T12:47:49.283Z"
   },
   {
    "duration": 71,
    "start_time": "2023-04-07T12:48:13.766Z"
   },
   {
    "duration": 1279,
    "start_time": "2023-04-07T12:50:03.510Z"
   },
   {
    "duration": 183,
    "start_time": "2023-04-07T12:50:04.792Z"
   },
   {
    "duration": 26,
    "start_time": "2023-04-07T12:50:04.979Z"
   },
   {
    "duration": 13,
    "start_time": "2023-04-07T12:50:05.006Z"
   },
   {
    "duration": 46,
    "start_time": "2023-04-07T12:50:05.021Z"
   },
   {
    "duration": 131,
    "start_time": "2023-04-07T12:50:05.069Z"
   },
   {
    "duration": 5,
    "start_time": "2023-04-07T12:50:05.202Z"
   },
   {
    "duration": 329,
    "start_time": "2023-04-07T12:50:05.209Z"
   },
   {
    "duration": 33,
    "start_time": "2023-04-07T12:50:05.541Z"
   },
   {
    "duration": 34,
    "start_time": "2023-04-07T12:50:05.576Z"
   },
   {
    "duration": 8,
    "start_time": "2023-04-07T12:50:05.612Z"
   },
   {
    "duration": 11,
    "start_time": "2023-04-07T12:50:05.622Z"
   },
   {
    "duration": 44,
    "start_time": "2023-04-07T12:50:05.635Z"
   },
   {
    "duration": 485,
    "start_time": "2023-04-07T12:50:05.681Z"
   },
   {
    "duration": 69,
    "start_time": "2023-04-07T12:50:06.167Z"
   },
   {
    "duration": 49,
    "start_time": "2023-04-07T12:50:06.238Z"
   },
   {
    "duration": 82,
    "start_time": "2023-04-07T12:50:06.288Z"
   },
   {
    "duration": 14,
    "start_time": "2023-04-07T12:50:06.373Z"
   },
   {
    "duration": 119,
    "start_time": "2023-04-07T13:01:42.661Z"
   },
   {
    "duration": 1228,
    "start_time": "2023-04-07T13:01:56.665Z"
   },
   {
    "duration": 180,
    "start_time": "2023-04-07T13:01:57.895Z"
   },
   {
    "duration": 22,
    "start_time": "2023-04-07T13:01:58.077Z"
   },
   {
    "duration": 9,
    "start_time": "2023-04-07T13:01:58.101Z"
   },
   {
    "duration": 24,
    "start_time": "2023-04-07T13:01:58.112Z"
   },
   {
    "duration": 138,
    "start_time": "2023-04-07T13:01:58.138Z"
   },
   {
    "duration": 6,
    "start_time": "2023-04-07T13:01:58.278Z"
   },
   {
    "duration": 275,
    "start_time": "2023-04-07T13:01:58.287Z"
   },
   {
    "duration": 26,
    "start_time": "2023-04-07T13:01:58.563Z"
   },
   {
    "duration": 33,
    "start_time": "2023-04-07T13:01:58.593Z"
   },
   {
    "duration": 35,
    "start_time": "2023-04-07T13:01:58.628Z"
   },
   {
    "duration": 9,
    "start_time": "2023-04-07T13:01:58.666Z"
   },
   {
    "duration": 7,
    "start_time": "2023-04-07T13:01:58.677Z"
   },
   {
    "duration": 461,
    "start_time": "2023-04-07T13:01:58.687Z"
   },
   {
    "duration": 71,
    "start_time": "2023-04-07T13:01:59.150Z"
   },
   {
    "duration": 52,
    "start_time": "2023-04-07T13:01:59.222Z"
   },
   {
    "duration": 62,
    "start_time": "2023-04-07T13:01:59.275Z"
   },
   {
    "duration": 156,
    "start_time": "2023-04-07T13:01:59.339Z"
   },
   {
    "duration": 18,
    "start_time": "2023-04-07T13:02:20.113Z"
   },
   {
    "duration": 1176,
    "start_time": "2023-04-07T13:02:37.619Z"
   },
   {
    "duration": 175,
    "start_time": "2023-04-07T13:02:38.797Z"
   },
   {
    "duration": 21,
    "start_time": "2023-04-07T13:02:38.974Z"
   },
   {
    "duration": 7,
    "start_time": "2023-04-07T13:02:38.997Z"
   },
   {
    "duration": 20,
    "start_time": "2023-04-07T13:02:39.006Z"
   },
   {
    "duration": 139,
    "start_time": "2023-04-07T13:02:39.028Z"
   },
   {
    "duration": 6,
    "start_time": "2023-04-07T13:02:39.168Z"
   },
   {
    "duration": 294,
    "start_time": "2023-04-07T13:02:39.175Z"
   },
   {
    "duration": 23,
    "start_time": "2023-04-07T13:02:39.471Z"
   },
   {
    "duration": 45,
    "start_time": "2023-04-07T13:02:39.496Z"
   },
   {
    "duration": 21,
    "start_time": "2023-04-07T13:02:39.543Z"
   },
   {
    "duration": 7,
    "start_time": "2023-04-07T13:02:39.566Z"
   },
   {
    "duration": 23,
    "start_time": "2023-04-07T13:02:39.575Z"
   },
   {
    "duration": 455,
    "start_time": "2023-04-07T13:02:39.599Z"
   },
   {
    "duration": 70,
    "start_time": "2023-04-07T13:02:40.062Z"
   },
   {
    "duration": 45,
    "start_time": "2023-04-07T13:02:40.134Z"
   },
   {
    "duration": 65,
    "start_time": "2023-04-07T13:02:40.181Z"
   },
   {
    "duration": 128,
    "start_time": "2023-04-07T13:02:40.261Z"
   },
   {
    "duration": 1201,
    "start_time": "2023-04-07T13:03:45.490Z"
   },
   {
    "duration": 170,
    "start_time": "2023-04-07T13:03:46.693Z"
   },
   {
    "duration": 24,
    "start_time": "2023-04-07T13:03:46.865Z"
   },
   {
    "duration": 8,
    "start_time": "2023-04-07T13:03:46.892Z"
   },
   {
    "duration": 22,
    "start_time": "2023-04-07T13:03:46.902Z"
   },
   {
    "duration": 144,
    "start_time": "2023-04-07T13:03:46.926Z"
   },
   {
    "duration": 6,
    "start_time": "2023-04-07T13:03:47.072Z"
   },
   {
    "duration": 356,
    "start_time": "2023-04-07T13:03:47.080Z"
   },
   {
    "duration": 31,
    "start_time": "2023-04-07T13:03:47.438Z"
   },
   {
    "duration": 41,
    "start_time": "2023-04-07T13:03:47.471Z"
   },
   {
    "duration": 8,
    "start_time": "2023-04-07T13:03:47.515Z"
   },
   {
    "duration": 39,
    "start_time": "2023-04-07T13:03:47.525Z"
   },
   {
    "duration": 6,
    "start_time": "2023-04-07T13:03:47.566Z"
   },
   {
    "duration": 455,
    "start_time": "2023-04-07T13:03:47.575Z"
   },
   {
    "duration": 70,
    "start_time": "2023-04-07T13:03:48.032Z"
   },
   {
    "duration": 28,
    "start_time": "2023-04-07T13:03:48.104Z"
   },
   {
    "duration": 78,
    "start_time": "2023-04-07T13:03:48.133Z"
   },
   {
    "duration": 124,
    "start_time": "2023-04-07T13:03:48.213Z"
   },
   {
    "duration": 24,
    "start_time": "2023-04-07T13:04:03.995Z"
   },
   {
    "duration": 1213,
    "start_time": "2023-04-07T13:04:08.644Z"
   },
   {
    "duration": 182,
    "start_time": "2023-04-07T13:04:09.859Z"
   },
   {
    "duration": 23,
    "start_time": "2023-04-07T13:04:10.043Z"
   },
   {
    "duration": 11,
    "start_time": "2023-04-07T13:04:10.068Z"
   },
   {
    "duration": 38,
    "start_time": "2023-04-07T13:04:10.082Z"
   },
   {
    "duration": 115,
    "start_time": "2023-04-07T13:04:10.121Z"
   },
   {
    "duration": 7,
    "start_time": "2023-04-07T13:04:10.238Z"
   },
   {
    "duration": 268,
    "start_time": "2023-04-07T13:04:10.247Z"
   },
   {
    "duration": 22,
    "start_time": "2023-04-07T13:04:10.517Z"
   },
   {
    "duration": 48,
    "start_time": "2023-04-07T13:04:10.541Z"
   },
   {
    "duration": 8,
    "start_time": "2023-04-07T13:04:10.591Z"
   },
   {
    "duration": 8,
    "start_time": "2023-04-07T13:04:10.601Z"
   },
   {
    "duration": 5,
    "start_time": "2023-04-07T13:04:10.611Z"
   },
   {
    "duration": 470,
    "start_time": "2023-04-07T13:04:10.619Z"
   },
   {
    "duration": 81,
    "start_time": "2023-04-07T13:04:11.091Z"
   },
   {
    "duration": 28,
    "start_time": "2023-04-07T13:04:11.174Z"
   },
   {
    "duration": 83,
    "start_time": "2023-04-07T13:04:11.204Z"
   },
   {
    "duration": 13,
    "start_time": "2023-04-07T13:04:11.289Z"
   },
   {
    "duration": 1277,
    "start_time": "2023-04-07T13:05:38.471Z"
   },
   {
    "duration": 178,
    "start_time": "2023-04-07T13:05:39.750Z"
   },
   {
    "duration": 32,
    "start_time": "2023-04-07T13:05:39.930Z"
   },
   {
    "duration": 11,
    "start_time": "2023-04-07T13:05:39.964Z"
   },
   {
    "duration": 22,
    "start_time": "2023-04-07T13:05:39.977Z"
   },
   {
    "duration": 135,
    "start_time": "2023-04-07T13:05:40.001Z"
   },
   {
    "duration": 6,
    "start_time": "2023-04-07T13:05:40.138Z"
   },
   {
    "duration": 275,
    "start_time": "2023-04-07T13:05:40.145Z"
   },
   {
    "duration": 31,
    "start_time": "2023-04-07T13:05:40.422Z"
   },
   {
    "duration": 32,
    "start_time": "2023-04-07T13:05:40.463Z"
   },
   {
    "duration": 7,
    "start_time": "2023-04-07T13:05:40.497Z"
   },
   {
    "duration": 8,
    "start_time": "2023-04-07T13:05:40.505Z"
   },
   {
    "duration": 6,
    "start_time": "2023-04-07T13:05:40.514Z"
   },
   {
    "duration": 477,
    "start_time": "2023-04-07T13:05:40.521Z"
   },
   {
    "duration": 83,
    "start_time": "2023-04-07T13:05:40.999Z"
   },
   {
    "duration": 31,
    "start_time": "2023-04-07T13:05:41.083Z"
   },
   {
    "duration": 83,
    "start_time": "2023-04-07T13:05:41.116Z"
   },
   {
    "duration": 14,
    "start_time": "2023-04-07T13:05:41.201Z"
   },
   {
    "duration": 1236,
    "start_time": "2023-04-07T13:06:43.489Z"
   },
   {
    "duration": 175,
    "start_time": "2023-04-07T13:06:44.726Z"
   },
   {
    "duration": 23,
    "start_time": "2023-04-07T13:06:44.902Z"
   },
   {
    "duration": 8,
    "start_time": "2023-04-07T13:06:44.927Z"
   },
   {
    "duration": 43,
    "start_time": "2023-04-07T13:06:44.936Z"
   },
   {
    "duration": 127,
    "start_time": "2023-04-07T13:06:44.981Z"
   },
   {
    "duration": 7,
    "start_time": "2023-04-07T13:06:45.111Z"
   },
   {
    "duration": 277,
    "start_time": "2023-04-07T13:06:45.120Z"
   },
   {
    "duration": 25,
    "start_time": "2023-04-07T13:06:45.399Z"
   },
   {
    "duration": 51,
    "start_time": "2023-04-07T13:06:45.427Z"
   },
   {
    "duration": 7,
    "start_time": "2023-04-07T13:06:45.480Z"
   },
   {
    "duration": 7,
    "start_time": "2023-04-07T13:06:45.489Z"
   },
   {
    "duration": 6,
    "start_time": "2023-04-07T13:06:45.497Z"
   },
   {
    "duration": 465,
    "start_time": "2023-04-07T13:06:45.504Z"
   },
   {
    "duration": 67,
    "start_time": "2023-04-07T13:06:45.971Z"
   },
   {
    "duration": 60,
    "start_time": "2023-04-07T13:06:46.040Z"
   },
   {
    "duration": 83,
    "start_time": "2023-04-07T13:06:46.101Z"
   },
   {
    "duration": 15,
    "start_time": "2023-04-07T13:06:46.186Z"
   },
   {
    "duration": 1193,
    "start_time": "2023-04-07T13:07:37.962Z"
   },
   {
    "duration": 174,
    "start_time": "2023-04-07T13:07:39.156Z"
   },
   {
    "duration": 22,
    "start_time": "2023-04-07T13:07:39.331Z"
   },
   {
    "duration": 20,
    "start_time": "2023-04-07T13:07:39.362Z"
   },
   {
    "duration": 52,
    "start_time": "2023-04-07T13:07:39.384Z"
   },
   {
    "duration": 115,
    "start_time": "2023-04-07T13:07:39.437Z"
   },
   {
    "duration": 5,
    "start_time": "2023-04-07T13:07:39.554Z"
   },
   {
    "duration": 290,
    "start_time": "2023-04-07T13:07:39.561Z"
   },
   {
    "duration": 26,
    "start_time": "2023-04-07T13:07:39.854Z"
   },
   {
    "duration": 33,
    "start_time": "2023-04-07T13:07:39.883Z"
   },
   {
    "duration": 10,
    "start_time": "2023-04-07T13:07:39.918Z"
   },
   {
    "duration": 33,
    "start_time": "2023-04-07T13:07:39.930Z"
   },
   {
    "duration": 6,
    "start_time": "2023-04-07T13:07:39.966Z"
   },
   {
    "duration": 444,
    "start_time": "2023-04-07T13:07:39.974Z"
   },
   {
    "duration": 82,
    "start_time": "2023-04-07T13:07:40.420Z"
   },
   {
    "duration": 29,
    "start_time": "2023-04-07T13:07:40.504Z"
   },
   {
    "duration": 78,
    "start_time": "2023-04-07T13:07:40.535Z"
   },
   {
    "duration": 14,
    "start_time": "2023-04-07T13:07:40.615Z"
   },
   {
    "duration": 14,
    "start_time": "2023-04-07T13:08:01.055Z"
   },
   {
    "duration": 11,
    "start_time": "2023-04-07T13:08:18.042Z"
   },
   {
    "duration": 1221,
    "start_time": "2023-04-07T13:08:47.092Z"
   },
   {
    "duration": 172,
    "start_time": "2023-04-07T13:08:48.315Z"
   },
   {
    "duration": 21,
    "start_time": "2023-04-07T13:08:48.489Z"
   },
   {
    "duration": 9,
    "start_time": "2023-04-07T13:08:48.512Z"
   },
   {
    "duration": 41,
    "start_time": "2023-04-07T13:08:48.522Z"
   },
   {
    "duration": 125,
    "start_time": "2023-04-07T13:08:48.564Z"
   },
   {
    "duration": 5,
    "start_time": "2023-04-07T13:08:48.691Z"
   },
   {
    "duration": 276,
    "start_time": "2023-04-07T13:08:48.697Z"
   },
   {
    "duration": 22,
    "start_time": "2023-04-07T13:08:48.975Z"
   },
   {
    "duration": 39,
    "start_time": "2023-04-07T13:08:48.999Z"
   },
   {
    "duration": 8,
    "start_time": "2023-04-07T13:08:49.061Z"
   },
   {
    "duration": 6,
    "start_time": "2023-04-07T13:08:49.071Z"
   },
   {
    "duration": 5,
    "start_time": "2023-04-07T13:08:49.079Z"
   },
   {
    "duration": 458,
    "start_time": "2023-04-07T13:08:49.085Z"
   },
   {
    "duration": 67,
    "start_time": "2023-04-07T13:08:49.545Z"
   },
   {
    "duration": 49,
    "start_time": "2023-04-07T13:08:49.614Z"
   },
   {
    "duration": 64,
    "start_time": "2023-04-07T13:08:49.665Z"
   },
   {
    "duration": 12,
    "start_time": "2023-04-07T13:08:49.730Z"
   },
   {
    "duration": 18,
    "start_time": "2023-04-07T13:09:06.436Z"
   },
   {
    "duration": 1262,
    "start_time": "2023-04-07T13:09:30.030Z"
   },
   {
    "duration": 193,
    "start_time": "2023-04-07T13:09:31.294Z"
   },
   {
    "duration": 26,
    "start_time": "2023-04-07T13:09:31.488Z"
   },
   {
    "duration": 17,
    "start_time": "2023-04-07T13:09:31.516Z"
   },
   {
    "duration": 35,
    "start_time": "2023-04-07T13:09:31.536Z"
   },
   {
    "duration": 129,
    "start_time": "2023-04-07T13:09:31.573Z"
   },
   {
    "duration": 5,
    "start_time": "2023-04-07T13:09:31.704Z"
   },
   {
    "duration": 287,
    "start_time": "2023-04-07T13:09:31.710Z"
   },
   {
    "duration": 21,
    "start_time": "2023-04-07T13:09:31.999Z"
   },
   {
    "duration": 46,
    "start_time": "2023-04-07T13:09:32.021Z"
   },
   {
    "duration": 7,
    "start_time": "2023-04-07T13:09:32.069Z"
   },
   {
    "duration": 13,
    "start_time": "2023-04-07T13:09:32.077Z"
   },
   {
    "duration": 21,
    "start_time": "2023-04-07T13:09:32.092Z"
   },
   {
    "duration": 448,
    "start_time": "2023-04-07T13:09:32.116Z"
   },
   {
    "duration": 67,
    "start_time": "2023-04-07T13:09:32.566Z"
   },
   {
    "duration": 50,
    "start_time": "2023-04-07T13:09:32.635Z"
   },
   {
    "duration": 79,
    "start_time": "2023-04-07T13:09:32.687Z"
   },
   {
    "duration": 15,
    "start_time": "2023-04-07T13:09:32.767Z"
   },
   {
    "duration": 113,
    "start_time": "2023-04-07T13:10:00.131Z"
   },
   {
    "duration": 11,
    "start_time": "2023-04-07T13:10:08.319Z"
   },
   {
    "duration": 1244,
    "start_time": "2023-04-07T13:18:04.758Z"
   },
   {
    "duration": 182,
    "start_time": "2023-04-07T13:18:06.004Z"
   },
   {
    "duration": 22,
    "start_time": "2023-04-07T13:18:06.190Z"
   },
   {
    "duration": 9,
    "start_time": "2023-04-07T13:18:06.215Z"
   },
   {
    "duration": 37,
    "start_time": "2023-04-07T13:18:06.225Z"
   },
   {
    "duration": 125,
    "start_time": "2023-04-07T13:18:06.264Z"
   },
   {
    "duration": 6,
    "start_time": "2023-04-07T13:18:06.390Z"
   },
   {
    "duration": 282,
    "start_time": "2023-04-07T13:18:06.397Z"
   },
   {
    "duration": 21,
    "start_time": "2023-04-07T13:18:06.681Z"
   },
   {
    "duration": 38,
    "start_time": "2023-04-07T13:18:06.705Z"
   },
   {
    "duration": 14,
    "start_time": "2023-04-07T13:18:06.762Z"
   },
   {
    "duration": 20,
    "start_time": "2023-04-07T13:18:06.777Z"
   },
   {
    "duration": 44,
    "start_time": "2023-04-07T13:18:06.799Z"
   },
   {
    "duration": 462,
    "start_time": "2023-04-07T13:18:06.845Z"
   },
   {
    "duration": 79,
    "start_time": "2023-04-07T13:18:07.309Z"
   },
   {
    "duration": 38,
    "start_time": "2023-04-07T13:18:07.389Z"
   },
   {
    "duration": 86,
    "start_time": "2023-04-07T13:18:07.429Z"
   },
   {
    "duration": 14,
    "start_time": "2023-04-07T13:18:07.517Z"
   },
   {
    "duration": 1170,
    "start_time": "2023-04-07T13:47:45.109Z"
   },
   {
    "duration": 185,
    "start_time": "2023-04-07T13:47:46.281Z"
   },
   {
    "duration": 23,
    "start_time": "2023-04-07T13:47:46.467Z"
   },
   {
    "duration": 8,
    "start_time": "2023-04-07T13:47:46.491Z"
   },
   {
    "duration": 21,
    "start_time": "2023-04-07T13:47:46.501Z"
   },
   {
    "duration": 134,
    "start_time": "2023-04-07T13:47:46.523Z"
   },
   {
    "duration": 5,
    "start_time": "2023-04-07T13:47:46.661Z"
   },
   {
    "duration": 276,
    "start_time": "2023-04-07T13:47:46.668Z"
   },
   {
    "duration": 26,
    "start_time": "2023-04-07T13:47:46.946Z"
   },
   {
    "duration": 32,
    "start_time": "2023-04-07T13:47:46.974Z"
   },
   {
    "duration": 8,
    "start_time": "2023-04-07T13:47:47.007Z"
   },
   {
    "duration": 10,
    "start_time": "2023-04-07T13:47:47.016Z"
   },
   {
    "duration": 35,
    "start_time": "2023-04-07T13:47:47.028Z"
   },
   {
    "duration": 471,
    "start_time": "2023-04-07T13:47:47.066Z"
   },
   {
    "duration": 69,
    "start_time": "2023-04-07T13:47:47.538Z"
   },
   {
    "duration": 29,
    "start_time": "2023-04-07T13:47:47.608Z"
   },
   {
    "duration": 77,
    "start_time": "2023-04-07T13:47:47.639Z"
   },
   {
    "duration": 15,
    "start_time": "2023-04-07T13:47:47.718Z"
   },
   {
    "duration": 60,
    "start_time": "2023-04-07T13:47:47.734Z"
   },
   {
    "duration": 33,
    "start_time": "2023-04-07T13:48:08.492Z"
   },
   {
    "duration": 83,
    "start_time": "2023-04-07T14:12:26.010Z"
   },
   {
    "duration": 1479,
    "start_time": "2023-04-07T14:14:36.810Z"
   },
   {
    "duration": 265,
    "start_time": "2023-04-07T14:14:38.292Z"
   },
   {
    "duration": 40,
    "start_time": "2023-04-07T14:14:38.564Z"
   },
   {
    "duration": 12,
    "start_time": "2023-04-07T14:14:38.610Z"
   },
   {
    "duration": 52,
    "start_time": "2023-04-07T14:14:38.624Z"
   },
   {
    "duration": 156,
    "start_time": "2023-04-07T14:14:38.680Z"
   },
   {
    "duration": 7,
    "start_time": "2023-04-07T14:14:38.839Z"
   },
   {
    "duration": 299,
    "start_time": "2023-04-07T14:14:38.847Z"
   },
   {
    "duration": 29,
    "start_time": "2023-04-07T14:14:39.149Z"
   },
   {
    "duration": 56,
    "start_time": "2023-04-07T14:14:39.181Z"
   },
   {
    "duration": 25,
    "start_time": "2023-04-07T14:14:39.239Z"
   },
   {
    "duration": 14,
    "start_time": "2023-04-07T14:14:39.267Z"
   },
   {
    "duration": 7,
    "start_time": "2023-04-07T14:14:39.283Z"
   },
   {
    "duration": 506,
    "start_time": "2023-04-07T14:14:39.292Z"
   },
   {
    "duration": 98,
    "start_time": "2023-04-07T14:14:39.801Z"
   },
   {
    "duration": 36,
    "start_time": "2023-04-07T14:14:39.901Z"
   },
   {
    "duration": 99,
    "start_time": "2023-04-07T14:14:39.939Z"
   },
   {
    "duration": 43,
    "start_time": "2023-04-07T14:14:40.040Z"
   },
   {
    "duration": 110,
    "start_time": "2023-04-07T14:14:40.086Z"
   },
   {
    "duration": 72,
    "start_time": "2023-04-07T14:14:40.199Z"
   },
   {
    "duration": 0,
    "start_time": "2023-04-07T14:14:40.275Z"
   },
   {
    "duration": 73,
    "start_time": "2023-04-07T14:15:11.165Z"
   },
   {
    "duration": 79,
    "start_time": "2023-04-07T14:17:24.634Z"
   },
   {
    "duration": 46,
    "start_time": "2023-04-07T14:17:37.136Z"
   },
   {
    "duration": 71,
    "start_time": "2023-04-07T14:17:37.982Z"
   },
   {
    "duration": 7,
    "start_time": "2023-04-07T14:17:39.844Z"
   },
   {
    "duration": 101,
    "start_time": "2023-04-07T14:18:09.075Z"
   },
   {
    "duration": 1278,
    "start_time": "2023-04-07T14:18:39.190Z"
   },
   {
    "duration": 52,
    "start_time": "2023-04-07T14:18:48.370Z"
   },
   {
    "duration": 1288,
    "start_time": "2023-04-07T14:19:35.263Z"
   },
   {
    "duration": 186,
    "start_time": "2023-04-07T14:19:36.553Z"
   },
   {
    "duration": 32,
    "start_time": "2023-04-07T14:19:36.741Z"
   },
   {
    "duration": 11,
    "start_time": "2023-04-07T14:19:36.777Z"
   },
   {
    "duration": 33,
    "start_time": "2023-04-07T14:19:36.790Z"
   },
   {
    "duration": 160,
    "start_time": "2023-04-07T14:19:36.825Z"
   },
   {
    "duration": 6,
    "start_time": "2023-04-07T14:19:36.987Z"
   },
   {
    "duration": 299,
    "start_time": "2023-04-07T14:19:36.994Z"
   },
   {
    "duration": 34,
    "start_time": "2023-04-07T14:19:37.296Z"
   },
   {
    "duration": 52,
    "start_time": "2023-04-07T14:19:37.333Z"
   },
   {
    "duration": 9,
    "start_time": "2023-04-07T14:19:37.386Z"
   },
   {
    "duration": 12,
    "start_time": "2023-04-07T14:19:37.398Z"
   },
   {
    "duration": 13,
    "start_time": "2023-04-07T14:19:37.413Z"
   },
   {
    "duration": 670,
    "start_time": "2023-04-07T14:19:37.428Z"
   },
   {
    "duration": 119,
    "start_time": "2023-04-07T14:19:38.100Z"
   },
   {
    "duration": 61,
    "start_time": "2023-04-07T14:19:38.221Z"
   },
   {
    "duration": 107,
    "start_time": "2023-04-07T14:19:38.284Z"
   },
   {
    "duration": 22,
    "start_time": "2023-04-07T14:19:38.393Z"
   },
   {
    "duration": 71,
    "start_time": "2023-04-07T14:19:38.417Z"
   },
   {
    "duration": 131,
    "start_time": "2023-04-07T14:19:38.490Z"
   },
   {
    "duration": 10,
    "start_time": "2023-04-07T14:19:38.624Z"
   },
   {
    "duration": 182,
    "start_time": "2023-04-07T14:19:38.636Z"
   },
   {
    "duration": 195,
    "start_time": "2023-04-07T14:20:45.898Z"
   },
   {
    "duration": 1398,
    "start_time": "2023-04-07T14:21:05.341Z"
   },
   {
    "duration": 111,
    "start_time": "2023-04-07T14:21:16.521Z"
   },
   {
    "duration": 1224,
    "start_time": "2023-04-07T14:21:50.337Z"
   },
   {
    "duration": 155,
    "start_time": "2023-04-07T14:21:59.278Z"
   },
   {
    "duration": 205,
    "start_time": "2023-04-07T14:22:35.253Z"
   },
   {
    "duration": 3,
    "start_time": "2023-04-08T14:08:21.477Z"
   },
   {
    "duration": 102,
    "start_time": "2023-04-08T14:10:12.599Z"
   },
   {
    "duration": 89,
    "start_time": "2023-04-08T14:13:24.647Z"
   },
   {
    "duration": 1420,
    "start_time": "2023-04-08T14:30:37.106Z"
   },
   {
    "duration": 696,
    "start_time": "2023-04-08T14:30:38.529Z"
   },
   {
    "duration": 23,
    "start_time": "2023-04-08T14:30:39.227Z"
   },
   {
    "duration": 6,
    "start_time": "2023-04-08T14:30:39.253Z"
   },
   {
    "duration": 20,
    "start_time": "2023-04-08T14:30:39.261Z"
   },
   {
    "duration": 131,
    "start_time": "2023-04-08T14:30:39.283Z"
   },
   {
    "duration": 6,
    "start_time": "2023-04-08T14:30:39.417Z"
   },
   {
    "duration": 276,
    "start_time": "2023-04-08T14:30:39.425Z"
   },
   {
    "duration": 22,
    "start_time": "2023-04-08T14:30:39.703Z"
   },
   {
    "duration": 56,
    "start_time": "2023-04-08T14:30:39.728Z"
   },
   {
    "duration": 9,
    "start_time": "2023-04-08T14:30:39.786Z"
   },
   {
    "duration": 30,
    "start_time": "2023-04-08T14:30:39.797Z"
   },
   {
    "duration": 20,
    "start_time": "2023-04-08T14:30:39.828Z"
   },
   {
    "duration": 422,
    "start_time": "2023-04-08T14:30:39.851Z"
   },
   {
    "duration": 66,
    "start_time": "2023-04-08T14:30:40.275Z"
   },
   {
    "duration": 43,
    "start_time": "2023-04-08T14:30:40.343Z"
   },
   {
    "duration": 87,
    "start_time": "2023-04-08T14:30:40.388Z"
   },
   {
    "duration": 21,
    "start_time": "2023-04-08T14:30:40.478Z"
   },
   {
    "duration": 45,
    "start_time": "2023-04-08T14:30:40.501Z"
   },
   {
    "duration": 80,
    "start_time": "2023-04-08T14:30:40.548Z"
   },
   {
    "duration": 6,
    "start_time": "2023-04-08T14:30:40.630Z"
   },
   {
    "duration": 118,
    "start_time": "2023-04-08T14:30:40.637Z"
   },
   {
    "duration": 112,
    "start_time": "2023-04-08T14:30:40.762Z"
   },
   {
    "duration": 116,
    "start_time": "2023-04-08T14:30:40.876Z"
   },
   {
    "duration": 186,
    "start_time": "2023-04-08T14:30:40.994Z"
   },
   {
    "duration": 1210,
    "start_time": "2023-04-08T14:31:42.966Z"
   },
   {
    "duration": 209,
    "start_time": "2023-04-08T14:31:44.179Z"
   },
   {
    "duration": 22,
    "start_time": "2023-04-08T14:31:44.390Z"
   },
   {
    "duration": 8,
    "start_time": "2023-04-08T14:31:44.415Z"
   },
   {
    "duration": 41,
    "start_time": "2023-04-08T14:31:44.426Z"
   },
   {
    "duration": 120,
    "start_time": "2023-04-08T14:31:44.469Z"
   },
   {
    "duration": 6,
    "start_time": "2023-04-08T14:31:44.591Z"
   },
   {
    "duration": 273,
    "start_time": "2023-04-08T14:31:44.598Z"
   },
   {
    "duration": 21,
    "start_time": "2023-04-08T14:31:44.872Z"
   },
   {
    "duration": 34,
    "start_time": "2023-04-08T14:31:44.896Z"
   },
   {
    "duration": 30,
    "start_time": "2023-04-08T14:31:44.932Z"
   },
   {
    "duration": 8,
    "start_time": "2023-04-08T14:31:44.964Z"
   },
   {
    "duration": 6,
    "start_time": "2023-04-08T14:31:44.974Z"
   },
   {
    "duration": 443,
    "start_time": "2023-04-08T14:31:44.982Z"
   },
   {
    "duration": 72,
    "start_time": "2023-04-08T14:31:45.427Z"
   },
   {
    "duration": 28,
    "start_time": "2023-04-08T14:31:45.501Z"
   },
   {
    "duration": 77,
    "start_time": "2023-04-08T14:31:45.531Z"
   },
   {
    "duration": 14,
    "start_time": "2023-04-08T14:31:45.610Z"
   },
   {
    "duration": 50,
    "start_time": "2023-04-08T14:31:45.625Z"
   },
   {
    "duration": 67,
    "start_time": "2023-04-08T14:31:45.677Z"
   },
   {
    "duration": 19,
    "start_time": "2023-04-08T14:31:45.746Z"
   },
   {
    "duration": 117,
    "start_time": "2023-04-08T14:31:45.766Z"
   },
   {
    "duration": 103,
    "start_time": "2023-04-08T14:31:45.898Z"
   },
   {
    "duration": 113,
    "start_time": "2023-04-08T14:31:46.003Z"
   },
   {
    "duration": 173,
    "start_time": "2023-04-08T14:31:46.118Z"
   },
   {
    "duration": 1174,
    "start_time": "2023-04-08T14:33:04.231Z"
   },
   {
    "duration": 171,
    "start_time": "2023-04-08T14:33:05.408Z"
   },
   {
    "duration": 21,
    "start_time": "2023-04-08T14:33:05.581Z"
   },
   {
    "duration": 12,
    "start_time": "2023-04-08T14:33:05.604Z"
   },
   {
    "duration": 20,
    "start_time": "2023-04-08T14:33:05.617Z"
   },
   {
    "duration": 133,
    "start_time": "2023-04-08T14:33:05.639Z"
   },
   {
    "duration": 5,
    "start_time": "2023-04-08T14:33:05.774Z"
   },
   {
    "duration": 294,
    "start_time": "2023-04-08T14:33:05.781Z"
   },
   {
    "duration": 23,
    "start_time": "2023-04-08T14:33:06.078Z"
   },
   {
    "duration": 57,
    "start_time": "2023-04-08T14:33:06.105Z"
   },
   {
    "duration": 7,
    "start_time": "2023-04-08T14:33:06.164Z"
   },
   {
    "duration": 16,
    "start_time": "2023-04-08T14:33:06.173Z"
   },
   {
    "duration": 6,
    "start_time": "2023-04-08T14:33:06.190Z"
   },
   {
    "duration": 434,
    "start_time": "2023-04-08T14:33:06.198Z"
   },
   {
    "duration": 68,
    "start_time": "2023-04-08T14:33:06.635Z"
   },
   {
    "duration": 30,
    "start_time": "2023-04-08T14:33:06.705Z"
   },
   {
    "duration": 77,
    "start_time": "2023-04-08T14:33:06.737Z"
   },
   {
    "duration": 14,
    "start_time": "2023-04-08T14:33:06.816Z"
   },
   {
    "duration": 54,
    "start_time": "2023-04-08T14:33:06.832Z"
   },
   {
    "duration": 90,
    "start_time": "2023-04-08T14:33:06.888Z"
   },
   {
    "duration": 9,
    "start_time": "2023-04-08T14:33:06.980Z"
   },
   {
    "duration": 125,
    "start_time": "2023-04-08T14:33:06.991Z"
   },
   {
    "duration": 145,
    "start_time": "2023-04-08T14:33:07.118Z"
   },
   {
    "duration": 121,
    "start_time": "2023-04-08T14:33:07.265Z"
   },
   {
    "duration": 187,
    "start_time": "2023-04-08T14:33:07.387Z"
   },
   {
    "duration": 1253,
    "start_time": "2023-04-08T16:00:16.285Z"
   },
   {
    "duration": 189,
    "start_time": "2023-04-08T16:00:17.540Z"
   },
   {
    "duration": 24,
    "start_time": "2023-04-08T16:00:17.731Z"
   },
   {
    "duration": 8,
    "start_time": "2023-04-08T16:00:17.757Z"
   },
   {
    "duration": 39,
    "start_time": "2023-04-08T16:00:17.767Z"
   },
   {
    "duration": 131,
    "start_time": "2023-04-08T16:00:17.808Z"
   },
   {
    "duration": 5,
    "start_time": "2023-04-08T16:00:17.941Z"
   },
   {
    "duration": 303,
    "start_time": "2023-04-08T16:00:17.948Z"
   },
   {
    "duration": 25,
    "start_time": "2023-04-08T16:00:18.253Z"
   },
   {
    "duration": 54,
    "start_time": "2023-04-08T16:00:18.280Z"
   },
   {
    "duration": 8,
    "start_time": "2023-04-08T16:00:18.336Z"
   },
   {
    "duration": 14,
    "start_time": "2023-04-08T16:00:18.346Z"
   },
   {
    "duration": 18,
    "start_time": "2023-04-08T16:00:18.362Z"
   },
   {
    "duration": 460,
    "start_time": "2023-04-08T16:00:18.383Z"
   },
   {
    "duration": 66,
    "start_time": "2023-04-08T16:00:18.845Z"
   },
   {
    "duration": 48,
    "start_time": "2023-04-08T16:00:18.913Z"
   },
   {
    "duration": 80,
    "start_time": "2023-04-08T16:00:18.963Z"
   },
   {
    "duration": 14,
    "start_time": "2023-04-08T16:00:19.045Z"
   },
   {
    "duration": 36,
    "start_time": "2023-04-08T16:00:19.061Z"
   },
   {
    "duration": 81,
    "start_time": "2023-04-08T16:00:19.099Z"
   },
   {
    "duration": 6,
    "start_time": "2023-04-08T16:00:19.182Z"
   },
   {
    "duration": 116,
    "start_time": "2023-04-08T16:00:19.189Z"
   },
   {
    "duration": 117,
    "start_time": "2023-04-08T16:00:19.307Z"
   },
   {
    "duration": 112,
    "start_time": "2023-04-08T16:00:19.426Z"
   },
   {
    "duration": 163,
    "start_time": "2023-04-08T16:00:19.540Z"
   }
  ],
  "kernelspec": {
   "display_name": "Python 3 (ipykernel)",
   "language": "python",
   "name": "python3"
  },
  "language_info": {
   "codemirror_mode": {
    "name": "ipython",
    "version": 3
   },
   "file_extension": ".py",
   "mimetype": "text/x-python",
   "name": "python",
   "nbconvert_exporter": "python",
   "pygments_lexer": "ipython3",
   "version": "3.9.13"
  },
  "toc": {
   "base_numbering": 1,
   "nav_menu": {},
   "number_sections": true,
   "sideBar": true,
   "skip_h1_title": true,
   "title_cell": "Table of Contents",
   "title_sidebar": "Contents",
   "toc_cell": false,
   "toc_position": {},
   "toc_section_display": true,
   "toc_window_display": false
  }
 },
 "nbformat": 4,
 "nbformat_minor": 2
}
